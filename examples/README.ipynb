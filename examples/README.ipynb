{
 "cells": [
  {
   "cell_type": "markdown",
   "id": "9b146ad9-aabc-4226-bd5f-824cc57c3a2b",
   "metadata": {},
   "source": [
    "# CFiddle Example Gallery\n",
    "\n",
    "Here are some examples of how to use CFiddle to explore different aspects of compilation and execution.\n",
    "\n",
    "For more details, checkout [the documentation](https://cfiddle.readthedocs.org/).\n",
    "\n",
    "1. [Tour/Tutorial](Tour.ipynb) -- Learn about core CFiddle interface\n",
    "2. [Sorting](sorting.ipynb) -- Compare the performance of several sorting algorithms.\n",
    "3. A [CFiddle-based version](CompilerExplorer.ipynb) of [Compiler Explorer](http://godbolt.org)\n",
    "4. Explore [why virtual function calls are expensive](VirtualMethods.ipynb).\n",
    "5. Use hardware performance counters to understand [what makes `std::unordered_set` so much faster than `std::set`](PerfCounters.ipynb).\n",
    "6. Measure the [size and latency](CacheMeasurement.ipynb) of your caches.\n",
    "7. Preliminary [Go support](Go.ipynb).\n",
    "8. It can extract [debugging symbols](DebuggingSymbols.ipynb).\n"
   ]
  },
  {
   "cell_type": "code",
   "execution_count": null,
   "id": "85271d33-6b5a-4fdb-b0b1-267a94abbba8",
   "metadata": {},
   "outputs": [],
   "source": []
  }
 ],
 "metadata": {
  "kernelspec": {
   "display_name": "Python 3 (ipykernel)",
   "language": "python",
   "name": "python3"
  },
  "language_info": {
   "codemirror_mode": {
    "name": "ipython",
    "version": 3
   },
   "file_extension": ".py",
   "mimetype": "text/x-python",
   "name": "python",
   "nbconvert_exporter": "python",
   "pygments_lexer": "ipython3",
   "version": "3.9.7"
  }
 },
 "nbformat": 4,
 "nbformat_minor": 5
}
