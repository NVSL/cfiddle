{
 "cells": [
  {
   "cell_type": "markdown",
   "id": "9b146ad9-aabc-4226-bd5f-824cc57c3a2b",
   "metadata": {},
   "source": [
    "# Fiddle Example Gallery\n",
    "\n",
    "1. [Sorting](sorting.ipynb)\n",
    "2. A [Fiddle-based version](CompilerExplorer.ipynb) of [Compiler Explorer](http://godbolt.org)."
   ]
  },
  {
   "cell_type": "code",
   "execution_count": null,
   "id": "c7b93ec5-b297-4e83-b478-7948784a95ed",
   "metadata": {},
   "outputs": [],
   "source": []
  }
 ],
 "metadata": {
  "kernelspec": {
   "display_name": "Python 3 (ipykernel)",
   "language": "python",
   "name": "python3"
  },
  "language_info": {
   "codemirror_mode": {
    "name": "ipython",
    "version": 3
   },
   "file_extension": ".py",
   "mimetype": "text/x-python",
   "name": "python",
   "nbconvert_exporter": "python",
   "pygments_lexer": "ipython3",
   "version": "3.9.7"
  }
 },
 "nbformat": 4,
 "nbformat_minor": 5
}
