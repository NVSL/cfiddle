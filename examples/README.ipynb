{
 "cells": [
  {
   "cell_type": "markdown",
   "id": "9b146ad9-aabc-4226-bd5f-824cc57c3a2b",
   "metadata": {},
   "source": [
    "# Fiddle Example Gallery\n",
    "\n",
    "1. [Sorting](sorting.ipynb)\n",
    "2. A [Fiddle-based version](CompilerExplorer.ipynb) of [Compiler Explorer](http://godbolt.org).\n",
    "3. Let's find out [why virtual function calls are expensive](VirtualMethods.ipynb)."
   ]
  }
 ],
 "metadata": {
  "kernelspec": {
   "display_name": "Python 3 (ipykernel)",
   "language": "python",
   "name": "python3"
  },
  "language_info": {
   "codemirror_mode": {
    "name": "ipython",
    "version": 3
   },
   "file_extension": ".py",
   "mimetype": "text/x-python",
   "name": "python",
   "nbconvert_exporter": "python",
   "pygments_lexer": "ipython3",
   "version": "3.9.7"
  }
 },
 "nbformat": 4,
 "nbformat_minor": 5
}
