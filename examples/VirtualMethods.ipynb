{
 "cells": [
  {
   "cell_type": "markdown",
   "id": "1b76a26a-311f-4f65-b25d-bb799f3642c7",
   "metadata": {},
   "source": [
    "# The Cost of Virtual Method Calls"
   ]
  },
  {
   "cell_type": "markdown",
   "id": "50aa9ac9-9e57-48a2-97a1-2a54f7dd4e6a",
   "metadata": {},
   "source": [
    "Virtual methods are widely thought to be slower than non-virtual methods.  Let's explore whether and why that might be."
   ]
  },
  {
   "cell_type": "code",
   "execution_count": null,
   "id": "08c19f71-fa2e-4f10-97ca-29dd451749e9",
   "metadata": {},
   "outputs": [],
   "source": [
    "from cfiddle import *\n",
    "from cfiddle.jupyter import *\n"
   ]
  },
  {
   "cell_type": "markdown",
   "id": "93d79137-083b-453c-98ad-fd938e7abd9c",
   "metadata": {},
   "source": [
    "Here's a simple test that invokes the same function statically and dynamically.  We'll compile it with basic optimizations but not inlining so we can see the cost of the function call itself."
   ]
  },
  {
   "cell_type": "code",
   "execution_count": null,
   "id": "02d706b1-8c39-448b-a663-2fd4a53f166c",
   "metadata": {},
   "outputs": [],
   "source": [
    "static_vs_virtual = code(r\"\"\"\n",
    "#include\"cfiddle.hpp\"\n",
    "\n",
    "class A {\n",
    "public:\n",
    "    virtual int foo(int x) {\n",
    "        int s = 0;\n",
    "        for(int i = 0; i < 10; i++) {\n",
    "            s += x;\n",
    "        }\n",
    "        return s;\n",
    "    }\n",
    "};\n",
    "\n",
    "extern \"C\"\n",
    "int static_call(uint64_t iterations) {\n",
    "\tA a;\n",
    "\tregister int sum = 0;\n",
    "\t\n",
    "    start_measurement();\n",
    "\tfor(register uint64_t i = 0; i < iterations; i++)\n",
    "\t\tsum += a.foo(4);\n",
    "    end_measurement();\n",
    "\n",
    "\treturn sum;\n",
    "}\n",
    "\n",
    "\n",
    "extern \"C\"\n",
    "int virtual_call(uint64_t iterations) {\n",
    "\tregister A * a = new A();\n",
    "\tregister int sum = 0;\n",
    "\t\n",
    "    start_measurement();\n",
    "\tfor(register uint64_t i = 0; i < iterations; i++)\n",
    "\t\tsum += a->foo(4);\n",
    "\tend_measurement();\n",
    "\treturn sum;\n",
    "}\n",
    "\n",
    "\"\"\")"
   ]
  },
  {
   "cell_type": "markdown",
   "id": "6b37e4a7-7b1e-4ef4-b814-158b6aea4278",
   "metadata": {},
   "source": [
    "## The Cost of Calling A Function"
   ]
  },
  {
   "cell_type": "code",
   "execution_count": null,
   "id": "e1efcfca-036b-438f-a08a-e4f58d037313",
   "metadata": {},
   "outputs": [],
   "source": [
    "exe = build(static_vs_virtual, build_parameters=arg_map(OPTIMIZE=\"-Og -fno-inline\"))\n",
    "display(compare([exe[0].cfg(\"static_call\"), exe[0].cfg(\"virtual_call\")], [\"static_call\", \"virtual_call\"]))\n",
    "results = run(executable=exe, function=[\"static_call\", \"virtual_call\"], arguments=arg_map(iterations=100000000))\n",
    "display(results.as_df())"
   ]
  },
  {
   "cell_type": "markdown",
   "id": "0b771906-82dd-4388-8a71-285825af5fa0",
   "metadata": {},
   "source": [
    "There's not much difference:  The virtual invocation uses one more instruction, but the performance difference is in the noise."
   ]
  },
  {
   "cell_type": "markdown",
   "id": "400b6fee-63fe-480b-8bce-0d94f19322d5",
   "metadata": {},
   "source": [
    "## With Inlining"
   ]
  },
  {
   "cell_type": "markdown",
   "id": "1445a86f-ee1e-4bd0-b682-083e1540a2b4",
   "metadata": {},
   "source": [
    "Now, we'll turn on `-O3` and see what happens."
   ]
  },
  {
   "cell_type": "code",
   "execution_count": null,
   "id": "4ae5beb5-8304-4993-a14e-051f90b3cde6",
   "metadata": {},
   "outputs": [],
   "source": [
    "exe = build(static_vs_virtual, build_parameters=arg_map(OPTIMIZE=\"-O3\"))\n",
    "display(compare([exe[0].cfg(\"static_call\"), exe[0].cfg(\"virtual_call\")], [\"static_call -O3\", \"virtual_call -O3\"]))\n",
    "results = run(executable=exe, function=[\"static_call\", \"virtual_call\"], arguments=arg_map(iterations=[100000000]))\n",
    "display(results.as_df())"
   ]
  },
  {
   "cell_type": "markdown",
   "id": "36aca8fa-66cf-4ce9-87ae-6dde56b68e98",
   "metadata": {},
   "source": [
    "Wow!  The static call is inlined away -- there's nothing left and the execution time is constant.  The virtual invocation is faster with `-O3` (and to be honest, I'm not sure what the compiler did), but execution time is still linear in `iterations` (Try it and see!). \n",
    "\n",
    "Now we can see the real cost of virtual function calls:  It's not that virtual function calls are expensive, it's that they the cripple the compiler's ability to inline and perform the attendant optimizations (in this case constant propagation and static evaluation)."
   ]
  },
  {
   "cell_type": "code",
   "execution_count": null,
   "id": "241d9785-a2f7-4fa2-abe1-797604beb969",
   "metadata": {},
   "outputs": [],
   "source": []
  }
 ],
 "metadata": {
  "kernelspec": {
   "display_name": "Python 3 (ipykernel)",
   "language": "python",
   "name": "python3"
  },
  "language_info": {
   "codemirror_mode": {
    "name": "ipython",
    "version": 3
   },
   "file_extension": ".py",
   "mimetype": "text/x-python",
   "name": "python",
   "nbconvert_exporter": "python",
   "pygments_lexer": "ipython3",
   "version": "3.9.7"
  }
 },
 "nbformat": 4,
 "nbformat_minor": 5
}
