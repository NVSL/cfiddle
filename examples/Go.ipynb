{
 "cells": [
  {
   "cell_type": "markdown",
   "id": "1aef42b0-e66b-42ef-996a-db4f34167540",
   "metadata": {},
   "source": [
    "# Compiling and Running Go Code"
   ]
  },
  {
   "cell_type": "markdown",
   "id": "a1ac5f7a-85cc-4db8-b5fc-e7fcd31e02b7",
   "metadata": {},
   "source": [
    "Cfiddle can compile and measure [Go](https://go.dev/)!\n",
    "\n",
    "There are few pieces missing:\n",
    "\n",
    "1. Generating assembly.\n",
    "2. Turning compiler optimizations on and off.\n",
    "\n",
    "If you're a Go hacker and would like support improved, please let me know, and/or submit a pull request.\n",
    "\n",
    "## Simple Example"
   ]
  },
  {
   "cell_type": "code",
   "execution_count": null,
   "id": "3f4eef69-3f3a-47e0-bc65-ff54e8b8600d",
   "metadata": {},
   "outputs": [],
   "source": [
    "%xmode Minimal\n",
    "from cfiddle import *"
   ]
  },
  {
   "cell_type": "code",
   "execution_count": null,
   "id": "8cb8153f-b1cc-43ea-a76b-b86ba13e6ee5",
   "metadata": {},
   "outputs": [],
   "source": [
    "source = code(r\"\"\"\n",
    "import \"sort\"\n",
    "// This 'export' comment exposes `run` so we can invoke it\n",
    "//export run\n",
    "func run(count int){\n",
    "    var arr = make([]int,count)\n",
    "    for i:=0;i<count;i++{\n",
    "        arr[i] = i;\n",
    "    }\n",
    "    C.start_measurement(nil) // pass either `nil` or a tag name to start_measurement()\n",
    "    sort.Ints(arr)\n",
    "    C.end_measurement()\n",
    "}\n",
    "\"\"\", language=\"go\")\n",
    "built = build(source, verbose=True)"
   ]
  },
  {
   "cell_type": "markdown",
   "id": "238a0bf3-5d4e-4053-8f81-469874107635",
   "metadata": {},
   "source": [
    "### CFiddle Boilerplate\n",
    "Cfiddle adds a bit of boilerplate to Go code.  Here's the whole file:"
   ]
  },
  {
   "cell_type": "code",
   "execution_count": null,
   "id": "31f8499b-c7dd-4cfd-b65f-25beb1fa7435",
   "metadata": {},
   "outputs": [],
   "source": [
    "display(built[0].source())"
   ]
  },
  {
   "cell_type": "markdown",
   "id": "461174b6-a5de-4db8-9979-99bfebf5d1af",
   "metadata": {},
   "source": [
    "### Run the Code"
   ]
  },
  {
   "cell_type": "code",
   "execution_count": null,
   "id": "4425ab66-e75d-4e9f-9705-0c7fb89100f0",
   "metadata": {},
   "outputs": [],
   "source": [
    "run(built, \"run\", arg_map(count=[1000,10000])).as_df()"
   ]
  },
  {
   "cell_type": "markdown",
   "id": "bf4db1cd-604d-4529-bc10-9ee1927b096a",
   "metadata": {},
   "source": [
    "### Check the CFG"
   ]
  },
  {
   "cell_type": "code",
   "execution_count": null,
   "id": "83ac4f40-133d-493a-be3b-1bec3720ad40",
   "metadata": {},
   "outputs": [],
   "source": [
    "built[0].cfg(\"run\")"
   ]
  },
  {
   "cell_type": "code",
   "execution_count": null,
   "id": "186cea5c",
   "metadata": {},
   "outputs": [],
   "source": []
  }
 ],
 "metadata": {
  "kernelspec": {
   "display_name": "Python 3 (ipykernel)",
   "language": "python",
   "name": "python3"
  },
  "language_info": {
   "codemirror_mode": {
    "name": "ipython",
    "version": 3
   },
   "file_extension": ".py",
   "mimetype": "text/x-python",
   "name": "python",
   "nbconvert_exporter": "python",
   "pygments_lexer": "ipython3",
   "version": "3.10.6"
  },
  "toc": {
   "base_numbering": 1,
   "nav_menu": {},
   "number_sections": true,
   "sideBar": true,
   "skip_h1_title": false,
   "title_cell": "Table of Contents",
   "title_sidebar": "Contents",
   "toc_cell": false,
   "toc_position": {},
   "toc_section_display": true,
   "toc_window_display": true
  }
 },
 "nbformat": 4,
 "nbformat_minor": 5
}
