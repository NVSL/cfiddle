{
 "cells": [
  {
   "cell_type": "markdown",
   "id": "7ccafe9f-213a-481b-8d71-53a172d2f96d",
   "metadata": {},
   "source": [
    "# Performance Counters"
   ]
  },
  {
   "cell_type": "markdown",
   "id": "8b633885-ade0-4ba0-9964-7ad70285f3f3",
   "metadata": {},
   "source": [
    "CFiddle provide easy access to hardware performance counters to count things like cache misses and branch mispredictions.\n",
    "\n",
    "<div class=\"alert alert-block alert-warning\">\n",
    "\n",
    "In order for performance counters to work, you need access to your hardware's performance counters.   You can check the [perf_event_open man page](https://man7.org/linux/man-pages/man2/perf_event_open.2.html) for details about how to enable the `perf_events` interface on your system (It's usually turned on by default).\n",
    "\n",
    "If you're in docker, you'll also need to start the container with `--privileged`.\n",
    "    \n",
    "</div>\n",
    "\n",
    "Let's use to investigate the performance difference between `std::ordered_set` and `std::set` in the C++ STL."
   ]
  },
  {
   "cell_type": "markdown",
   "id": "f2a40629-2538-42f3-88d4-e34ab30cc2a9",
   "metadata": {},
   "source": [
    "## The Code\n",
    "\n",
    "The code provides two functions that each fill a set with random integers.  We'll compile it with full optimizations."
   ]
  },
  {
   "cell_type": "code",
   "execution_count": null,
   "id": "cc19e5e8-958c-4593-9f26-b430f55a02ea",
   "metadata": {},
   "outputs": [],
   "source": [
    "%xmode Minimal\n",
    "from cfiddle import *\n",
    "from cfiddle.perfcount import *\n"
   ]
  },
  {
   "cell_type": "code",
   "execution_count": null,
   "id": "a66c6703-9cf3-460e-a072-be8a5ee4a344",
   "metadata": {},
   "outputs": [],
   "source": [
    "exe = build(code(r\"\"\"\n",
    "#include<set>\n",
    "#include<unordered_set>\n",
    "#include\"cfiddle.hpp\"\n",
    "\n",
    "extern \"C\"\n",
    "int build_set(int count) {\n",
    "    std::set<uint64_t> s;\n",
    "    uint64_t seed = 0xDEADBEEF;\n",
    "    start_measurement();\n",
    "    for(int i= 0; i < count; i++) {\n",
    "        s.insert(fast_rand(&seed));\n",
    "    }\n",
    "    end_measurement();\n",
    "    return s.size();\n",
    "}\n",
    "\n",
    "extern \"C\"\n",
    "int build_unordered_set(int count) {\n",
    "    std::unordered_set<uint64_t> s;\n",
    "    uint64_t seed = 0xDEADBEEF;\n",
    "    start_measurement();\n",
    "    for(int i= 0; i < count; i++) {\n",
    "        s.insert(fast_rand(&seed));\n",
    "    }\n",
    "    end_measurement();\n",
    "    return s.size();\n",
    "}\n",
    "\n",
    "\"\"\"), arg_map(OPTIMIZE=\"-O3\"))"
   ]
  },
  {
   "cell_type": "markdown",
   "id": "d2fd278d-87f1-4b66-80ca-9f6ace0b0726",
   "metadata": {},
   "source": [
    "## Measuring Cache Misses and Instructions Executed"
   ]
  },
  {
   "cell_type": "markdown",
   "id": "0c1ee603-39c0-4e06-bab7-6299c963e18c",
   "metadata": {},
   "source": [
    "Here's the command to run the program and measure performance counters:"
   ]
  },
  {
   "cell_type": "code",
   "execution_count": null,
   "id": "74de034b-0c27-4b39-9e91-af1f51328738",
   "metadata": {},
   "outputs": [],
   "source": [
    "results = run(exe, \n",
    "              [\"build_set\", \"build_unordered_set\"], \n",
    "              arg_map(count=exp_range(8,16*1024*1024,2)), \n",
    "              perf_counters=[\"PERF_COUNT_HW_INSTRUCTIONS\", \"PERF_COUNT_HW_CACHE_L1D:READ:MISS\"])"
   ]
  },
  {
   "cell_type": "markdown",
   "id": "28101fe4-39db-4990-abdd-ad94d09c7e6f",
   "metadata": {},
   "source": [
    "The key is the `perf_counters` parameter which takes a list of performance counters to measure.  CFiddle supports all the hardware, software, and cache counters described in the [perf_event_open() man page](https://man7.org/linux/man-pages/man2/perf_event_open.2.html).  In this case, we'll count the number of level-1 data cach (`L1D`), read misses and the total number instructions executed.\n",
    "\n",
    "We use Pandas data from opererations to compute some dervived metrics:"
   ]
  },
  {
   "cell_type": "code",
   "execution_count": null,
   "id": "e2727e2e-ede1-4101-9e1c-c5bbe3bd54b0",
   "metadata": {},
   "outputs": [],
   "source": [
    "r = results.as_df()\n",
    "r['L1_MissPerInsert'] = r[\"PERF_COUNT_HW_CACHE_L1D:READ:MISS\"]/r[\"count\"]\n",
    "r['InstPerInsert'] = r[\"PERF_COUNT_HW_INSTRUCTIONS\"]/r[\"count\"]\n",
    "r['L1_MPI'] = r[\"PERF_COUNT_HW_CACHE_L1D:READ:MISS\"]/r[\"PERF_COUNT_HW_INSTRUCTIONS\"]\n",
    "display(r)"
   ]
  },
  {
   "cell_type": "markdown",
   "id": "9e555092-ec84-477c-aa66-dd5af78de199",
   "metadata": {},
   "source": [
    "And then we can reshuffle that data to make comparisons and plotting easier:"
   ]
  },
  {
   "cell_type": "code",
   "execution_count": null,
   "id": "68939739-9346-47f0-ab84-ef0fb38e1490",
   "metadata": {},
   "outputs": [],
   "source": [
    "import pandas as pd\n",
    "pt = pd.pivot_table(r, index=\"count\", values=[\"InstPerInsert\", \"L1_MissPerInsert\", \"ET\"], columns=\"function\")\n",
    "display(pt)"
   ]
  },
  {
   "cell_type": "markdown",
   "id": "9cc051e2-076f-4d81-b593-c758e0ac5d80",
   "metadata": {},
   "source": [
    "## The Results"
   ]
  },
  {
   "cell_type": "markdown",
   "id": "b7a9e3f3-7001-4970-ac7c-5ff71741a06a",
   "metadata": {},
   "source": [
    "The results provide some insight into why `std::ordered_set` is roughly twice as fast at as `std::set` for inserts: While the number of instructions per access grows pretty slowly, the number _cache misses_ per accesses grows much faster for `std::set`  than `std::ordered_set`."
   ]
  },
  {
   "cell_type": "code",
   "execution_count": null,
   "id": "9bb764ba-02af-4412-a856-11fbdd3a54f0",
   "metadata": {},
   "outputs": [],
   "source": [
    "pt.plot.line(y=[(\"ET\", \"build_unordered_set\"), (\"ET\", \"build_set\")], ylim=(0,10), ylabel=\"ET\")"
   ]
  },
  {
   "cell_type": "code",
   "execution_count": null,
   "id": "33f1f74c-4113-4fbe-8dd6-45cca485ab00",
   "metadata": {},
   "outputs": [],
   "source": [
    "pt.plot.line(y=[(\"InstPerInsert\", \"build_unordered_set\"), (\"InstPerInsert\", \"build_set\")], ylim=(0,520), ylabel=\"Instruction Per Insert\")"
   ]
  },
  {
   "cell_type": "code",
   "execution_count": null,
   "id": "82034089-5c4d-4cfe-96fa-901c8bdbc5e6",
   "metadata": {},
   "outputs": [],
   "source": [
    "pt.plot.line(y=[(\"L1_MissPerInsert\", \"build_unordered_set\"), (\"L1_MissPerInsert\", \"build_set\")], ylim=(0,50), ylabel=\"Misses per Insert\")"
   ]
  }
 ],
 "metadata": {
  "kernelspec": {
   "display_name": "Python 3 (ipykernel)",
   "language": "python",
   "name": "python3"
  },
  "language_info": {
   "codemirror_mode": {
    "name": "ipython",
    "version": 3
   },
   "file_extension": ".py",
   "mimetype": "text/x-python",
   "name": "python",
   "nbconvert_exporter": "python",
   "pygments_lexer": "ipython3",
   "version": "3.10.6"
  },
  "toc": {
   "base_numbering": 1,
   "nav_menu": {},
   "number_sections": true,
   "sideBar": true,
   "skip_h1_title": false,
   "title_cell": "Table of Contents",
   "title_sidebar": "Contents",
   "toc_cell": false,
   "toc_position": {},
   "toc_section_display": true,
   "toc_window_display": true
  }
 },
 "nbformat": 4,
 "nbformat_minor": 5
}
