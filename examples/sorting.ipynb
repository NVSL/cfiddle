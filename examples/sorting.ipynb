{
 "cells": [
  {
   "cell_type": "markdown",
   "id": "a5869d1e-8a34-4782-b9e1-9154d6f67a56",
   "metadata": {},
   "source": [
    "# Sorting Algorithms"
   ]
  },
  {
   "cell_type": "markdown",
   "id": "d2dbd5c6-1c04-4c7c-9d02-d4a4a0605584",
   "metadata": {},
   "source": [
    "Sorting is a fundamental operation in many computing system and there are myriad sorting algorithms that vary both in how they work and how they perform.\n",
    "\n",
    "Let's use use CFiddle to compare several sorting algorthims, implemented in [sorting/sort.cpp](sorting/sort.cpp).\n",
    "\n",
    "To start, we'll compile `sort.cpp`:"
   ]
  },
  {
   "cell_type": "code",
   "execution_count": null,
   "id": "2be6b399-d834-4060-9dae-716d76ebf6f2",
   "metadata": {},
   "outputs": [],
   "source": [
    "%xmode Minimal\n",
    "from cfiddle import *\n",
    "import pandas as pd\n",
    "\n",
    "sort = build(\"sorting/sort.cpp\", build_parameters=arg_map(OPTIMIZE=\"-O3\"), verbose=True)[0]"
   ]
  },
  {
   "cell_type": "markdown",
   "id": "ff4c953c-f101-4ebe-aaaa-8fa3ec29fe46",
   "metadata": {},
   "source": [
    "## Bubble Sort"
   ]
  },
  {
   "cell_type": "markdown",
   "id": "6a6df22c-bbb7-46f2-87ea-3eb261006d24",
   "metadata": {},
   "source": [
    "Then we can get started with [bubble sort](https://en.wikipedia.org/wiki/Bubble_sort):"
   ]
  },
  {
   "cell_type": "code",
   "execution_count": null,
   "id": "eb732999-6b30-433b-a722-2540e4fce0c4",
   "metadata": {},
   "outputs": [],
   "source": [
    "sort.source(\"bubble_sort\")"
   ]
  },
  {
   "cell_type": "markdown",
   "id": "c998cc7f-92e9-40b3-bd67-e519d6675074",
   "metadata": {},
   "source": [
    "Bubble sort's complexity is $O(n^2)$, which we can verify by [plotting](https://pandas.pydata.org/docs/reference/api/pandas.DataFrame.plot.line.html) it's execution time as a function of $n$:"
   ]
  },
  {
   "cell_type": "code",
   "execution_count": null,
   "id": "a79fcf1c-541d-45da-b156-b1fd4106a268",
   "metadata": {},
   "outputs": [],
   "source": [
    "r = run(executable=sort, function=\"bubble_sort\", arguments=arg_map(size=exp_range(4,2**16, 2))).as_df()\n",
    "r.plot.line(x=\"size\", y=\"ET\", xlabel=\"n\", ylabel=\"exec. time (s)\")"
   ]
  },
  {
   "cell_type": "markdown",
   "id": "7b3af1d4-2bf3-4856-9e16-d2e1e6c0730b",
   "metadata": {},
   "source": [
    "## Insertion Sort"
   ]
  },
  {
   "cell_type": "markdown",
   "id": "c23375c9-5fb4-481a-ba9c-0d410e870660",
   "metadata": {},
   "source": [
    "[Insertion Sort](https://en.wikipedia.org/wiki/Insertion_sort) is also $O(n^2)$.  Let's compare them!"
   ]
  },
  {
   "cell_type": "code",
   "execution_count": null,
   "id": "be3c66bd-49a9-40d6-a2b2-31a3cf041d7e",
   "metadata": {},
   "outputs": [],
   "source": [
    "sort.source(\"insertion_sort\")"
   ]
  },
  {
   "cell_type": "code",
   "execution_count": null,
   "id": "67351f73-4a96-4a54-8255-2ff6e79a7dc2",
   "metadata": {},
   "outputs": [],
   "source": [
    "r = run(executable=sort, function=[\"bubble_sort\", \"insertion_sort\"], arguments=arg_map(size=exp_range(4,2**16, 2))).as_df()\n"
   ]
  },
  {
   "cell_type": "markdown",
   "id": "0d6dc3e2-2963-415a-9f66-cd517754cbcd",
   "metadata": {},
   "source": [
    "This gives a nice table of values:"
   ]
  },
  {
   "cell_type": "code",
   "execution_count": null,
   "id": "6effc5b1-69ac-4132-b2f5-8aa29924f233",
   "metadata": {},
   "outputs": [],
   "source": [
    "display(r)"
   ]
  },
  {
   "cell_type": "markdown",
   "id": "a7f9aff4-70b8-477f-b151-87ca5f0f4d75",
   "metadata": {},
   "source": [
    "But it's not so easy to graph.  Panda's [pivot_table](https://pandas.pydata.org/docs/reference/api/pandas.pivot_table.html) can fix that:"
   ]
  },
  {
   "cell_type": "code",
   "execution_count": null,
   "id": "f0055d21-e85e-4ed0-a7b3-3c4c0f311e3e",
   "metadata": {},
   "outputs": [],
   "source": [
    "comparison = pd.pivot_table(r, values=\"ET\", columns=\"function\", index=\"size\")\n",
    "display(comparison)"
   ]
  },
  {
   "cell_type": "code",
   "execution_count": null,
   "id": "20cded21-efe9-4c98-b7ad-9d901c258324",
   "metadata": {},
   "outputs": [],
   "source": [
    "comparison.plot.line(xlabel=\"n\", ylabel=\"exec. time (s)\")"
   ]
  },
  {
   "cell_type": "markdown",
   "id": "779bfb70-b0be-4dab-a2c3-eb434fa2b67a",
   "metadata": {},
   "source": [
    "I guess that's why you're not supposed to use bubble sort!"
   ]
  },
  {
   "cell_type": "markdown",
   "id": "035d972c-d736-4758-8408-04d513ca93e9",
   "metadata": {},
   "source": [
    "## More Sorts"
   ]
  },
  {
   "cell_type": "markdown",
   "id": "093cd797-2e9a-43be-89d7-4adb7e1139b2",
   "metadata": {},
   "source": [
    "Let's drop bubble sort because it's terribly slow."
   ]
  },
  {
   "cell_type": "code",
   "execution_count": null,
   "id": "ff6fa25c-dd04-49d2-8868-e09637e908f3",
   "metadata": {},
   "outputs": [],
   "source": [
    "r = run(executable=sort, function=[\"insertion_sort\", \n",
    "                         \"merge_sort\", \n",
    "                         \"stl_sort\", \n",
    "                         \"quick_sort\"\n",
    "                        ], arguments=arg_map(size=exp_range(4,2**16, 2))).as_df()"
   ]
  },
  {
   "cell_type": "code",
   "execution_count": null,
   "id": "8347f2df-f70a-4d91-9f19-0becaf9168d5",
   "metadata": {},
   "outputs": [],
   "source": [
    "comparison = pd.pivot_table(r, values=\"ET\", columns=\"function\", index=\"size\")\n",
    "comparison.plot.line(xlabel=\"n\", ylabel=\"exec. time (s)\")"
   ]
  },
  {
   "cell_type": "markdown",
   "id": "619fe5d7-f4ff-4fb2-a468-7c2510bed7ce",
   "metadata": {},
   "source": [
    "That really drives home the difference between $O(n^2)$ and $O(n \\lg n)$.  Here's just the $O(n \\lg n)$ algorthims:"
   ]
  },
  {
   "cell_type": "markdown",
   "id": "40856740-4de4-4d11-ad0f-ae31cca2e4e5",
   "metadata": {},
   "source": [
    "That's a little noisy.  Let's look at larger data sizes:"
   ]
  },
  {
   "cell_type": "code",
   "execution_count": null,
   "id": "fdf8d6bf-2073-4380-a40f-c8c9937e677b",
   "metadata": {},
   "outputs": [],
   "source": [
    "r = run(executable=sort, function=[\n",
    "                         \"merge_sort\", \n",
    "                         \"stl_sort\", \n",
    "                         \"quick_sort\"], arguments=arg_map(size=exp_range(16,2**16,2))).as_df()\n",
    "comparison = pd.pivot_table(r, values=\"ET\", columns=\"function\", index=\"size\")\n",
    "comparison.plot.line(xlabel=\"n\", ylabel=\"exec. time (s)\")"
   ]
  },
  {
   "cell_type": "markdown",
   "id": "98c7be17-55fa-4c1a-be2d-4b411a34240d",
   "metadata": {},
   "source": [
    "If the numbers look odd, try re-running it.  Performance variation happens!"
   ]
  },
  {
   "cell_type": "markdown",
   "id": "c6aae90c-e784-4f17-b460-80f2447a542b",
   "metadata": {},
   "source": [
    "# The Impact of The Compiler"
   ]
  },
  {
   "cell_type": "markdown",
   "id": "7ac83b6c-6417-4f40-87a5-b9f715805442",
   "metadata": {},
   "source": [
    "We can also examine the impact of the compiler on performance.  Let's see how `std::sort()` performance changes with different optimizations."
   ]
  },
  {
   "cell_type": "code",
   "execution_count": null,
   "id": "5908c067-d93d-4126-8ca5-6aa4176dc6a4",
   "metadata": {},
   "outputs": [],
   "source": [
    "sorts = build(\"sorting/sort.cpp\", build_parameters=arg_map(OPTIMIZE=[\"-O0\", \"-O1 -fno-inline\", \"-O1\", \"-O3\"]))\n",
    "r = run(executable=sorts, function=\"stl_sort\", arguments=arg_map(size=[2**20])).as_df()"
   ]
  },
  {
   "cell_type": "code",
   "execution_count": null,
   "id": "1a6d4b56-30c9-448e-9257-9b6b85b75166",
   "metadata": {},
   "outputs": [],
   "source": [
    "display(r)\n",
    "comparison = pd.pivot_table(r, values=\"ET\", columns=\"OPTIMIZE\", index=\"size\")\n",
    "r.plot.bar(y=\"ET\",x=\"OPTIMIZE\", ylabel=\"exec. time (s)\")"
   ]
  },
  {
   "cell_type": "code",
   "execution_count": null,
   "id": "7ba43b34",
   "metadata": {},
   "outputs": [],
   "source": []
  }
 ],
 "metadata": {
  "kernelspec": {
   "display_name": "Python 3 (ipykernel)",
   "language": "python",
   "name": "python3"
  },
  "language_info": {
   "codemirror_mode": {
    "name": "ipython",
    "version": 3
   },
   "file_extension": ".py",
   "mimetype": "text/x-python",
   "name": "python",
   "nbconvert_exporter": "python",
   "pygments_lexer": "ipython3",
   "version": "3.10.6"
  },
  "toc": {
   "base_numbering": 1,
   "nav_menu": {},
   "number_sections": true,
   "sideBar": true,
   "skip_h1_title": false,
   "title_cell": "Table of Contents",
   "title_sidebar": "Contents",
   "toc_cell": false,
   "toc_position": {},
   "toc_section_display": true,
   "toc_window_display": true
  }
 },
 "nbformat": 4,
 "nbformat_minor": 5
}
