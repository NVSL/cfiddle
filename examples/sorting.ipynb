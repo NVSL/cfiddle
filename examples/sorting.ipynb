{
 "cells": [
  {
   "cell_type": "markdown",
   "id": "a5869d1e-8a34-4782-b9e1-9154d6f67a56",
   "metadata": {},
   "source": [
    "# Sorting Algorithms"
   ]
  },
  {
   "cell_type": "markdown",
   "id": "d2dbd5c6-1c04-4c7c-9d02-d4a4a0605584",
   "metadata": {},
   "source": [
    "Sorting is a fundamental operation in many computing system and there are myriad sorting algorithms that vary both in how they work and how they perform.\n",
    "\n",
    "Let's use use Fiddle to compare several sorting algorthims, implemented in [sorting/sort.cpp](sorting/sort.cpp).\n",
    "\n",
    "To start, we'll compile `sort.cpp`:"
   ]
  },
  {
   "cell_type": "code",
   "execution_count": 18,
   "id": "2be6b399-d834-4060-9dae-716d76ebf6f2",
   "metadata": {},
   "outputs": [
    {
     "name": "stdout",
     "output_type": "stream",
     "text": [
      "['make', '-f', '/cse142L/fiddle/src/fiddle/resources/make/fiddle.make', 'OPTIMIZE=-O3', 'BUILD=.fiddle/builds/build/OPTIMIZE_-O3_sort', 'FIDDLE_INCLUDE=/cse142L/fiddle/src/fiddle/resources/include', 'FIDDLE_VPATH=sorting:.fiddle/builds/build/OPTIMIZE_-O3_sort', '.fiddle/builds/build/OPTIMIZE_-O3_sort/sort.so']\n",
      "make: '.fiddle/builds/build/OPTIMIZE_-O3_sort/sort.so' is up to date.\n",
      "\n"
     ]
    }
   ],
   "source": [
    "from fiddle import *\n",
    "from numpy import arange\n",
    "import pandas as pd\n",
    "\n",
    "configure_for_jupyter()\n",
    "sort = build_one(\"sorting/sort.cpp\", build_parameters=dict(OPTIMIZE=\"-O3\"), verbose=True)"
   ]
  },
  {
   "cell_type": "markdown",
   "id": "ff4c953c-f101-4ebe-aaaa-8fa3ec29fe46",
   "metadata": {},
   "source": [
    "## Bubble Sort"
   ]
  },
  {
   "cell_type": "markdown",
   "id": "6a6df22c-bbb7-46f2-87ea-3eb261006d24",
   "metadata": {},
   "source": [
    "Then we can get started with [bubble sort](https://en.wikipedia.org/wiki/Bubble_sort):"
   ]
  },
  {
   "cell_type": "code",
   "execution_count": 19,
   "id": "eb732999-6b30-433b-a722-2540e4fce0c4",
   "metadata": {},
   "outputs": [
    {
     "data": {
      "text/html": [
       "<style>pre { line-height: 125%; }\n",
       "td.linenos .normal { color: inherit; background-color: transparent; padding-left: 5px; padding-right: 5px; }\n",
       "span.linenos { color: inherit; background-color: transparent; padding-left: 5px; padding-right: 5px; }\n",
       "td.linenos .special { color: #000000; background-color: #ffffc0; padding-left: 5px; padding-right: 5px; }\n",
       "span.linenos.special { color: #000000; background-color: #ffffc0; padding-left: 5px; padding-right: 5px; }\n",
       ".output_html .hll { background-color: #ffffcc }\n",
       ".output_html { background: #f8f8f8; }\n",
       ".output_html .c { color: #408080; font-style: italic } /* Comment */\n",
       ".output_html .err { border: 1px solid #FF0000 } /* Error */\n",
       ".output_html .k { color: #008000; font-weight: bold } /* Keyword */\n",
       ".output_html .o { color: #666666 } /* Operator */\n",
       ".output_html .ch { color: #408080; font-style: italic } /* Comment.Hashbang */\n",
       ".output_html .cm { color: #408080; font-style: italic } /* Comment.Multiline */\n",
       ".output_html .cp { color: #BC7A00 } /* Comment.Preproc */\n",
       ".output_html .cpf { color: #408080; font-style: italic } /* Comment.PreprocFile */\n",
       ".output_html .c1 { color: #408080; font-style: italic } /* Comment.Single */\n",
       ".output_html .cs { color: #408080; font-style: italic } /* Comment.Special */\n",
       ".output_html .gd { color: #A00000 } /* Generic.Deleted */\n",
       ".output_html .ge { font-style: italic } /* Generic.Emph */\n",
       ".output_html .gr { color: #FF0000 } /* Generic.Error */\n",
       ".output_html .gh { color: #000080; font-weight: bold } /* Generic.Heading */\n",
       ".output_html .gi { color: #00A000 } /* Generic.Inserted */\n",
       ".output_html .go { color: #888888 } /* Generic.Output */\n",
       ".output_html .gp { color: #000080; font-weight: bold } /* Generic.Prompt */\n",
       ".output_html .gs { font-weight: bold } /* Generic.Strong */\n",
       ".output_html .gu { color: #800080; font-weight: bold } /* Generic.Subheading */\n",
       ".output_html .gt { color: #0044DD } /* Generic.Traceback */\n",
       ".output_html .kc { color: #008000; font-weight: bold } /* Keyword.Constant */\n",
       ".output_html .kd { color: #008000; font-weight: bold } /* Keyword.Declaration */\n",
       ".output_html .kn { color: #008000; font-weight: bold } /* Keyword.Namespace */\n",
       ".output_html .kp { color: #008000 } /* Keyword.Pseudo */\n",
       ".output_html .kr { color: #008000; font-weight: bold } /* Keyword.Reserved */\n",
       ".output_html .kt { color: #B00040 } /* Keyword.Type */\n",
       ".output_html .m { color: #666666 } /* Literal.Number */\n",
       ".output_html .s { color: #BA2121 } /* Literal.String */\n",
       ".output_html .na { color: #7D9029 } /* Name.Attribute */\n",
       ".output_html .nb { color: #008000 } /* Name.Builtin */\n",
       ".output_html .nc { color: #0000FF; font-weight: bold } /* Name.Class */\n",
       ".output_html .no { color: #880000 } /* Name.Constant */\n",
       ".output_html .nd { color: #AA22FF } /* Name.Decorator */\n",
       ".output_html .ni { color: #999999; font-weight: bold } /* Name.Entity */\n",
       ".output_html .ne { color: #D2413A; font-weight: bold } /* Name.Exception */\n",
       ".output_html .nf { color: #0000FF } /* Name.Function */\n",
       ".output_html .nl { color: #A0A000 } /* Name.Label */\n",
       ".output_html .nn { color: #0000FF; font-weight: bold } /* Name.Namespace */\n",
       ".output_html .nt { color: #008000; font-weight: bold } /* Name.Tag */\n",
       ".output_html .nv { color: #19177C } /* Name.Variable */\n",
       ".output_html .ow { color: #AA22FF; font-weight: bold } /* Operator.Word */\n",
       ".output_html .w { color: #bbbbbb } /* Text.Whitespace */\n",
       ".output_html .mb { color: #666666 } /* Literal.Number.Bin */\n",
       ".output_html .mf { color: #666666 } /* Literal.Number.Float */\n",
       ".output_html .mh { color: #666666 } /* Literal.Number.Hex */\n",
       ".output_html .mi { color: #666666 } /* Literal.Number.Integer */\n",
       ".output_html .mo { color: #666666 } /* Literal.Number.Oct */\n",
       ".output_html .sa { color: #BA2121 } /* Literal.String.Affix */\n",
       ".output_html .sb { color: #BA2121 } /* Literal.String.Backtick */\n",
       ".output_html .sc { color: #BA2121 } /* Literal.String.Char */\n",
       ".output_html .dl { color: #BA2121 } /* Literal.String.Delimiter */\n",
       ".output_html .sd { color: #BA2121; font-style: italic } /* Literal.String.Doc */\n",
       ".output_html .s2 { color: #BA2121 } /* Literal.String.Double */\n",
       ".output_html .se { color: #BB6622; font-weight: bold } /* Literal.String.Escape */\n",
       ".output_html .sh { color: #BA2121 } /* Literal.String.Heredoc */\n",
       ".output_html .si { color: #BB6688; font-weight: bold } /* Literal.String.Interpol */\n",
       ".output_html .sx { color: #008000 } /* Literal.String.Other */\n",
       ".output_html .sr { color: #BB6688 } /* Literal.String.Regex */\n",
       ".output_html .s1 { color: #BA2121 } /* Literal.String.Single */\n",
       ".output_html .ss { color: #19177C } /* Literal.String.Symbol */\n",
       ".output_html .bp { color: #008000 } /* Name.Builtin.Pseudo */\n",
       ".output_html .fm { color: #0000FF } /* Name.Function.Magic */\n",
       ".output_html .vc { color: #19177C } /* Name.Variable.Class */\n",
       ".output_html .vg { color: #19177C } /* Name.Variable.Global */\n",
       ".output_html .vi { color: #19177C } /* Name.Variable.Instance */\n",
       ".output_html .vm { color: #19177C } /* Name.Variable.Magic */\n",
       ".output_html .il { color: #666666 } /* Literal.Number.Integer.Long */\n",
       "pre { line-height: 125%; }\n",
       "td.linenos .normal { color: inherit; background-color: transparent; padding-left: 5px; padding-right: 5px; }\n",
       "span.linenos { color: inherit; background-color: transparent; padding-left: 5px; padding-right: 5px; }\n",
       "td.linenos .special { color: #000000; background-color: #ffffc0; padding-left: 5px; padding-right: 5px; }\n",
       "span.linenos.special { color: #000000; background-color: #ffffc0; padding-left: 5px; padding-right: 5px; }\n",
       ".jp-RenderedHTML .hll { background-color: #ffffcc }\n",
       ".jp-RenderedHTML { background: #f8f8f8; }\n",
       ".jp-RenderedHTML .c { color: #408080; font-style: italic } /* Comment */\n",
       ".jp-RenderedHTML .err { border: 1px solid #FF0000 } /* Error */\n",
       ".jp-RenderedHTML .k { color: #008000; font-weight: bold } /* Keyword */\n",
       ".jp-RenderedHTML .o { color: #666666 } /* Operator */\n",
       ".jp-RenderedHTML .ch { color: #408080; font-style: italic } /* Comment.Hashbang */\n",
       ".jp-RenderedHTML .cm { color: #408080; font-style: italic } /* Comment.Multiline */\n",
       ".jp-RenderedHTML .cp { color: #BC7A00 } /* Comment.Preproc */\n",
       ".jp-RenderedHTML .cpf { color: #408080; font-style: italic } /* Comment.PreprocFile */\n",
       ".jp-RenderedHTML .c1 { color: #408080; font-style: italic } /* Comment.Single */\n",
       ".jp-RenderedHTML .cs { color: #408080; font-style: italic } /* Comment.Special */\n",
       ".jp-RenderedHTML .gd { color: #A00000 } /* Generic.Deleted */\n",
       ".jp-RenderedHTML .ge { font-style: italic } /* Generic.Emph */\n",
       ".jp-RenderedHTML .gr { color: #FF0000 } /* Generic.Error */\n",
       ".jp-RenderedHTML .gh { color: #000080; font-weight: bold } /* Generic.Heading */\n",
       ".jp-RenderedHTML .gi { color: #00A000 } /* Generic.Inserted */\n",
       ".jp-RenderedHTML .go { color: #888888 } /* Generic.Output */\n",
       ".jp-RenderedHTML .gp { color: #000080; font-weight: bold } /* Generic.Prompt */\n",
       ".jp-RenderedHTML .gs { font-weight: bold } /* Generic.Strong */\n",
       ".jp-RenderedHTML .gu { color: #800080; font-weight: bold } /* Generic.Subheading */\n",
       ".jp-RenderedHTML .gt { color: #0044DD } /* Generic.Traceback */\n",
       ".jp-RenderedHTML .kc { color: #008000; font-weight: bold } /* Keyword.Constant */\n",
       ".jp-RenderedHTML .kd { color: #008000; font-weight: bold } /* Keyword.Declaration */\n",
       ".jp-RenderedHTML .kn { color: #008000; font-weight: bold } /* Keyword.Namespace */\n",
       ".jp-RenderedHTML .kp { color: #008000 } /* Keyword.Pseudo */\n",
       ".jp-RenderedHTML .kr { color: #008000; font-weight: bold } /* Keyword.Reserved */\n",
       ".jp-RenderedHTML .kt { color: #B00040 } /* Keyword.Type */\n",
       ".jp-RenderedHTML .m { color: #666666 } /* Literal.Number */\n",
       ".jp-RenderedHTML .s { color: #BA2121 } /* Literal.String */\n",
       ".jp-RenderedHTML .na { color: #7D9029 } /* Name.Attribute */\n",
       ".jp-RenderedHTML .nb { color: #008000 } /* Name.Builtin */\n",
       ".jp-RenderedHTML .nc { color: #0000FF; font-weight: bold } /* Name.Class */\n",
       ".jp-RenderedHTML .no { color: #880000 } /* Name.Constant */\n",
       ".jp-RenderedHTML .nd { color: #AA22FF } /* Name.Decorator */\n",
       ".jp-RenderedHTML .ni { color: #999999; font-weight: bold } /* Name.Entity */\n",
       ".jp-RenderedHTML .ne { color: #D2413A; font-weight: bold } /* Name.Exception */\n",
       ".jp-RenderedHTML .nf { color: #0000FF } /* Name.Function */\n",
       ".jp-RenderedHTML .nl { color: #A0A000 } /* Name.Label */\n",
       ".jp-RenderedHTML .nn { color: #0000FF; font-weight: bold } /* Name.Namespace */\n",
       ".jp-RenderedHTML .nt { color: #008000; font-weight: bold } /* Name.Tag */\n",
       ".jp-RenderedHTML .nv { color: #19177C } /* Name.Variable */\n",
       ".jp-RenderedHTML .ow { color: #AA22FF; font-weight: bold } /* Operator.Word */\n",
       ".jp-RenderedHTML .w { color: #bbbbbb } /* Text.Whitespace */\n",
       ".jp-RenderedHTML .mb { color: #666666 } /* Literal.Number.Bin */\n",
       ".jp-RenderedHTML .mf { color: #666666 } /* Literal.Number.Float */\n",
       ".jp-RenderedHTML .mh { color: #666666 } /* Literal.Number.Hex */\n",
       ".jp-RenderedHTML .mi { color: #666666 } /* Literal.Number.Integer */\n",
       ".jp-RenderedHTML .mo { color: #666666 } /* Literal.Number.Oct */\n",
       ".jp-RenderedHTML .sa { color: #BA2121 } /* Literal.String.Affix */\n",
       ".jp-RenderedHTML .sb { color: #BA2121 } /* Literal.String.Backtick */\n",
       ".jp-RenderedHTML .sc { color: #BA2121 } /* Literal.String.Char */\n",
       ".jp-RenderedHTML .dl { color: #BA2121 } /* Literal.String.Delimiter */\n",
       ".jp-RenderedHTML .sd { color: #BA2121; font-style: italic } /* Literal.String.Doc */\n",
       ".jp-RenderedHTML .s2 { color: #BA2121 } /* Literal.String.Double */\n",
       ".jp-RenderedHTML .se { color: #BB6622; font-weight: bold } /* Literal.String.Escape */\n",
       ".jp-RenderedHTML .sh { color: #BA2121 } /* Literal.String.Heredoc */\n",
       ".jp-RenderedHTML .si { color: #BB6688; font-weight: bold } /* Literal.String.Interpol */\n",
       ".jp-RenderedHTML .sx { color: #008000 } /* Literal.String.Other */\n",
       ".jp-RenderedHTML .sr { color: #BB6688 } /* Literal.String.Regex */\n",
       ".jp-RenderedHTML .s1 { color: #BA2121 } /* Literal.String.Single */\n",
       ".jp-RenderedHTML .ss { color: #19177C } /* Literal.String.Symbol */\n",
       ".jp-RenderedHTML .bp { color: #008000 } /* Name.Builtin.Pseudo */\n",
       ".jp-RenderedHTML .fm { color: #0000FF } /* Name.Function.Magic */\n",
       ".jp-RenderedHTML .vc { color: #19177C } /* Name.Variable.Class */\n",
       ".jp-RenderedHTML .vg { color: #19177C } /* Name.Variable.Global */\n",
       ".jp-RenderedHTML .vi { color: #19177C } /* Name.Variable.Instance */\n",
       ".jp-RenderedHTML .vm { color: #19177C } /* Name.Variable.Magic */\n",
       ".jp-RenderedHTML .il { color: #666666 } /* Literal.Number.Integer.Long */</style><div class=\"highlight\"><pre><span></span><span class=\"kt\">uint64_t</span><span class=\"o\">*</span><span class=\"w\"> </span><span class=\"nf\">bubble_sort</span><span class=\"p\">(</span><span class=\"kt\">uint64_t</span><span class=\"w\"> </span><span class=\"n\">size</span><span class=\"p\">)</span><span class=\"w\"></span>\n",
       "<span class=\"p\">{</span><span class=\"w\"></span>\n",
       "<span class=\"w\">\t</span><span class=\"kt\">uint64_t</span><span class=\"w\"> </span><span class=\"o\">*</span><span class=\"w\"> </span><span class=\"n\">list</span><span class=\"w\"> </span><span class=\"o\">=</span><span class=\"w\"> </span><span class=\"n\">random_array</span><span class=\"p\">(</span><span class=\"n\">size</span><span class=\"p\">);</span><span class=\"w\"></span>\n",
       "<span class=\"w\">\t</span><span class=\"n\">start_measurement</span><span class=\"p\">();</span><span class=\"w\"></span>\n",
       "<span class=\"w\">\t</span><span class=\"kt\">uint64_t</span><span class=\"w\"> </span><span class=\"n\">temp</span><span class=\"p\">;</span><span class=\"w\"></span>\n",
       "<span class=\"w\">\t</span><span class=\"k\">for</span><span class=\"p\">(</span><span class=\"kt\">uint64_t</span><span class=\"w\"> </span><span class=\"n\">i</span><span class=\"o\">=</span><span class=\"mi\">0</span><span class=\"p\">;</span><span class=\"w\"> </span><span class=\"n\">i</span><span class=\"o\">&lt;</span><span class=\"n\">size</span><span class=\"p\">;</span><span class=\"w\"> </span><span class=\"n\">i</span><span class=\"o\">++</span><span class=\"p\">)</span><span class=\"w\"></span>\n",
       "<span class=\"w\">\t</span><span class=\"p\">{</span><span class=\"w\"></span>\n",
       "<span class=\"w\">\t\t</span><span class=\"k\">for</span><span class=\"p\">(</span><span class=\"kt\">uint64_t</span><span class=\"w\"> </span><span class=\"n\">j</span><span class=\"o\">=</span><span class=\"n\">size</span><span class=\"mi\">-1</span><span class=\"p\">;</span><span class=\"w\"> </span><span class=\"n\">j</span><span class=\"o\">&gt;</span><span class=\"n\">i</span><span class=\"p\">;</span><span class=\"w\"> </span><span class=\"n\">j</span><span class=\"o\">--</span><span class=\"p\">)</span><span class=\"w\"></span>\n",
       "<span class=\"w\">\t\t</span><span class=\"p\">{</span><span class=\"w\"></span>\n",
       "<span class=\"w\">\t\t\t</span><span class=\"k\">if</span><span class=\"p\">(</span><span class=\"n\">list</span><span class=\"p\">[</span><span class=\"n\">j</span><span class=\"p\">]</span><span class=\"o\">&lt;</span><span class=\"n\">list</span><span class=\"p\">[</span><span class=\"n\">j</span><span class=\"mi\">-1</span><span class=\"p\">])</span><span class=\"w\"></span>\n",
       "<span class=\"w\">\t\t\t</span><span class=\"p\">{</span><span class=\"w\"></span>\n",
       "<span class=\"w\">\t\t\t\t</span><span class=\"n\">temp</span><span class=\"o\">=</span><span class=\"n\">list</span><span class=\"p\">[</span><span class=\"n\">j</span><span class=\"mi\">-1</span><span class=\"p\">];</span><span class=\"w\"></span>\n",
       "<span class=\"w\">\t\t\t\t</span><span class=\"n\">list</span><span class=\"p\">[</span><span class=\"n\">j</span><span class=\"mi\">-1</span><span class=\"p\">]</span><span class=\"o\">=</span><span class=\"n\">list</span><span class=\"p\">[</span><span class=\"n\">j</span><span class=\"p\">];</span><span class=\"w\"></span>\n",
       "<span class=\"w\">\t\t\t\t</span><span class=\"n\">list</span><span class=\"p\">[</span><span class=\"n\">j</span><span class=\"p\">]</span><span class=\"o\">=</span><span class=\"n\">temp</span><span class=\"p\">;</span><span class=\"w\"></span>\n",
       "<span class=\"w\">\t\t\t</span><span class=\"p\">}</span><span class=\"w\"></span>\n",
       "<span class=\"w\">\t\t</span><span class=\"p\">}</span><span class=\"w\"></span>\n",
       "<span class=\"w\">\t</span><span class=\"p\">}</span><span class=\"w\"></span>\n",
       "<span class=\"w\">\t</span><span class=\"n\">end_measurement</span><span class=\"p\">();</span><span class=\"w\"></span>\n",
       "<span class=\"w\">\t</span><span class=\"n\">CHECK</span><span class=\"p\">(</span><span class=\"n\">list</span><span class=\"p\">);</span><span class=\"w\"></span>\n",
       "<span class=\"w\">\t</span><span class=\"k\">return</span><span class=\"w\"> </span><span class=\"nb\">NULL</span><span class=\"p\">;</span><span class=\"w\"></span>\n",
       "<span class=\"p\">}</span><span class=\"w\"></span>\n",
       "</pre></div>\n"
      ],
      "text/latex": [
       "\\begin{Verbatim}[commandchars=\\\\\\{\\}]\n",
       "\\PY{k+kt}{uint64\\PYZus{}t}\\PY{o}{*}\\PY{+w}{ }\\PY{n+nf}{bubble\\PYZus{}sort}\\PY{p}{(}\\PY{k+kt}{uint64\\PYZus{}t}\\PY{+w}{ }\\PY{n}{size}\\PY{p}{)}\n",
       "\\PY{p}{\\PYZob{}}\n",
       "\\PY{+w}{\t}\\PY{k+kt}{uint64\\PYZus{}t}\\PY{+w}{ }\\PY{o}{*}\\PY{+w}{ }\\PY{n}{list}\\PY{+w}{ }\\PY{o}{=}\\PY{+w}{ }\\PY{n}{random\\PYZus{}array}\\PY{p}{(}\\PY{n}{size}\\PY{p}{)}\\PY{p}{;}\n",
       "\\PY{+w}{\t}\\PY{n}{start\\PYZus{}measurement}\\PY{p}{(}\\PY{p}{)}\\PY{p}{;}\n",
       "\\PY{+w}{\t}\\PY{k+kt}{uint64\\PYZus{}t}\\PY{+w}{ }\\PY{n}{temp}\\PY{p}{;}\n",
       "\\PY{+w}{\t}\\PY{k}{for}\\PY{p}{(}\\PY{k+kt}{uint64\\PYZus{}t}\\PY{+w}{ }\\PY{n}{i}\\PY{o}{=}\\PY{l+m+mi}{0}\\PY{p}{;}\\PY{+w}{ }\\PY{n}{i}\\PY{o}{\\PYZlt{}}\\PY{n}{size}\\PY{p}{;}\\PY{+w}{ }\\PY{n}{i}\\PY{o}{+}\\PY{o}{+}\\PY{p}{)}\n",
       "\\PY{+w}{\t}\\PY{p}{\\PYZob{}}\n",
       "\\PY{+w}{\t\t}\\PY{k}{for}\\PY{p}{(}\\PY{k+kt}{uint64\\PYZus{}t}\\PY{+w}{ }\\PY{n}{j}\\PY{o}{=}\\PY{n}{size}\\PY{l+m+mi}{\\PYZhy{}1}\\PY{p}{;}\\PY{+w}{ }\\PY{n}{j}\\PY{o}{\\PYZgt{}}\\PY{n}{i}\\PY{p}{;}\\PY{+w}{ }\\PY{n}{j}\\PY{o}{\\PYZhy{}}\\PY{o}{\\PYZhy{}}\\PY{p}{)}\n",
       "\\PY{+w}{\t\t}\\PY{p}{\\PYZob{}}\n",
       "\\PY{+w}{\t\t\t}\\PY{k}{if}\\PY{p}{(}\\PY{n}{list}\\PY{p}{[}\\PY{n}{j}\\PY{p}{]}\\PY{o}{\\PYZlt{}}\\PY{n}{list}\\PY{p}{[}\\PY{n}{j}\\PY{l+m+mi}{\\PYZhy{}1}\\PY{p}{]}\\PY{p}{)}\n",
       "\\PY{+w}{\t\t\t}\\PY{p}{\\PYZob{}}\n",
       "\\PY{+w}{\t\t\t\t}\\PY{n}{temp}\\PY{o}{=}\\PY{n}{list}\\PY{p}{[}\\PY{n}{j}\\PY{l+m+mi}{\\PYZhy{}1}\\PY{p}{]}\\PY{p}{;}\n",
       "\\PY{+w}{\t\t\t\t}\\PY{n}{list}\\PY{p}{[}\\PY{n}{j}\\PY{l+m+mi}{\\PYZhy{}1}\\PY{p}{]}\\PY{o}{=}\\PY{n}{list}\\PY{p}{[}\\PY{n}{j}\\PY{p}{]}\\PY{p}{;}\n",
       "\\PY{+w}{\t\t\t\t}\\PY{n}{list}\\PY{p}{[}\\PY{n}{j}\\PY{p}{]}\\PY{o}{=}\\PY{n}{temp}\\PY{p}{;}\n",
       "\\PY{+w}{\t\t\t}\\PY{p}{\\PYZcb{}}\n",
       "\\PY{+w}{\t\t}\\PY{p}{\\PYZcb{}}\n",
       "\\PY{+w}{\t}\\PY{p}{\\PYZcb{}}\n",
       "\\PY{+w}{\t}\\PY{n}{end\\PYZus{}measurement}\\PY{p}{(}\\PY{p}{)}\\PY{p}{;}\n",
       "\\PY{+w}{\t}\\PY{n}{CHECK}\\PY{p}{(}\\PY{n}{list}\\PY{p}{)}\\PY{p}{;}\n",
       "\\PY{+w}{\t}\\PY{k}{return}\\PY{+w}{ }\\PY{n+nb}{NULL}\\PY{p}{;}\n",
       "\\PY{p}{\\PYZcb{}}\n",
       "\\end{Verbatim}\n"
      ],
      "text/plain": [
       "uint64_t* bubble_sort(uint64_t size)\n",
       "{\n",
       "\tuint64_t * list = random_array(size);\n",
       "\tstart_measurement();\n",
       "\tuint64_t temp;\n",
       "\tfor(uint64_t i=0; i<size; i++)\n",
       "\t{\n",
       "\t\tfor(uint64_t j=size-1; j>i; j--)\n",
       "\t\t{\n",
       "\t\t\tif(list[j]<list[j-1])\n",
       "\t\t\t{\n",
       "\t\t\t\ttemp=list[j-1];\n",
       "\t\t\t\tlist[j-1]=list[j];\n",
       "\t\t\t\tlist[j]=temp;\n",
       "\t\t\t}\n",
       "\t\t}\n",
       "\t}\n",
       "\tend_measurement();\n",
       "\tCHECK(list);\n",
       "\treturn NULL;\n",
       "}"
      ]
     },
     "execution_count": 19,
     "metadata": {},
     "output_type": "execute_result"
    }
   ],
   "source": [
    "sort.source(\"bubble_sort\")"
   ]
  },
  {
   "cell_type": "markdown",
   "id": "c998cc7f-92e9-40b3-bd67-e519d6675074",
   "metadata": {},
   "source": [
    "Bubble sort's complexity is $O(n^2)$, which we can verify by [plotting](https://pandas.pydata.org/docs/reference/api/pandas.DataFrame.plot.line.html) it's execution time as a function of $n$:"
   ]
  },
  {
   "cell_type": "code",
   "execution_count": 63,
   "id": "a79fcf1c-541d-45da-b156-b1fd4106a268",
   "metadata": {},
   "outputs": [
    {
     "data": {
      "text/plain": [
       "<AxesSubplot:xlabel='n', ylabel='exec. time (s)'>"
      ]
     },
     "execution_count": 63,
     "metadata": {},
     "output_type": "execute_result"
    },
    {
     "data": {
      "image/png": "[encoded data removed]",
      "text/plain": [
       "<Figure size 432x288 with 1 Axes>"
      ]
     },
     "metadata": {
      "needs_background": "light"
     },
     "output_type": "display_data"
    }
   ],
   "source": [
    "r = run(product([sort], [\"bubble_sort\"], map_product(size=2**arange(4, 17)))).as_df()\n",
    "r.plot.line(x=\"size\", y=\"ET\", xlabel=\"n\", ylabel=\"exec. time (s)\")\n"
   ]
  },
  {
   "cell_type": "markdown",
   "id": "7b3af1d4-2bf3-4856-9e16-d2e1e6c0730b",
   "metadata": {},
   "source": [
    "## Insertion Sort"
   ]
  },
  {
   "cell_type": "markdown",
   "id": "c23375c9-5fb4-481a-ba9c-0d410e870660",
   "metadata": {},
   "source": [
    "[Insertion Sort](https://en.wikipedia.org/wiki/Insertion_sort) is also $O(n^2)$.  Let's compare them!"
   ]
  },
  {
   "cell_type": "code",
   "execution_count": 46,
   "id": "be3c66bd-49a9-40d6-a2b2-31a3cf041d7e",
   "metadata": {},
   "outputs": [
    {
     "data": {
      "text/html": [
       "<style>pre { line-height: 125%; }\n",
       "td.linenos .normal { color: inherit; background-color: transparent; padding-left: 5px; padding-right: 5px; }\n",
       "span.linenos { color: inherit; background-color: transparent; padding-left: 5px; padding-right: 5px; }\n",
       "td.linenos .special { color: #000000; background-color: #ffffc0; padding-left: 5px; padding-right: 5px; }\n",
       "span.linenos.special { color: #000000; background-color: #ffffc0; padding-left: 5px; padding-right: 5px; }\n",
       ".output_html .hll { background-color: #ffffcc }\n",
       ".output_html { background: #f8f8f8; }\n",
       ".output_html .c { color: #408080; font-style: italic } /* Comment */\n",
       ".output_html .err { border: 1px solid #FF0000 } /* Error */\n",
       ".output_html .k { color: #008000; font-weight: bold } /* Keyword */\n",
       ".output_html .o { color: #666666 } /* Operator */\n",
       ".output_html .ch { color: #408080; font-style: italic } /* Comment.Hashbang */\n",
       ".output_html .cm { color: #408080; font-style: italic } /* Comment.Multiline */\n",
       ".output_html .cp { color: #BC7A00 } /* Comment.Preproc */\n",
       ".output_html .cpf { color: #408080; font-style: italic } /* Comment.PreprocFile */\n",
       ".output_html .c1 { color: #408080; font-style: italic } /* Comment.Single */\n",
       ".output_html .cs { color: #408080; font-style: italic } /* Comment.Special */\n",
       ".output_html .gd { color: #A00000 } /* Generic.Deleted */\n",
       ".output_html .ge { font-style: italic } /* Generic.Emph */\n",
       ".output_html .gr { color: #FF0000 } /* Generic.Error */\n",
       ".output_html .gh { color: #000080; font-weight: bold } /* Generic.Heading */\n",
       ".output_html .gi { color: #00A000 } /* Generic.Inserted */\n",
       ".output_html .go { color: #888888 } /* Generic.Output */\n",
       ".output_html .gp { color: #000080; font-weight: bold } /* Generic.Prompt */\n",
       ".output_html .gs { font-weight: bold } /* Generic.Strong */\n",
       ".output_html .gu { color: #800080; font-weight: bold } /* Generic.Subheading */\n",
       ".output_html .gt { color: #0044DD } /* Generic.Traceback */\n",
       ".output_html .kc { color: #008000; font-weight: bold } /* Keyword.Constant */\n",
       ".output_html .kd { color: #008000; font-weight: bold } /* Keyword.Declaration */\n",
       ".output_html .kn { color: #008000; font-weight: bold } /* Keyword.Namespace */\n",
       ".output_html .kp { color: #008000 } /* Keyword.Pseudo */\n",
       ".output_html .kr { color: #008000; font-weight: bold } /* Keyword.Reserved */\n",
       ".output_html .kt { color: #B00040 } /* Keyword.Type */\n",
       ".output_html .m { color: #666666 } /* Literal.Number */\n",
       ".output_html .s { color: #BA2121 } /* Literal.String */\n",
       ".output_html .na { color: #7D9029 } /* Name.Attribute */\n",
       ".output_html .nb { color: #008000 } /* Name.Builtin */\n",
       ".output_html .nc { color: #0000FF; font-weight: bold } /* Name.Class */\n",
       ".output_html .no { color: #880000 } /* Name.Constant */\n",
       ".output_html .nd { color: #AA22FF } /* Name.Decorator */\n",
       ".output_html .ni { color: #999999; font-weight: bold } /* Name.Entity */\n",
       ".output_html .ne { color: #D2413A; font-weight: bold } /* Name.Exception */\n",
       ".output_html .nf { color: #0000FF } /* Name.Function */\n",
       ".output_html .nl { color: #A0A000 } /* Name.Label */\n",
       ".output_html .nn { color: #0000FF; font-weight: bold } /* Name.Namespace */\n",
       ".output_html .nt { color: #008000; font-weight: bold } /* Name.Tag */\n",
       ".output_html .nv { color: #19177C } /* Name.Variable */\n",
       ".output_html .ow { color: #AA22FF; font-weight: bold } /* Operator.Word */\n",
       ".output_html .w { color: #bbbbbb } /* Text.Whitespace */\n",
       ".output_html .mb { color: #666666 } /* Literal.Number.Bin */\n",
       ".output_html .mf { color: #666666 } /* Literal.Number.Float */\n",
       ".output_html .mh { color: #666666 } /* Literal.Number.Hex */\n",
       ".output_html .mi { color: #666666 } /* Literal.Number.Integer */\n",
       ".output_html .mo { color: #666666 } /* Literal.Number.Oct */\n",
       ".output_html .sa { color: #BA2121 } /* Literal.String.Affix */\n",
       ".output_html .sb { color: #BA2121 } /* Literal.String.Backtick */\n",
       ".output_html .sc { color: #BA2121 } /* Literal.String.Char */\n",
       ".output_html .dl { color: #BA2121 } /* Literal.String.Delimiter */\n",
       ".output_html .sd { color: #BA2121; font-style: italic } /* Literal.String.Doc */\n",
       ".output_html .s2 { color: #BA2121 } /* Literal.String.Double */\n",
       ".output_html .se { color: #BB6622; font-weight: bold } /* Literal.String.Escape */\n",
       ".output_html .sh { color: #BA2121 } /* Literal.String.Heredoc */\n",
       ".output_html .si { color: #BB6688; font-weight: bold } /* Literal.String.Interpol */\n",
       ".output_html .sx { color: #008000 } /* Literal.String.Other */\n",
       ".output_html .sr { color: #BB6688 } /* Literal.String.Regex */\n",
       ".output_html .s1 { color: #BA2121 } /* Literal.String.Single */\n",
       ".output_html .ss { color: #19177C } /* Literal.String.Symbol */\n",
       ".output_html .bp { color: #008000 } /* Name.Builtin.Pseudo */\n",
       ".output_html .fm { color: #0000FF } /* Name.Function.Magic */\n",
       ".output_html .vc { color: #19177C } /* Name.Variable.Class */\n",
       ".output_html .vg { color: #19177C } /* Name.Variable.Global */\n",
       ".output_html .vi { color: #19177C } /* Name.Variable.Instance */\n",
       ".output_html .vm { color: #19177C } /* Name.Variable.Magic */\n",
       ".output_html .il { color: #666666 } /* Literal.Number.Integer.Long */\n",
       "pre { line-height: 125%; }\n",
       "td.linenos .normal { color: inherit; background-color: transparent; padding-left: 5px; padding-right: 5px; }\n",
       "span.linenos { color: inherit; background-color: transparent; padding-left: 5px; padding-right: 5px; }\n",
       "td.linenos .special { color: #000000; background-color: #ffffc0; padding-left: 5px; padding-right: 5px; }\n",
       "span.linenos.special { color: #000000; background-color: #ffffc0; padding-left: 5px; padding-right: 5px; }\n",
       ".jp-RenderedHTML .hll { background-color: #ffffcc }\n",
       ".jp-RenderedHTML { background: #f8f8f8; }\n",
       ".jp-RenderedHTML .c { color: #408080; font-style: italic } /* Comment */\n",
       ".jp-RenderedHTML .err { border: 1px solid #FF0000 } /* Error */\n",
       ".jp-RenderedHTML .k { color: #008000; font-weight: bold } /* Keyword */\n",
       ".jp-RenderedHTML .o { color: #666666 } /* Operator */\n",
       ".jp-RenderedHTML .ch { color: #408080; font-style: italic } /* Comment.Hashbang */\n",
       ".jp-RenderedHTML .cm { color: #408080; font-style: italic } /* Comment.Multiline */\n",
       ".jp-RenderedHTML .cp { color: #BC7A00 } /* Comment.Preproc */\n",
       ".jp-RenderedHTML .cpf { color: #408080; font-style: italic } /* Comment.PreprocFile */\n",
       ".jp-RenderedHTML .c1 { color: #408080; font-style: italic } /* Comment.Single */\n",
       ".jp-RenderedHTML .cs { color: #408080; font-style: italic } /* Comment.Special */\n",
       ".jp-RenderedHTML .gd { color: #A00000 } /* Generic.Deleted */\n",
       ".jp-RenderedHTML .ge { font-style: italic } /* Generic.Emph */\n",
       ".jp-RenderedHTML .gr { color: #FF0000 } /* Generic.Error */\n",
       ".jp-RenderedHTML .gh { color: #000080; font-weight: bold } /* Generic.Heading */\n",
       ".jp-RenderedHTML .gi { color: #00A000 } /* Generic.Inserted */\n",
       ".jp-RenderedHTML .go { color: #888888 } /* Generic.Output */\n",
       ".jp-RenderedHTML .gp { color: #000080; font-weight: bold } /* Generic.Prompt */\n",
       ".jp-RenderedHTML .gs { font-weight: bold } /* Generic.Strong */\n",
       ".jp-RenderedHTML .gu { color: #800080; font-weight: bold } /* Generic.Subheading */\n",
       ".jp-RenderedHTML .gt { color: #0044DD } /* Generic.Traceback */\n",
       ".jp-RenderedHTML .kc { color: #008000; font-weight: bold } /* Keyword.Constant */\n",
       ".jp-RenderedHTML .kd { color: #008000; font-weight: bold } /* Keyword.Declaration */\n",
       ".jp-RenderedHTML .kn { color: #008000; font-weight: bold } /* Keyword.Namespace */\n",
       ".jp-RenderedHTML .kp { color: #008000 } /* Keyword.Pseudo */\n",
       ".jp-RenderedHTML .kr { color: #008000; font-weight: bold } /* Keyword.Reserved */\n",
       ".jp-RenderedHTML .kt { color: #B00040 } /* Keyword.Type */\n",
       ".jp-RenderedHTML .m { color: #666666 } /* Literal.Number */\n",
       ".jp-RenderedHTML .s { color: #BA2121 } /* Literal.String */\n",
       ".jp-RenderedHTML .na { color: #7D9029 } /* Name.Attribute */\n",
       ".jp-RenderedHTML .nb { color: #008000 } /* Name.Builtin */\n",
       ".jp-RenderedHTML .nc { color: #0000FF; font-weight: bold } /* Name.Class */\n",
       ".jp-RenderedHTML .no { color: #880000 } /* Name.Constant */\n",
       ".jp-RenderedHTML .nd { color: #AA22FF } /* Name.Decorator */\n",
       ".jp-RenderedHTML .ni { color: #999999; font-weight: bold } /* Name.Entity */\n",
       ".jp-RenderedHTML .ne { color: #D2413A; font-weight: bold } /* Name.Exception */\n",
       ".jp-RenderedHTML .nf { color: #0000FF } /* Name.Function */\n",
       ".jp-RenderedHTML .nl { color: #A0A000 } /* Name.Label */\n",
       ".jp-RenderedHTML .nn { color: #0000FF; font-weight: bold } /* Name.Namespace */\n",
       ".jp-RenderedHTML .nt { color: #008000; font-weight: bold } /* Name.Tag */\n",
       ".jp-RenderedHTML .nv { color: #19177C } /* Name.Variable */\n",
       ".jp-RenderedHTML .ow { color: #AA22FF; font-weight: bold } /* Operator.Word */\n",
       ".jp-RenderedHTML .w { color: #bbbbbb } /* Text.Whitespace */\n",
       ".jp-RenderedHTML .mb { color: #666666 } /* Literal.Number.Bin */\n",
       ".jp-RenderedHTML .mf { color: #666666 } /* Literal.Number.Float */\n",
       ".jp-RenderedHTML .mh { color: #666666 } /* Literal.Number.Hex */\n",
       ".jp-RenderedHTML .mi { color: #666666 } /* Literal.Number.Integer */\n",
       ".jp-RenderedHTML .mo { color: #666666 } /* Literal.Number.Oct */\n",
       ".jp-RenderedHTML .sa { color: #BA2121 } /* Literal.String.Affix */\n",
       ".jp-RenderedHTML .sb { color: #BA2121 } /* Literal.String.Backtick */\n",
       ".jp-RenderedHTML .sc { color: #BA2121 } /* Literal.String.Char */\n",
       ".jp-RenderedHTML .dl { color: #BA2121 } /* Literal.String.Delimiter */\n",
       ".jp-RenderedHTML .sd { color: #BA2121; font-style: italic } /* Literal.String.Doc */\n",
       ".jp-RenderedHTML .s2 { color: #BA2121 } /* Literal.String.Double */\n",
       ".jp-RenderedHTML .se { color: #BB6622; font-weight: bold } /* Literal.String.Escape */\n",
       ".jp-RenderedHTML .sh { color: #BA2121 } /* Literal.String.Heredoc */\n",
       ".jp-RenderedHTML .si { color: #BB6688; font-weight: bold } /* Literal.String.Interpol */\n",
       ".jp-RenderedHTML .sx { color: #008000 } /* Literal.String.Other */\n",
       ".jp-RenderedHTML .sr { color: #BB6688 } /* Literal.String.Regex */\n",
       ".jp-RenderedHTML .s1 { color: #BA2121 } /* Literal.String.Single */\n",
       ".jp-RenderedHTML .ss { color: #19177C } /* Literal.String.Symbol */\n",
       ".jp-RenderedHTML .bp { color: #008000 } /* Name.Builtin.Pseudo */\n",
       ".jp-RenderedHTML .fm { color: #0000FF } /* Name.Function.Magic */\n",
       ".jp-RenderedHTML .vc { color: #19177C } /* Name.Variable.Class */\n",
       ".jp-RenderedHTML .vg { color: #19177C } /* Name.Variable.Global */\n",
       ".jp-RenderedHTML .vi { color: #19177C } /* Name.Variable.Instance */\n",
       ".jp-RenderedHTML .vm { color: #19177C } /* Name.Variable.Magic */\n",
       ".jp-RenderedHTML .il { color: #666666 } /* Literal.Number.Integer.Long */</style><div class=\"highlight\"><pre><span></span><span class=\"kt\">uint64_t</span><span class=\"o\">*</span><span class=\"w\"> </span><span class=\"nf\">insertion_sort</span><span class=\"p\">(</span><span class=\"kt\">uint64_t</span><span class=\"w\"> </span><span class=\"n\">size</span><span class=\"p\">)</span><span class=\"w\"></span>\n",
       "<span class=\"p\">{</span><span class=\"w\"></span>\n",
       "<span class=\"w\">\t</span><span class=\"kt\">uint64_t</span><span class=\"w\"> </span><span class=\"o\">*</span><span class=\"w\"> </span><span class=\"n\">list</span><span class=\"w\"> </span><span class=\"o\">=</span><span class=\"w\"> </span><span class=\"n\">random_array</span><span class=\"p\">(</span><span class=\"n\">size</span><span class=\"p\">);</span><span class=\"w\"></span>\n",
       "<span class=\"w\">\t</span><span class=\"n\">start_measurement</span><span class=\"p\">();</span><span class=\"w\"></span>\n",
       "<span class=\"w\">\t</span><span class=\"k\">for</span><span class=\"p\">(</span><span class=\"kt\">uint64_t</span><span class=\"w\"> </span><span class=\"n\">j</span><span class=\"o\">=</span><span class=\"mi\">1</span><span class=\"p\">;</span><span class=\"n\">j</span><span class=\"o\">&lt;</span><span class=\"n\">size</span><span class=\"p\">;</span><span class=\"n\">j</span><span class=\"o\">++</span><span class=\"p\">)</span><span class=\"w\"></span>\n",
       "<span class=\"w\">\t</span><span class=\"p\">{</span><span class=\"w\"></span>\n",
       "<span class=\"w\">\t\t</span><span class=\"kt\">uint64_t</span><span class=\"w\"> </span><span class=\"n\">key</span><span class=\"o\">=</span><span class=\"n\">list</span><span class=\"p\">[</span><span class=\"n\">j</span><span class=\"p\">];</span><span class=\"w\"></span>\n",
       "<span class=\"w\">\t\t</span><span class=\"kt\">uint64_t</span><span class=\"w\"> </span><span class=\"n\">i</span><span class=\"w\"> </span><span class=\"o\">=</span><span class=\"w\"> </span><span class=\"n\">j</span><span class=\"mi\">-1</span><span class=\"p\">;</span><span class=\"w\"></span>\n",
       "<span class=\"w\">\t\t</span><span class=\"k\">while</span><span class=\"p\">(</span><span class=\"n\">list</span><span class=\"p\">[</span><span class=\"n\">i</span><span class=\"p\">]</span><span class=\"w\"> </span><span class=\"o\">&gt;</span><span class=\"w\"> </span><span class=\"n\">key</span><span class=\"p\">)</span><span class=\"w\"></span>\n",
       "<span class=\"w\">\t\t</span><span class=\"p\">{</span><span class=\"w\"></span>\n",
       "<span class=\"w\">\t\t\t</span><span class=\"n\">list</span><span class=\"p\">[</span><span class=\"n\">i</span><span class=\"o\">+</span><span class=\"mi\">1</span><span class=\"p\">]</span><span class=\"o\">=</span><span class=\"n\">list</span><span class=\"p\">[</span><span class=\"n\">i</span><span class=\"p\">];</span><span class=\"w\"></span>\n",
       "<span class=\"w\">\t\t\t</span><span class=\"k\">if</span><span class=\"w\"> </span><span class=\"p\">(</span><span class=\"n\">i</span><span class=\"w\"> </span><span class=\"o\">==</span><span class=\"w\"> </span><span class=\"mi\">0</span><span class=\"p\">)</span><span class=\"w\"></span>\n",
       "<span class=\"w\">\t\t\t\t</span><span class=\"k\">break</span><span class=\"p\">;</span><span class=\"w\"></span>\n",
       "<span class=\"w\">\t\t\t</span><span class=\"n\">i</span><span class=\"o\">=</span><span class=\"n\">i</span><span class=\"mi\">-1</span><span class=\"p\">;</span><span class=\"w\"></span>\n",
       "<span class=\"w\">\t\t</span><span class=\"p\">}</span><span class=\"w\"></span>\n",
       "<span class=\"w\">\t\t</span><span class=\"n\">list</span><span class=\"p\">[</span><span class=\"n\">i</span><span class=\"o\">+</span><span class=\"mi\">1</span><span class=\"p\">]</span><span class=\"o\">=</span><span class=\"n\">key</span><span class=\"p\">;</span><span class=\"w\"></span>\n",
       "\n",
       "<span class=\"w\">\t</span><span class=\"p\">}</span><span class=\"w\"></span>\n",
       "<span class=\"w\">\t</span><span class=\"n\">end_measurement</span><span class=\"p\">();</span><span class=\"w\"></span>\n",
       "<span class=\"w\">\t</span><span class=\"n\">CHECK</span><span class=\"p\">(</span><span class=\"n\">list</span><span class=\"p\">);</span><span class=\"w\"></span>\n",
       "<span class=\"w\">\t</span><span class=\"k\">return</span><span class=\"w\"> </span><span class=\"nb\">NULL</span><span class=\"p\">;</span><span class=\"w\"></span>\n",
       "<span class=\"p\">}</span><span class=\"w\"></span>\n",
       "</pre></div>\n"
      ],
      "text/latex": [
       "\\begin{Verbatim}[commandchars=\\\\\\{\\}]\n",
       "\\PY{k+kt}{uint64\\PYZus{}t}\\PY{o}{*}\\PY{+w}{ }\\PY{n+nf}{insertion\\PYZus{}sort}\\PY{p}{(}\\PY{k+kt}{uint64\\PYZus{}t}\\PY{+w}{ }\\PY{n}{size}\\PY{p}{)}\n",
       "\\PY{p}{\\PYZob{}}\n",
       "\\PY{+w}{\t}\\PY{k+kt}{uint64\\PYZus{}t}\\PY{+w}{ }\\PY{o}{*}\\PY{+w}{ }\\PY{n}{list}\\PY{+w}{ }\\PY{o}{=}\\PY{+w}{ }\\PY{n}{random\\PYZus{}array}\\PY{p}{(}\\PY{n}{size}\\PY{p}{)}\\PY{p}{;}\n",
       "\\PY{+w}{\t}\\PY{n}{start\\PYZus{}measurement}\\PY{p}{(}\\PY{p}{)}\\PY{p}{;}\n",
       "\\PY{+w}{\t}\\PY{k}{for}\\PY{p}{(}\\PY{k+kt}{uint64\\PYZus{}t}\\PY{+w}{ }\\PY{n}{j}\\PY{o}{=}\\PY{l+m+mi}{1}\\PY{p}{;}\\PY{n}{j}\\PY{o}{\\PYZlt{}}\\PY{n}{size}\\PY{p}{;}\\PY{n}{j}\\PY{o}{+}\\PY{o}{+}\\PY{p}{)}\n",
       "\\PY{+w}{\t}\\PY{p}{\\PYZob{}}\n",
       "\\PY{+w}{\t\t}\\PY{k+kt}{uint64\\PYZus{}t}\\PY{+w}{ }\\PY{n}{key}\\PY{o}{=}\\PY{n}{list}\\PY{p}{[}\\PY{n}{j}\\PY{p}{]}\\PY{p}{;}\n",
       "\\PY{+w}{\t\t}\\PY{k+kt}{uint64\\PYZus{}t}\\PY{+w}{ }\\PY{n}{i}\\PY{+w}{ }\\PY{o}{=}\\PY{+w}{ }\\PY{n}{j}\\PY{l+m+mi}{\\PYZhy{}1}\\PY{p}{;}\n",
       "\\PY{+w}{\t\t}\\PY{k}{while}\\PY{p}{(}\\PY{n}{list}\\PY{p}{[}\\PY{n}{i}\\PY{p}{]}\\PY{+w}{ }\\PY{o}{\\PYZgt{}}\\PY{+w}{ }\\PY{n}{key}\\PY{p}{)}\n",
       "\\PY{+w}{\t\t}\\PY{p}{\\PYZob{}}\n",
       "\\PY{+w}{\t\t\t}\\PY{n}{list}\\PY{p}{[}\\PY{n}{i}\\PY{o}{+}\\PY{l+m+mi}{1}\\PY{p}{]}\\PY{o}{=}\\PY{n}{list}\\PY{p}{[}\\PY{n}{i}\\PY{p}{]}\\PY{p}{;}\n",
       "\\PY{+w}{\t\t\t}\\PY{k}{if}\\PY{+w}{ }\\PY{p}{(}\\PY{n}{i}\\PY{+w}{ }\\PY{o}{=}\\PY{o}{=}\\PY{+w}{ }\\PY{l+m+mi}{0}\\PY{p}{)}\n",
       "\\PY{+w}{\t\t\t\t}\\PY{k}{break}\\PY{p}{;}\n",
       "\\PY{+w}{\t\t\t}\\PY{n}{i}\\PY{o}{=}\\PY{n}{i}\\PY{l+m+mi}{\\PYZhy{}1}\\PY{p}{;}\n",
       "\\PY{+w}{\t\t}\\PY{p}{\\PYZcb{}}\n",
       "\\PY{+w}{\t\t}\\PY{n}{list}\\PY{p}{[}\\PY{n}{i}\\PY{o}{+}\\PY{l+m+mi}{1}\\PY{p}{]}\\PY{o}{=}\\PY{n}{key}\\PY{p}{;}\n",
       "\n",
       "\\PY{+w}{\t}\\PY{p}{\\PYZcb{}}\n",
       "\\PY{+w}{\t}\\PY{n}{end\\PYZus{}measurement}\\PY{p}{(}\\PY{p}{)}\\PY{p}{;}\n",
       "\\PY{+w}{\t}\\PY{n}{CHECK}\\PY{p}{(}\\PY{n}{list}\\PY{p}{)}\\PY{p}{;}\n",
       "\\PY{+w}{\t}\\PY{k}{return}\\PY{+w}{ }\\PY{n+nb}{NULL}\\PY{p}{;}\n",
       "\\PY{p}{\\PYZcb{}}\n",
       "\\end{Verbatim}\n"
      ],
      "text/plain": [
       "uint64_t* insertion_sort(uint64_t size)\n",
       "{\n",
       "\tuint64_t * list = random_array(size);\n",
       "\tstart_measurement();\n",
       "\tfor(uint64_t j=1;j<size;j++)\n",
       "\t{\n",
       "\t\tuint64_t key=list[j];\n",
       "\t\tuint64_t i = j-1;\n",
       "\t\twhile(list[i] > key)\n",
       "\t\t{\n",
       "\t\t\tlist[i+1]=list[i];\n",
       "\t\t\tif (i == 0)\n",
       "\t\t\t\tbreak;\n",
       "\t\t\ti=i-1;\n",
       "\t\t}\n",
       "\t\tlist[i+1]=key;\n",
       "\n",
       "\t}\n",
       "\tend_measurement();\n",
       "\tCHECK(list);\n",
       "\treturn NULL;\n",
       "}"
      ]
     },
     "execution_count": 46,
     "metadata": {},
     "output_type": "execute_result"
    }
   ],
   "source": [
    "sort.source(\"insertion_sort\")"
   ]
  },
  {
   "cell_type": "code",
   "execution_count": 47,
   "id": "67351f73-4a96-4a54-8255-2ff6e79a7dc2",
   "metadata": {},
   "outputs": [],
   "source": [
    "r = run(product([sort], [\"bubble_sort\", \"insertion_sort\"], map_product(size=2**arange(4, 16)))).as_df()"
   ]
  },
  {
   "cell_type": "markdown",
   "id": "0d6dc3e2-2963-415a-9f66-cd517754cbcd",
   "metadata": {},
   "source": [
    "This gives a nice table of values:"
   ]
  },
  {
   "cell_type": "code",
   "execution_count": 48,
   "id": "6effc5b1-69ac-4132-b2f5-8aa29924f233",
   "metadata": {},
   "outputs": [
    {
     "data": {
      "text/html": [
       "<div>\n",
       "<style scoped>\n",
       "    .dataframe tbody tr th:only-of-type {\n",
       "        vertical-align: middle;\n",
       "    }\n",
       "\n",
       "    .dataframe tbody tr th {\n",
       "        vertical-align: top;\n",
       "    }\n",
       "\n",
       "    .dataframe thead th {\n",
       "        text-align: right;\n",
       "    }\n",
       "</style>\n",
       "<table border=\"1\" class=\"dataframe\">\n",
       "  <thead>\n",
       "    <tr style=\"text-align: right;\">\n",
       "      <th></th>\n",
       "      <th>OPTIMIZE</th>\n",
       "      <th>function</th>\n",
       "      <th>size</th>\n",
       "      <th>ET</th>\n",
       "    </tr>\n",
       "  </thead>\n",
       "  <tbody>\n",
       "    <tr>\n",
       "      <th>0</th>\n",
       "      <td>-O3</td>\n",
       "      <td>bubble_sort</td>\n",
       "      <td>16</td>\n",
       "      <td>0.000009</td>\n",
       "    </tr>\n",
       "    <tr>\n",
       "      <th>1</th>\n",
       "      <td>-O3</td>\n",
       "      <td>bubble_sort</td>\n",
       "      <td>32</td>\n",
       "      <td>0.000009</td>\n",
       "    </tr>\n",
       "    <tr>\n",
       "      <th>2</th>\n",
       "      <td>-O3</td>\n",
       "      <td>bubble_sort</td>\n",
       "      <td>64</td>\n",
       "      <td>0.000214</td>\n",
       "    </tr>\n",
       "    <tr>\n",
       "      <th>3</th>\n",
       "      <td>-O3</td>\n",
       "      <td>bubble_sort</td>\n",
       "      <td>128</td>\n",
       "      <td>0.000040</td>\n",
       "    </tr>\n",
       "    <tr>\n",
       "      <th>4</th>\n",
       "      <td>-O3</td>\n",
       "      <td>bubble_sort</td>\n",
       "      <td>256</td>\n",
       "      <td>0.000116</td>\n",
       "    </tr>\n",
       "    <tr>\n",
       "      <th>5</th>\n",
       "      <td>-O3</td>\n",
       "      <td>bubble_sort</td>\n",
       "      <td>512</td>\n",
       "      <td>0.000289</td>\n",
       "    </tr>\n",
       "    <tr>\n",
       "      <th>6</th>\n",
       "      <td>-O3</td>\n",
       "      <td>bubble_sort</td>\n",
       "      <td>1024</td>\n",
       "      <td>0.000896</td>\n",
       "    </tr>\n",
       "    <tr>\n",
       "      <th>7</th>\n",
       "      <td>-O3</td>\n",
       "      <td>bubble_sort</td>\n",
       "      <td>2048</td>\n",
       "      <td>0.003179</td>\n",
       "    </tr>\n",
       "    <tr>\n",
       "      <th>8</th>\n",
       "      <td>-O3</td>\n",
       "      <td>bubble_sort</td>\n",
       "      <td>4096</td>\n",
       "      <td>0.014276</td>\n",
       "    </tr>\n",
       "    <tr>\n",
       "      <th>9</th>\n",
       "      <td>-O3</td>\n",
       "      <td>bubble_sort</td>\n",
       "      <td>8192</td>\n",
       "      <td>0.075399</td>\n",
       "    </tr>\n",
       "    <tr>\n",
       "      <th>10</th>\n",
       "      <td>-O3</td>\n",
       "      <td>bubble_sort</td>\n",
       "      <td>16384</td>\n",
       "      <td>0.352106</td>\n",
       "    </tr>\n",
       "    <tr>\n",
       "      <th>11</th>\n",
       "      <td>-O3</td>\n",
       "      <td>bubble_sort</td>\n",
       "      <td>32768</td>\n",
       "      <td>1.531760</td>\n",
       "    </tr>\n",
       "    <tr>\n",
       "      <th>12</th>\n",
       "      <td>-O3</td>\n",
       "      <td>insertion_sort</td>\n",
       "      <td>16</td>\n",
       "      <td>0.000005</td>\n",
       "    </tr>\n",
       "    <tr>\n",
       "      <th>13</th>\n",
       "      <td>-O3</td>\n",
       "      <td>insertion_sort</td>\n",
       "      <td>32</td>\n",
       "      <td>0.000007</td>\n",
       "    </tr>\n",
       "    <tr>\n",
       "      <th>14</th>\n",
       "      <td>-O3</td>\n",
       "      <td>insertion_sort</td>\n",
       "      <td>64</td>\n",
       "      <td>0.000008</td>\n",
       "    </tr>\n",
       "    <tr>\n",
       "      <th>15</th>\n",
       "      <td>-O3</td>\n",
       "      <td>insertion_sort</td>\n",
       "      <td>128</td>\n",
       "      <td>0.000010</td>\n",
       "    </tr>\n",
       "    <tr>\n",
       "      <th>16</th>\n",
       "      <td>-O3</td>\n",
       "      <td>insertion_sort</td>\n",
       "      <td>256</td>\n",
       "      <td>0.000017</td>\n",
       "    </tr>\n",
       "    <tr>\n",
       "      <th>17</th>\n",
       "      <td>-O3</td>\n",
       "      <td>insertion_sort</td>\n",
       "      <td>512</td>\n",
       "      <td>0.000041</td>\n",
       "    </tr>\n",
       "    <tr>\n",
       "      <th>18</th>\n",
       "      <td>-O3</td>\n",
       "      <td>insertion_sort</td>\n",
       "      <td>1024</td>\n",
       "      <td>0.000134</td>\n",
       "    </tr>\n",
       "    <tr>\n",
       "      <th>19</th>\n",
       "      <td>-O3</td>\n",
       "      <td>insertion_sort</td>\n",
       "      <td>2048</td>\n",
       "      <td>0.000539</td>\n",
       "    </tr>\n",
       "    <tr>\n",
       "      <th>20</th>\n",
       "      <td>-O3</td>\n",
       "      <td>insertion_sort</td>\n",
       "      <td>4096</td>\n",
       "      <td>0.002112</td>\n",
       "    </tr>\n",
       "    <tr>\n",
       "      <th>21</th>\n",
       "      <td>-O3</td>\n",
       "      <td>insertion_sort</td>\n",
       "      <td>8192</td>\n",
       "      <td>0.008604</td>\n",
       "    </tr>\n",
       "    <tr>\n",
       "      <th>22</th>\n",
       "      <td>-O3</td>\n",
       "      <td>insertion_sort</td>\n",
       "      <td>16384</td>\n",
       "      <td>0.033664</td>\n",
       "    </tr>\n",
       "    <tr>\n",
       "      <th>23</th>\n",
       "      <td>-O3</td>\n",
       "      <td>insertion_sort</td>\n",
       "      <td>32768</td>\n",
       "      <td>0.132080</td>\n",
       "    </tr>\n",
       "  </tbody>\n",
       "</table>\n",
       "</div>"
      ],
      "text/plain": [
       "   OPTIMIZE        function   size        ET\n",
       "0       -O3     bubble_sort     16  0.000009\n",
       "1       -O3     bubble_sort     32  0.000009\n",
       "2       -O3     bubble_sort     64  0.000214\n",
       "3       -O3     bubble_sort    128  0.000040\n",
       "4       -O3     bubble_sort    256  0.000116\n",
       "5       -O3     bubble_sort    512  0.000289\n",
       "6       -O3     bubble_sort   1024  0.000896\n",
       "7       -O3     bubble_sort   2048  0.003179\n",
       "8       -O3     bubble_sort   4096  0.014276\n",
       "9       -O3     bubble_sort   8192  0.075399\n",
       "10      -O3     bubble_sort  16384  0.352106\n",
       "11      -O3     bubble_sort  32768  1.531760\n",
       "12      -O3  insertion_sort     16  0.000005\n",
       "13      -O3  insertion_sort     32  0.000007\n",
       "14      -O3  insertion_sort     64  0.000008\n",
       "15      -O3  insertion_sort    128  0.000010\n",
       "16      -O3  insertion_sort    256  0.000017\n",
       "17      -O3  insertion_sort    512  0.000041\n",
       "18      -O3  insertion_sort   1024  0.000134\n",
       "19      -O3  insertion_sort   2048  0.000539\n",
       "20      -O3  insertion_sort   4096  0.002112\n",
       "21      -O3  insertion_sort   8192  0.008604\n",
       "22      -O3  insertion_sort  16384  0.033664\n",
       "23      -O3  insertion_sort  32768  0.132080"
      ]
     },
     "metadata": {},
     "output_type": "display_data"
    }
   ],
   "source": [
    "display(r)"
   ]
  },
  {
   "cell_type": "markdown",
   "id": "a7f9aff4-70b8-477f-b151-87ca5f0f4d75",
   "metadata": {},
   "source": [
    "But it's not so easy to graph.  Panda's [pivot_table](https://pandas.pydata.org/docs/reference/api/pandas.pivot_table.html) can fix that:"
   ]
  },
  {
   "cell_type": "code",
   "execution_count": 49,
   "id": "f0055d21-e85e-4ed0-a7b3-3c4c0f311e3e",
   "metadata": {},
   "outputs": [
    {
     "data": {
      "text/html": [
       "<div>\n",
       "<style scoped>\n",
       "    .dataframe tbody tr th:only-of-type {\n",
       "        vertical-align: middle;\n",
       "    }\n",
       "\n",
       "    .dataframe tbody tr th {\n",
       "        vertical-align: top;\n",
       "    }\n",
       "\n",
       "    .dataframe thead th {\n",
       "        text-align: right;\n",
       "    }\n",
       "</style>\n",
       "<table border=\"1\" class=\"dataframe\">\n",
       "  <thead>\n",
       "    <tr style=\"text-align: right;\">\n",
       "      <th>function</th>\n",
       "      <th>bubble_sort</th>\n",
       "      <th>insertion_sort</th>\n",
       "    </tr>\n",
       "    <tr>\n",
       "      <th>size</th>\n",
       "      <th></th>\n",
       "      <th></th>\n",
       "    </tr>\n",
       "  </thead>\n",
       "  <tbody>\n",
       "    <tr>\n",
       "      <th>16</th>\n",
       "      <td>0.000009</td>\n",
       "      <td>0.000005</td>\n",
       "    </tr>\n",
       "    <tr>\n",
       "      <th>32</th>\n",
       "      <td>0.000009</td>\n",
       "      <td>0.000007</td>\n",
       "    </tr>\n",
       "    <tr>\n",
       "      <th>64</th>\n",
       "      <td>0.000214</td>\n",
       "      <td>0.000008</td>\n",
       "    </tr>\n",
       "    <tr>\n",
       "      <th>128</th>\n",
       "      <td>0.000040</td>\n",
       "      <td>0.000010</td>\n",
       "    </tr>\n",
       "    <tr>\n",
       "      <th>256</th>\n",
       "      <td>0.000116</td>\n",
       "      <td>0.000017</td>\n",
       "    </tr>\n",
       "    <tr>\n",
       "      <th>512</th>\n",
       "      <td>0.000289</td>\n",
       "      <td>0.000041</td>\n",
       "    </tr>\n",
       "    <tr>\n",
       "      <th>1024</th>\n",
       "      <td>0.000896</td>\n",
       "      <td>0.000134</td>\n",
       "    </tr>\n",
       "    <tr>\n",
       "      <th>2048</th>\n",
       "      <td>0.003179</td>\n",
       "      <td>0.000539</td>\n",
       "    </tr>\n",
       "    <tr>\n",
       "      <th>4096</th>\n",
       "      <td>0.014276</td>\n",
       "      <td>0.002112</td>\n",
       "    </tr>\n",
       "    <tr>\n",
       "      <th>8192</th>\n",
       "      <td>0.075399</td>\n",
       "      <td>0.008604</td>\n",
       "    </tr>\n",
       "    <tr>\n",
       "      <th>16384</th>\n",
       "      <td>0.352106</td>\n",
       "      <td>0.033664</td>\n",
       "    </tr>\n",
       "    <tr>\n",
       "      <th>32768</th>\n",
       "      <td>1.531760</td>\n",
       "      <td>0.132080</td>\n",
       "    </tr>\n",
       "  </tbody>\n",
       "</table>\n",
       "</div>"
      ],
      "text/plain": [
       "function  bubble_sort  insertion_sort\n",
       "size                                 \n",
       "16           0.000009        0.000005\n",
       "32           0.000009        0.000007\n",
       "64           0.000214        0.000008\n",
       "128          0.000040        0.000010\n",
       "256          0.000116        0.000017\n",
       "512          0.000289        0.000041\n",
       "1024         0.000896        0.000134\n",
       "2048         0.003179        0.000539\n",
       "4096         0.014276        0.002112\n",
       "8192         0.075399        0.008604\n",
       "16384        0.352106        0.033664\n",
       "32768        1.531760        0.132080"
      ]
     },
     "metadata": {},
     "output_type": "display_data"
    }
   ],
   "source": [
    "comparison = pd.pivot_table(r, values=\"ET\", columns=\"function\", index=\"size\")\n",
    "display(comparison)"
   ]
  },
  {
   "cell_type": "code",
   "execution_count": 62,
   "id": "20cded21-efe9-4c98-b7ad-9d901c258324",
   "metadata": {},
   "outputs": [
    {
     "data": {
      "text/plain": [
       "<AxesSubplot:xlabel='n', ylabel='exec. time (s)'>"
      ]
     },
     "execution_count": 62,
     "metadata": {},
     "output_type": "execute_result"
    },
    {
     "data": {
      "image/png": "[encoded data removed]",
      "text/plain": [
       "<Figure size 432x288 with 1 Axes>"
      ]
     },
     "metadata": {
      "needs_background": "light"
     },
     "output_type": "display_data"
    }
   ],
   "source": [
    "comparison.plot.line(xlabel=\"n\", ylabel=\"exec. time (s)\")"
   ]
  },
  {
   "cell_type": "markdown",
   "id": "779bfb70-b0be-4dab-a2c3-eb434fa2b67a",
   "metadata": {},
   "source": [
    "I guess that's why you're not supposed to use bubble sort!"
   ]
  },
  {
   "cell_type": "markdown",
   "id": "035d972c-d736-4758-8408-04d513ca93e9",
   "metadata": {},
   "source": [
    "## More Sorts"
   ]
  },
  {
   "cell_type": "markdown",
   "id": "093cd797-2e9a-43be-89d7-4adb7e1139b2",
   "metadata": {},
   "source": [
    "Let's drop bubble sort because it's terribly slow."
   ]
  },
  {
   "cell_type": "code",
   "execution_count": 77,
   "id": "ff6fa25c-dd04-49d2-8868-e09637e908f3",
   "metadata": {},
   "outputs": [],
   "source": [
    "sort = build_one(\"sorting/sort.cpp\", build_parameters=dict(OPTIMIZE=\"-O3\"))\n",
    "r = run(product([sort], [\"insertion_sort\", \n",
    "                         \"merge_sort\", \n",
    "                         \"stl_sort\", \n",
    "                         \"quick_sort\"\n",
    "                        ], map_product(size=2**arange(4, 16)))).as_df()"
   ]
  },
  {
   "cell_type": "code",
   "execution_count": 78,
   "id": "8347f2df-f70a-4d91-9f19-0becaf9168d5",
   "metadata": {},
   "outputs": [
    {
     "data": {
      "text/plain": [
       "<AxesSubplot:xlabel='n', ylabel='exec. time (s)'>"
      ]
     },
     "execution_count": 78,
     "metadata": {},
     "output_type": "execute_result"
    },
    {
     "data": {
      "image/png": "[encoded data removed]",
      "text/plain": [
       "<Figure size 432x288 with 1 Axes>"
      ]
     },
     "metadata": {
      "needs_background": "light"
     },
     "output_type": "display_data"
    }
   ],
   "source": [
    "comparison = pd.pivot_table(r, values=\"ET\", columns=\"function\", index=\"size\")\n",
    "comparison.plot.line(xlabel=\"n\", ylabel=\"exec. time (s)\")"
   ]
  },
  {
   "cell_type": "markdown",
   "id": "619fe5d7-f4ff-4fb2-a468-7c2510bed7ce",
   "metadata": {},
   "source": [
    "That really drives home the difference between $O(n^2)$ and $O(n \\lg n)$.  Here's just the $O(n \\lg n)$ algorthims:"
   ]
  },
  {
   "cell_type": "code",
   "execution_count": 79,
   "id": "fc78bd83-2f69-4624-99a3-ed6eedaf8de4",
   "metadata": {},
   "outputs": [
    {
     "data": {
      "text/plain": [
       "<AxesSubplot:xlabel='n', ylabel='exec. time (s)'>"
      ]
     },
     "execution_count": 79,
     "metadata": {},
     "output_type": "execute_result"
    },
    {
     "data": {
      "image/png": "[encoded data removed]",
      "text/plain": [
       "<Figure size 432x288 with 1 Axes>"
      ]
     },
     "metadata": {
      "needs_background": "light"
     },
     "output_type": "display_data"
    }
   ],
   "source": [
    "comparison.plot.line(y=[\"merge_sort\", \"quick_sort\", \"stl_sort\"], xlabel=\"n\", ylabel=\"exec. time (s)\")"
   ]
  },
  {
   "cell_type": "markdown",
   "id": "40856740-4de4-4d11-ad0f-ae31cca2e4e5",
   "metadata": {},
   "source": [
    "That's a little noisy.  Let's look at larger data sizes:"
   ]
  },
  {
   "cell_type": "code",
   "execution_count": 90,
   "id": "fdf8d6bf-2073-4380-a40f-c8c9937e677b",
   "metadata": {},
   "outputs": [
    {
     "data": {
      "text/plain": [
       "<AxesSubplot:xlabel='n', ylabel='exec. time (s)'>"
      ]
     },
     "execution_count": 90,
     "metadata": {},
     "output_type": "execute_result"
    },
    {
     "data": {
      "image/png": "[encoded data removed]",
      "text/plain": [
       "<Figure size 432x288 with 1 Axes>"
      ]
     },
     "metadata": {
      "needs_background": "light"
     },
     "output_type": "display_data"
    }
   ],
   "source": [
    "sort = build_one(\"sorting/sort.cpp\", build_parameters=dict(OPTIMIZE=\"-O3\"))\n",
    "r = run(product([sort], [\n",
    "                         \"merge_sort\", \n",
    "                         \"stl_sort\", \n",
    "                         \"quick_sort\"], map_product(size=2**arange(4, 20)))).as_df()\n",
    "comparison = pd.pivot_table(r, values=\"ET\", columns=\"function\", index=\"size\")\n",
    "comparison.plot.line(xlabel=\"n\", ylabel=\"exec. time (s)\")"
   ]
  },
  {
   "cell_type": "markdown",
   "id": "98c7be17-55fa-4c1a-be2d-4b411a34240d",
   "metadata": {},
   "source": [
    "If the numbers look odd, try re-running it.  Performance variation happens!"
   ]
  },
  {
   "cell_type": "markdown",
   "id": "c6aae90c-e784-4f17-b460-80f2447a542b",
   "metadata": {},
   "source": [
    "# The Impact of The Compiler"
   ]
  },
  {
   "cell_type": "markdown",
   "id": "7ac83b6c-6417-4f40-87a5-b9f715805442",
   "metadata": {},
   "source": [
    "We can also examine the impact of the compiler on performance.  Let's see how `std::sort()` performance changes with different optimizations."
   ]
  },
  {
   "cell_type": "code",
   "execution_count": 91,
   "id": "5908c067-d93d-4126-8ca5-6aa4176dc6a4",
   "metadata": {},
   "outputs": [],
   "source": [
    "sorts = build(\"sorting/sort.cpp\", build_parameters=map_product(OPTIMIZE=[\"-O0\", \"-O1 -fno-inline\", \"-O1\", \"-O3\"]))\n",
    "r = run(product(sorts, [\"stl_sort\"], map_product(size=[2**20]))).as_df()"
   ]
  },
  {
   "cell_type": "code",
   "execution_count": 93,
   "id": "1a6d4b56-30c9-448e-9257-9b6b85b75166",
   "metadata": {},
   "outputs": [
    {
     "data": {
      "text/html": [
       "<div>\n",
       "<style scoped>\n",
       "    .dataframe tbody tr th:only-of-type {\n",
       "        vertical-align: middle;\n",
       "    }\n",
       "\n",
       "    .dataframe tbody tr th {\n",
       "        vertical-align: top;\n",
       "    }\n",
       "\n",
       "    .dataframe thead th {\n",
       "        text-align: right;\n",
       "    }\n",
       "</style>\n",
       "<table border=\"1\" class=\"dataframe\">\n",
       "  <thead>\n",
       "    <tr style=\"text-align: right;\">\n",
       "      <th></th>\n",
       "      <th>OPTIMIZE</th>\n",
       "      <th>function</th>\n",
       "      <th>size</th>\n",
       "      <th>ET</th>\n",
       "    </tr>\n",
       "  </thead>\n",
       "  <tbody>\n",
       "    <tr>\n",
       "      <th>0</th>\n",
       "      <td>-O0</td>\n",
       "      <td>stl_sort</td>\n",
       "      <td>1048576</td>\n",
       "      <td>0.221124</td>\n",
       "    </tr>\n",
       "    <tr>\n",
       "      <th>1</th>\n",
       "      <td>-O1 -fno-inline</td>\n",
       "      <td>stl_sort</td>\n",
       "      <td>1048576</td>\n",
       "      <td>0.141706</td>\n",
       "    </tr>\n",
       "    <tr>\n",
       "      <th>2</th>\n",
       "      <td>-O1</td>\n",
       "      <td>stl_sort</td>\n",
       "      <td>1048576</td>\n",
       "      <td>0.067548</td>\n",
       "    </tr>\n",
       "    <tr>\n",
       "      <th>3</th>\n",
       "      <td>-O3</td>\n",
       "      <td>stl_sort</td>\n",
       "      <td>1048576</td>\n",
       "      <td>0.069022</td>\n",
       "    </tr>\n",
       "  </tbody>\n",
       "</table>\n",
       "</div>"
      ],
      "text/plain": [
       "          OPTIMIZE  function     size        ET\n",
       "0              -O0  stl_sort  1048576  0.221124\n",
       "1  -O1 -fno-inline  stl_sort  1048576  0.141706\n",
       "2              -O1  stl_sort  1048576  0.067548\n",
       "3              -O3  stl_sort  1048576  0.069022"
      ]
     },
     "metadata": {},
     "output_type": "display_data"
    },
    {
     "data": {
      "text/plain": [
       "<AxesSubplot:xlabel='OPTIMIZE', ylabel='exec. time (s)'>"
      ]
     },
     "execution_count": 93,
     "metadata": {},
     "output_type": "execute_result"
    },
    {
     "data": {
      "image/png": "[encoded data removed]",
      "text/plain": [
       "<Figure size 432x288 with 1 Axes>"
      ]
     },
     "metadata": {
      "needs_background": "light"
     },
     "output_type": "display_data"
    }
   ],
   "source": [
    "display(r)\n",
    "comparison = pd.pivot_table(r, values=\"ET\", columns=\"OPTIMIZE\", index=\"size\")\n",
    "r.plot.bar(y=\"ET\",x=\"OPTIMIZE\", ylabel=\"exec. time (s)\")"
   ]
  },
  {
   "cell_type": "code",
   "execution_count": null,
   "id": "6a946bce-b59f-4a38-8974-e38dd0d8ec86",
   "metadata": {},
   "outputs": [],
   "source": []
  }
 ],
 "metadata": {
  "kernelspec": {
   "display_name": "Python 3 (ipykernel)",
   "language": "python",
   "name": "python3"
  },
  "language_info": {
   "codemirror_mode": {
    "name": "ipython",
    "version": 3
   },
   "file_extension": ".py",
   "mimetype": "text/x-python",
   "name": "python",
   "nbconvert_exporter": "python",
   "pygments_lexer": "ipython3",
   "version": "3.9.7"
  }
 },
 "nbformat": 4,
 "nbformat_minor": 5
}
