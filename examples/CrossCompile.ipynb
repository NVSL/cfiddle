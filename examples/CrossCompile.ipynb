{
 "cells": [
  {
   "cell_type": "markdown",
   "id": "37984afa-78b3-423d-b531-023448a67987",
   "metadata": {},
   "source": [
    "# Cross Compilation and Compiler Versions"
   ]
  },
  {
   "cell_type": "markdown",
   "id": "5dc8f6da-5b09-4016-89a4-624d95466bc2",
   "metadata": {},
   "source": [
    "CFiddle can compile for multiple architectures, languages, and compiler versions."
   ]
  },
  {
   "cell_type": "markdown",
   "id": "42d1c1f0-19d5-44c1-bdac-227bf8831c84",
   "metadata": {},
   "source": [
    "## Comparing Assembly Across Architectures\n",
    "\n",
    "To compile for a different architecture, we pass `ARCH` to `build()` as a `build_parameter`:"
   ]
  },
  {
   "cell_type": "code",
   "execution_count": null,
   "id": "d2bb9905-8f97-49b8-a694-a008e1ae130b",
   "metadata": {},
   "outputs": [],
   "source": [
    "%xmode Minimal\n",
    "from cfiddle import *\n",
    "from cfiddle.jupyter import *\n",
    "from cfiddle.Toolchain.GCC import GCCToolchain\n",
    "architectures = [x for x in [\"x86\", \"arm\", \"ppc disabled\"] if GCCToolchain.is_toolchain_available(x)]\n",
    "\n",
    "builds = build(code(r\"\"\"\n",
    "extern \"C\"\n",
    "int loop(int count) {\n",
    "    int sum = 0;\n",
    "    for(int i= 0; i < 1000; i++) {\n",
    "        sum +=i;\n",
    "    }\n",
    "    return sum;\n",
    "}\"\"\"), arg_map(ARCH=architectures))"
   ]
  },
  {
   "cell_type": "code",
   "execution_count": null,
   "id": "9209545a-baf3-435c-af6f-44cf2c651ebe",
   "metadata": {},
   "outputs": [],
   "source": [
    "compare(list(map(lambda x: x.asm(\"loop\"), builds)),\n",
    "        list(map(lambda x: x.get_toolchain().describe(), builds)))"
   ]
  },
  {
   "cell_type": "code",
   "execution_count": null,
   "id": "27bd8c08-b984-4d41-8073-5c4f8af8bd7d",
   "metadata": {},
   "outputs": [],
   "source": [
    "compare(list(map(lambda x: x.cfg(\"loop\"), builds)),\n",
    "        list(map(lambda x: x.get_toolchain().describe(), builds)))"
   ]
  },
  {
   "cell_type": "markdown",
   "id": "126e1ce8-7d85-4cd3-9bae-c25fb1ba92c1",
   "metadata": {},
   "source": [
    "## Compare Compiler Versions"
   ]
  },
  {
   "cell_type": "code",
   "execution_count": null,
   "id": "c2484a30-1541-4f40-9cc3-e39acb55c049",
   "metadata": {},
   "outputs": [],
   "source": [
    "# check for which versions are locally avaiable.\n",
    "from cfiddle.util import invoke_process\n",
    "gcc_versions = [x for x in [\"gcc-8\", \"gcc-9\", \"gcc-10\", \"gcc-11\"] if invoke_process([x, \"-v\"])[0]]\n",
    "\n",
    "builds = build(code(r\"\"\"\n",
    "extern \"C\"\n",
    "int loop(int count) {\n",
    "    int sum = 0;\n",
    "    for(int i= 0; i < 1000; i++) {\n",
    "        sum +=i;\n",
    "    }\n",
    "    return sum;\n",
    "}\"\"\"), arg_map(CXX=gcc_versions))\n",
    "compare(list(map(lambda x: x.asm(\"loop\"), builds)),\n",
    "        list(map(lambda x: x.get_toolchain().describe(), builds)))"
   ]
  },
  {
   "cell_type": "markdown",
   "id": "865284d4-1eb5-4845-b9cc-ae418b60889e",
   "metadata": {},
   "source": [
    "## Comparing Compilers"
   ]
  },
  {
   "cell_type": "markdown",
   "id": "c38a30dc-3712-4124-929e-4643f4044170",
   "metadata": {},
   "source": [
    "CFiddle knows about `clang` in addition to `gcc`."
   ]
  },
  {
   "cell_type": "code",
   "execution_count": null,
   "id": "2f3ad833-d50a-42eb-bb7a-ceb156859e4e",
   "metadata": {},
   "outputs": [],
   "source": [
    "builds = build(code(r\"\"\"\n",
    "extern \"C\"\n",
    "int loop(int count) {\n",
    "    int sum = 0;\n",
    "    for(int i= 0; i < 1000; i++) {\n",
    "        sum +=i;\n",
    "    }\n",
    "    return sum;\n",
    "}\"\"\"), arg_map(CXX=[\"gcc\", \"clang\"], DEBUG_FLAGS=\"-g0\"))\n",
    "compare(list(map(lambda x: x.asm(\"loop\"), builds)),\n",
    "        list(map(lambda x: x.get_toolchain().describe(), builds)))"
   ]
  },
  {
   "cell_type": "code",
   "execution_count": null,
   "id": "ca2f9cc7-af65-4d39-9339-a9e3265a41b3",
   "metadata": {},
   "outputs": [],
   "source": []
  }
 ],
 "metadata": {
  "kernelspec": {
   "display_name": "Python 3 (ipykernel)",
   "language": "python",
   "name": "python3"
  },
  "language_info": {
   "codemirror_mode": {
    "name": "ipython",
    "version": 3
   },
   "file_extension": ".py",
   "mimetype": "text/x-python",
   "name": "python",
   "nbconvert_exporter": "python",
   "pygments_lexer": "ipython3",
   "version": "3.10.6"
  },
  "toc": {
   "base_numbering": 1,
   "nav_menu": {},
   "number_sections": true,
   "sideBar": true,
   "skip_h1_title": false,
   "title_cell": "Table of Contents",
   "title_sidebar": "Contents",
   "toc_cell": false,
   "toc_position": {},
   "toc_section_display": true,
   "toc_window_display": true
  }
 },
 "nbformat": 4,
 "nbformat_minor": 5
}
