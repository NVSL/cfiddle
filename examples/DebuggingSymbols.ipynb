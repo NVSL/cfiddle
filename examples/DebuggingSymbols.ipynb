{
 "cells": [
  {
   "cell_type": "markdown",
   "id": "d232a303-c6df-4975-9e70-43ae62980341",
   "metadata": {},
   "source": [
    "# Exploring Debugging Symbols"
   ]
  },
  {
   "cell_type": "markdown",
   "id": "e3a53da7-f7d7-4a18-9977-7393f382d24c",
   "metadata": {},
   "source": [
    "CFiddle can extract [DWARF](https://dwarfstd.org/doc/DWARF4.pdf) debugging information for compiled code.\n",
    "\n",
    "This support is very rudimentary at the moment.  It's mostly suited for learning how DWARF works."
   ]
  },
  {
   "cell_type": "code",
   "execution_count": null,
   "id": "7aed2a28-4a2f-4916-92f1-c162e98530f9",
   "metadata": {},
   "outputs": [],
   "source": [
    "%xmode Minimal\n",
    "from cfiddle import *"
   ]
  },
  {
   "cell_type": "code",
   "execution_count": null,
   "id": "b5014309-7b94-48e7-8143-44e2dfc096a2",
   "metadata": {},
   "outputs": [],
   "source": [
    "source = code(r\"\"\"\n",
    "extern \"C\" \n",
    "int foo(int a) {\n",
    "    int j= 1; \n",
    "    int k= 2; \n",
    "    for(register int i = 0; i < a; i++) {\n",
    "        k =+i;\n",
    "    }\n",
    "    return j + k;\n",
    "}\"\"\")\n",
    "b = build(source)"
   ]
  },
  {
   "cell_type": "markdown",
   "id": "84a39b6d-be5c-41d4-b274-b855bc163d36",
   "metadata": {},
   "source": [
    "## Dump Debugging Information for a Compiled File\n",
    "\n",
    "This can be very, very long."
   ]
  },
  {
   "cell_type": "code",
   "execution_count": null,
   "id": "17cc7192-047b-4281-9a4e-8b8114f72ad2",
   "metadata": {},
   "outputs": [],
   "source": [
    "print(b[0].debug_info())"
   ]
  },
  {
   "cell_type": "markdown",
   "id": "2ae022c9-ff4c-4ef4-9bda-735e07196348",
   "metadata": {},
   "source": [
    "## Or a Just a Function"
   ]
  },
  {
   "cell_type": "code",
   "execution_count": null,
   "id": "0ab18817-8b64-42da-9e63-2f216e1940f1",
   "metadata": {},
   "outputs": [],
   "source": [
    "print(b[0].debug_info(\"foo\"))"
   ]
  },
  {
   "cell_type": "markdown",
   "id": "a628a724-f8b4-4121-b54a-26a34898c71c",
   "metadata": {},
   "source": [
    "## Extracting Stack Frames"
   ]
  },
  {
   "cell_type": "markdown",
   "id": "686fd222-1e37-4086-bdba-c2a4db853858",
   "metadata": {},
   "source": [
    "CFiddle has basic support for extracting the call frame for a function.  Which makes some sense if you look at it next to the source and the assembly.\n",
    "\n",
    "The DWARF data tell us, for instance, that `a` is at offset -44 relative to the DWARF's concept of the base of the stack frame.  Simultaneously, the assembly suggests that `a` is  at offset -28 relative to `%rbp`, which is the architecture's notion of the base of the stack frame -- a difference of 16.  If you add 16 to the other offsets in stack frame output, the results line up with the assembly:  `j` is at -12, and `k` is at -16.  `i` is in a register.\n",
    "\n",
    "Remarkably, DWARF4 includes a Turing-complete language for computing these and other values.  See, CFiddle taught you something already!\n",
    "\n",
    "Obviously, there's more work to be done in in CFiddle to make the stack frames easier to understand."
   ]
  },
  {
   "cell_type": "code",
   "execution_count": null,
   "id": "50b28e6c-aaef-45c3-90f7-23d6031776b8",
   "metadata": {},
   "outputs": [],
   "source": [
    "from cfiddle.jupyter import compare\n",
    "compare([b[0].stack_frame(\"foo\"), b[0].source(), b[0].asm(\"foo\")])"
   ]
  },
  {
   "cell_type": "code",
   "execution_count": null,
   "id": "0e4cac8a",
   "metadata": {},
   "outputs": [],
   "source": []
  }
 ],
 "metadata": {
  "kernelspec": {
   "display_name": "Python 3 (ipykernel)",
   "language": "python",
   "name": "python3"
  },
  "language_info": {
   "codemirror_mode": {
    "name": "ipython",
    "version": 3
   },
   "file_extension": ".py",
   "mimetype": "text/x-python",
   "name": "python",
   "nbconvert_exporter": "python",
   "pygments_lexer": "ipython3",
   "version": "3.10.6"
  },
  "toc": {
   "base_numbering": 1,
   "nav_menu": {},
   "number_sections": true,
   "sideBar": true,
   "skip_h1_title": false,
   "title_cell": "Table of Contents",
   "title_sidebar": "Contents",
   "toc_cell": false,
   "toc_position": {},
   "toc_section_display": true,
   "toc_window_display": true
  }
 },
 "nbformat": 4,
 "nbformat_minor": 5
}
