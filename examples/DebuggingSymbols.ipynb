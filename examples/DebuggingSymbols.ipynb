{
 "cells": [
  {
   "cell_type": "markdown",
   "id": "d232a303-c6df-4975-9e70-43ae62980341",
   "metadata": {},
   "source": [
    "# Exploring Debugging Symbols"
   ]
  },
  {
   "cell_type": "markdown",
   "id": "e3a53da7-f7d7-4a18-9977-7393f382d24c",
   "metadata": {},
   "source": [
    "CFiddle can extract [DWARF](https://dwarfstd.org/doc/DWARF4.pdf) debugging information for compiled code."
   ]
  },
  {
   "cell_type": "code",
   "execution_count": 4,
   "id": "7aed2a28-4a2f-4916-92f1-c162e98530f9",
   "metadata": {},
   "outputs": [],
   "source": [
    "from cfiddle import *\n",
    "configure_for_jupyter()"
   ]
  },
  {
   "cell_type": "code",
   "execution_count": 5,
   "id": "b5014309-7b94-48e7-8143-44e2dfc096a2",
   "metadata": {},
   "outputs": [
    {
     "data": {
      "application/vnd.jupyter.widget-view+json": {
       "model_id": "1b637acab78e4d5682114e6209da6255",
       "version_major": 2,
       "version_minor": 0
      },
      "text/plain": [
       "  0%|          | 0/1 [00:00<?, ?it/s]"
      ]
     },
     "metadata": {},
     "output_type": "display_data"
    }
   ],
   "source": [
    "source = code(r\"\"\"\n",
    "extern \"C\" \n",
    "int foo(int a) {\n",
    "    int k= 0; \n",
    "    return k;\n",
    "}\"\"\")\n",
    "b = build(source)"
   ]
  },
  {
   "cell_type": "code",
   "execution_count": 3,
   "id": "17cc7192-047b-4281-9a4e-8b8114f72ad2",
   "metadata": {},
   "outputs": [
    {
     "name": "stdout",
     "output_type": "stream",
     "text": [
      "[  11] DW_TAG_compile_unit\n",
      "[  12]   DW_AT_producer = b'GNU C++11 9.3.0 -mtune=generic -march=x86-64 -g3 -std=gnu++11 -fPIC -fasynchronous-unwind-tables -fstack-protector-strong -fstack-clash-protection -fcf-protection'\n",
      "[  16]   DW_AT_language = 4\n",
      "[  17]   DW_AT_name = b'.cfiddle/builds/anonymous_code/8cf18fa515d3e93f3ba23e44c931a328.cpp'\n",
      "[  21]   DW_AT_comp_dir = b'/cse142L/fiddle/examples'\n",
      "[  25]   DW_AT_low_pc = 4345\n",
      "[  33]   DW_AT_high_pc = 23\n",
      "[  41]   DW_AT_stmt_list = 0\n",
      "[  45]   DW_AT_GNU_macros = 0\n",
      "[  49]   DW_TAG_subprogram\n",
      "[  50]     DW_AT_external = True\n",
      "[  50]     DW_AT_name = b'foo'\n",
      "[  54]     DW_AT_decl_file = 1\n",
      "[  55]     DW_AT_decl_line = 3\n",
      "[  56]     DW_AT_decl_column = 5\n",
      "[  57]     DW_AT_type = 110\n",
      "[  61]     DW_AT_low_pc = 4345\n",
      "[  69]     DW_AT_high_pc = 23\n",
      "[  77]     DW_AT_frame_base = [156]\n",
      "[  79]     DW_AT_GNU_all_call_sites = True\n",
      "[  79]     DW_AT_sibling = 110\n",
      "[  83]     DW_TAG_formal_parameter\n",
      "[  84]       DW_AT_name = b'a'\n",
      "[  86]       DW_AT_decl_file = 1\n",
      "[  87]       DW_AT_decl_line = 3\n",
      "[  88]       DW_AT_decl_column = 13\n",
      "[  89]       DW_AT_type = 110\n",
      "[  93]       DW_AT_location = [145, 92]\n",
      "[  96]     DW_TAG_variable\n",
      "[  97]       DW_AT_name = b'k'\n",
      "[  99]       DW_AT_decl_file = 1\n",
      "[ 100]       DW_AT_decl_line = 4\n",
      "[ 101]       DW_AT_decl_column = 9\n",
      "[ 102]       DW_AT_type = 110\n",
      "[ 106]       DW_AT_location = [145, 108]\n",
      "[ 110]   DW_TAG_base_type\n",
      "[ 111]     DW_AT_byte_size = 4\n",
      "[ 112]     DW_AT_encoding = 5\n",
      "[ 113]     DW_AT_name = b'int'\n",
      "\n"
     ]
    }
   ],
   "source": [
    "print(b[0].debug_info())"
   ]
  }
 ],
 "metadata": {
  "kernelspec": {
   "display_name": "Python 3 (ipykernel)",
   "language": "python",
   "name": "python3"
  },
  "language_info": {
   "codemirror_mode": {
    "name": "ipython",
    "version": 3
   },
   "file_extension": ".py",
   "mimetype": "text/x-python",
   "name": "python",
   "nbconvert_exporter": "python",
   "pygments_lexer": "ipython3",
   "version": "3.9.7"
  }
 },
 "nbformat": 4,
 "nbformat_minor": 5
}
