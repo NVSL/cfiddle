{
 "cells": [
  {
   "cell_type": "markdown",
   "id": "84d35959-42cb-46ae-8beb-6182f0321193",
   "metadata": {},
   "source": [
    "# CFiddle Tutorial and Tour"
   ]
  },
  {
   "cell_type": "markdown",
   "id": "b226e7fa-d3ea-4ee9-a076-8c61027281f3",
   "metadata": {},
   "source": [
    "CFiddle is a Python library for studying how smallish programs are compiled and execute.  It is built to make it easy to experiment and explore.\n",
    "\n",
    "With it you can:\n",
    "\n",
    "1. See what the compiler did to your code.\n",
    "2. Visualize programs with control flow graphs.\n",
    "3. Compare the performance of different algorithms/compilation flags/inputs.\n",
    "4. Easily process, plot, or export the results of the above.\n",
    "5. Do all of the above in Juypter Notebook/Lab.\n",
    "\n",
    "If you want to get a feel for why CFiddle is useful (and see some more of its features), checkout [the gallery](README.ipynb).  If you want to learn how to use CFiddle, read on!\n",
    "\n",
    "If you have questions, contact swanson@cs.ucsd.edu."
   ]
  },
  {
   "cell_type": "markdown",
   "id": "70a9d7ca-9d20-45bd-8e64-b9fea91a5dcf",
   "metadata": {},
   "source": [
    "## Importing CFiddle"
   ]
  },
  {
   "cell_type": "markdown",
   "id": "ec7cc8dd-0f09-4619-b905-f85097a680fa",
   "metadata": {},
   "source": [
    "Load up everything and set it up to place nicely with Jupyter."
   ]
  },
  {
   "cell_type": "code",
   "execution_count": 1,
   "id": "5065bffd-30db-4952-a0c3-c8d59ed719ea",
   "metadata": {},
   "outputs": [],
   "source": [
    "from cfiddle import *\n"
   ]
  },
  {
   "cell_type": "markdown",
   "id": "607f8fe9-aebf-4884-9081-5d37a7742713",
   "metadata": {},
   "source": [
    "## Building Code"
   ]
  },
  {
   "cell_type": "markdown",
   "id": "4574363a-4d50-4227-8920-c49892d51558",
   "metadata": {},
   "source": [
    "Let's compile a program:"
   ]
  },
  {
   "cell_type": "code",
   "execution_count": 2,
   "id": "9d6113ad-59d8-4e0d-95ee-d0f734ba5dbc",
   "metadata": {},
   "outputs": [
    {
     "data": {
      "application/vnd.jupyter.widget-view+json": {
       "model_id": "1137273ca43f483fafb3e4bd0bbf98f4",
       "version_major": 2,
       "version_minor": 0
      },
      "text/plain": [
       "  0%|          | 0/1 [00:00<?, ?it/s]"
      ]
     },
     "metadata": {},
     "output_type": "display_data"
    }
   ],
   "source": [
    "exe = build(code(r\"\"\"\n",
    "extern \"C\"\n",
    "int forty_two() {\n",
    "    return 42;\n",
    "}\"\"\"))[0] "
   ]
  },
  {
   "cell_type": "markdown",
   "id": "fc3b8690-1477-4760-a4b2-13f84fbced05",
   "metadata": {},
   "source": [
    "There are few things going on here:\n",
    "\n",
    "1.  `code()` takes a raw Python string, stores it in anonymous file, and returns the filename.\n",
    "2.  We declared `forty_two()` as `extern \"C\"` so it's name won't get mangled.\n",
    "2.  `build()` compiles the code in the file into a dynamic library, so we can execute it later.\n",
    "\n",
    "`build()` returns a _list_ of objects that represent versions of the compiled code.  In this case, we only compiled one version, so the list has a single entry, which we stored in `exe`.\n",
    "\n",
    "Before we run `forty_two()`, let's take a look at it's assembly:"
   ]
  },
  {
   "cell_type": "code",
   "execution_count": 3,
   "id": "0e7a9d09-71fb-46ff-a306-0b3aa56c7148",
   "metadata": {},
   "outputs": [
    {
     "data": {
      "text/html": [
       "<style>pre { line-height: 125%; }\n",
       "td.linenos .normal { color: inherit; background-color: transparent; padding-left: 5px; padding-right: 5px; }\n",
       "span.linenos { color: inherit; background-color: transparent; padding-left: 5px; padding-right: 5px; }\n",
       "td.linenos .special { color: #000000; background-color: #ffffc0; padding-left: 5px; padding-right: 5px; }\n",
       "span.linenos.special { color: #000000; background-color: #ffffc0; padding-left: 5px; padding-right: 5px; }\n",
       ".output_html .hll { background-color: #ffffcc }\n",
       ".output_html { background: #f8f8f8; }\n",
       ".output_html .c { color: #3D7B7B; font-style: italic } /* Comment */\n",
       ".output_html .err { border: 1px solid #FF0000 } /* Error */\n",
       ".output_html .k { color: #008000; font-weight: bold } /* Keyword */\n",
       ".output_html .o { color: #666666 } /* Operator */\n",
       ".output_html .ch { color: #3D7B7B; font-style: italic } /* Comment.Hashbang */\n",
       ".output_html .cm { color: #3D7B7B; font-style: italic } /* Comment.Multiline */\n",
       ".output_html .cp { color: #9C6500 } /* Comment.Preproc */\n",
       ".output_html .cpf { color: #3D7B7B; font-style: italic } /* Comment.PreprocFile */\n",
       ".output_html .c1 { color: #3D7B7B; font-style: italic } /* Comment.Single */\n",
       ".output_html .cs { color: #3D7B7B; font-style: italic } /* Comment.Special */\n",
       ".output_html .gd { color: #A00000 } /* Generic.Deleted */\n",
       ".output_html .ge { font-style: italic } /* Generic.Emph */\n",
       ".output_html .gr { color: #E40000 } /* Generic.Error */\n",
       ".output_html .gh { color: #000080; font-weight: bold } /* Generic.Heading */\n",
       ".output_html .gi { color: #008400 } /* Generic.Inserted */\n",
       ".output_html .go { color: #717171 } /* Generic.Output */\n",
       ".output_html .gp { color: #000080; font-weight: bold } /* Generic.Prompt */\n",
       ".output_html .gs { font-weight: bold } /* Generic.Strong */\n",
       ".output_html .gu { color: #800080; font-weight: bold } /* Generic.Subheading */\n",
       ".output_html .gt { color: #0044DD } /* Generic.Traceback */\n",
       ".output_html .kc { color: #008000; font-weight: bold } /* Keyword.Constant */\n",
       ".output_html .kd { color: #008000; font-weight: bold } /* Keyword.Declaration */\n",
       ".output_html .kn { color: #008000; font-weight: bold } /* Keyword.Namespace */\n",
       ".output_html .kp { color: #008000 } /* Keyword.Pseudo */\n",
       ".output_html .kr { color: #008000; font-weight: bold } /* Keyword.Reserved */\n",
       ".output_html .kt { color: #B00040 } /* Keyword.Type */\n",
       ".output_html .m { color: #666666 } /* Literal.Number */\n",
       ".output_html .s { color: #BA2121 } /* Literal.String */\n",
       ".output_html .na { color: #687822 } /* Name.Attribute */\n",
       ".output_html .nb { color: #008000 } /* Name.Builtin */\n",
       ".output_html .nc { color: #0000FF; font-weight: bold } /* Name.Class */\n",
       ".output_html .no { color: #880000 } /* Name.Constant */\n",
       ".output_html .nd { color: #AA22FF } /* Name.Decorator */\n",
       ".output_html .ni { color: #717171; font-weight: bold } /* Name.Entity */\n",
       ".output_html .ne { color: #CB3F38; font-weight: bold } /* Name.Exception */\n",
       ".output_html .nf { color: #0000FF } /* Name.Function */\n",
       ".output_html .nl { color: #767600 } /* Name.Label */\n",
       ".output_html .nn { color: #0000FF; font-weight: bold } /* Name.Namespace */\n",
       ".output_html .nt { color: #008000; font-weight: bold } /* Name.Tag */\n",
       ".output_html .nv { color: #19177C } /* Name.Variable */\n",
       ".output_html .ow { color: #AA22FF; font-weight: bold } /* Operator.Word */\n",
       ".output_html .w { color: #bbbbbb } /* Text.Whitespace */\n",
       ".output_html .mb { color: #666666 } /* Literal.Number.Bin */\n",
       ".output_html .mf { color: #666666 } /* Literal.Number.Float */\n",
       ".output_html .mh { color: #666666 } /* Literal.Number.Hex */\n",
       ".output_html .mi { color: #666666 } /* Literal.Number.Integer */\n",
       ".output_html .mo { color: #666666 } /* Literal.Number.Oct */\n",
       ".output_html .sa { color: #BA2121 } /* Literal.String.Affix */\n",
       ".output_html .sb { color: #BA2121 } /* Literal.String.Backtick */\n",
       ".output_html .sc { color: #BA2121 } /* Literal.String.Char */\n",
       ".output_html .dl { color: #BA2121 } /* Literal.String.Delimiter */\n",
       ".output_html .sd { color: #BA2121; font-style: italic } /* Literal.String.Doc */\n",
       ".output_html .s2 { color: #BA2121 } /* Literal.String.Double */\n",
       ".output_html .se { color: #AA5D1F; font-weight: bold } /* Literal.String.Escape */\n",
       ".output_html .sh { color: #BA2121 } /* Literal.String.Heredoc */\n",
       ".output_html .si { color: #A45A77; font-weight: bold } /* Literal.String.Interpol */\n",
       ".output_html .sx { color: #008000 } /* Literal.String.Other */\n",
       ".output_html .sr { color: #A45A77 } /* Literal.String.Regex */\n",
       ".output_html .s1 { color: #BA2121 } /* Literal.String.Single */\n",
       ".output_html .ss { color: #19177C } /* Literal.String.Symbol */\n",
       ".output_html .bp { color: #008000 } /* Name.Builtin.Pseudo */\n",
       ".output_html .fm { color: #0000FF } /* Name.Function.Magic */\n",
       ".output_html .vc { color: #19177C } /* Name.Variable.Class */\n",
       ".output_html .vg { color: #19177C } /* Name.Variable.Global */\n",
       ".output_html .vi { color: #19177C } /* Name.Variable.Instance */\n",
       ".output_html .vm { color: #19177C } /* Name.Variable.Magic */\n",
       ".output_html .il { color: #666666 } /* Literal.Number.Integer.Long */\n",
       "pre { line-height: 125%; }\n",
       "td.linenos .normal { color: inherit; background-color: transparent; padding-left: 5px; padding-right: 5px; }\n",
       "span.linenos { color: inherit; background-color: transparent; padding-left: 5px; padding-right: 5px; }\n",
       "td.linenos .special { color: #000000; background-color: #ffffc0; padding-left: 5px; padding-right: 5px; }\n",
       "span.linenos.special { color: #000000; background-color: #ffffc0; padding-left: 5px; padding-right: 5px; }\n",
       ".jp-RenderedHTML .hll { background-color: #ffffcc }\n",
       ".jp-RenderedHTML { background: #f8f8f8; }\n",
       ".jp-RenderedHTML .c { color: #3D7B7B; font-style: italic } /* Comment */\n",
       ".jp-RenderedHTML .err { border: 1px solid #FF0000 } /* Error */\n",
       ".jp-RenderedHTML .k { color: #008000; font-weight: bold } /* Keyword */\n",
       ".jp-RenderedHTML .o { color: #666666 } /* Operator */\n",
       ".jp-RenderedHTML .ch { color: #3D7B7B; font-style: italic } /* Comment.Hashbang */\n",
       ".jp-RenderedHTML .cm { color: #3D7B7B; font-style: italic } /* Comment.Multiline */\n",
       ".jp-RenderedHTML .cp { color: #9C6500 } /* Comment.Preproc */\n",
       ".jp-RenderedHTML .cpf { color: #3D7B7B; font-style: italic } /* Comment.PreprocFile */\n",
       ".jp-RenderedHTML .c1 { color: #3D7B7B; font-style: italic } /* Comment.Single */\n",
       ".jp-RenderedHTML .cs { color: #3D7B7B; font-style: italic } /* Comment.Special */\n",
       ".jp-RenderedHTML .gd { color: #A00000 } /* Generic.Deleted */\n",
       ".jp-RenderedHTML .ge { font-style: italic } /* Generic.Emph */\n",
       ".jp-RenderedHTML .gr { color: #E40000 } /* Generic.Error */\n",
       ".jp-RenderedHTML .gh { color: #000080; font-weight: bold } /* Generic.Heading */\n",
       ".jp-RenderedHTML .gi { color: #008400 } /* Generic.Inserted */\n",
       ".jp-RenderedHTML .go { color: #717171 } /* Generic.Output */\n",
       ".jp-RenderedHTML .gp { color: #000080; font-weight: bold } /* Generic.Prompt */\n",
       ".jp-RenderedHTML .gs { font-weight: bold } /* Generic.Strong */\n",
       ".jp-RenderedHTML .gu { color: #800080; font-weight: bold } /* Generic.Subheading */\n",
       ".jp-RenderedHTML .gt { color: #0044DD } /* Generic.Traceback */\n",
       ".jp-RenderedHTML .kc { color: #008000; font-weight: bold } /* Keyword.Constant */\n",
       ".jp-RenderedHTML .kd { color: #008000; font-weight: bold } /* Keyword.Declaration */\n",
       ".jp-RenderedHTML .kn { color: #008000; font-weight: bold } /* Keyword.Namespace */\n",
       ".jp-RenderedHTML .kp { color: #008000 } /* Keyword.Pseudo */\n",
       ".jp-RenderedHTML .kr { color: #008000; font-weight: bold } /* Keyword.Reserved */\n",
       ".jp-RenderedHTML .kt { color: #B00040 } /* Keyword.Type */\n",
       ".jp-RenderedHTML .m { color: #666666 } /* Literal.Number */\n",
       ".jp-RenderedHTML .s { color: #BA2121 } /* Literal.String */\n",
       ".jp-RenderedHTML .na { color: #687822 } /* Name.Attribute */\n",
       ".jp-RenderedHTML .nb { color: #008000 } /* Name.Builtin */\n",
       ".jp-RenderedHTML .nc { color: #0000FF; font-weight: bold } /* Name.Class */\n",
       ".jp-RenderedHTML .no { color: #880000 } /* Name.Constant */\n",
       ".jp-RenderedHTML .nd { color: #AA22FF } /* Name.Decorator */\n",
       ".jp-RenderedHTML .ni { color: #717171; font-weight: bold } /* Name.Entity */\n",
       ".jp-RenderedHTML .ne { color: #CB3F38; font-weight: bold } /* Name.Exception */\n",
       ".jp-RenderedHTML .nf { color: #0000FF } /* Name.Function */\n",
       ".jp-RenderedHTML .nl { color: #767600 } /* Name.Label */\n",
       ".jp-RenderedHTML .nn { color: #0000FF; font-weight: bold } /* Name.Namespace */\n",
       ".jp-RenderedHTML .nt { color: #008000; font-weight: bold } /* Name.Tag */\n",
       ".jp-RenderedHTML .nv { color: #19177C } /* Name.Variable */\n",
       ".jp-RenderedHTML .ow { color: #AA22FF; font-weight: bold } /* Operator.Word */\n",
       ".jp-RenderedHTML .w { color: #bbbbbb } /* Text.Whitespace */\n",
       ".jp-RenderedHTML .mb { color: #666666 } /* Literal.Number.Bin */\n",
       ".jp-RenderedHTML .mf { color: #666666 } /* Literal.Number.Float */\n",
       ".jp-RenderedHTML .mh { color: #666666 } /* Literal.Number.Hex */\n",
       ".jp-RenderedHTML .mi { color: #666666 } /* Literal.Number.Integer */\n",
       ".jp-RenderedHTML .mo { color: #666666 } /* Literal.Number.Oct */\n",
       ".jp-RenderedHTML .sa { color: #BA2121 } /* Literal.String.Affix */\n",
       ".jp-RenderedHTML .sb { color: #BA2121 } /* Literal.String.Backtick */\n",
       ".jp-RenderedHTML .sc { color: #BA2121 } /* Literal.String.Char */\n",
       ".jp-RenderedHTML .dl { color: #BA2121 } /* Literal.String.Delimiter */\n",
       ".jp-RenderedHTML .sd { color: #BA2121; font-style: italic } /* Literal.String.Doc */\n",
       ".jp-RenderedHTML .s2 { color: #BA2121 } /* Literal.String.Double */\n",
       ".jp-RenderedHTML .se { color: #AA5D1F; font-weight: bold } /* Literal.String.Escape */\n",
       ".jp-RenderedHTML .sh { color: #BA2121 } /* Literal.String.Heredoc */\n",
       ".jp-RenderedHTML .si { color: #A45A77; font-weight: bold } /* Literal.String.Interpol */\n",
       ".jp-RenderedHTML .sx { color: #008000 } /* Literal.String.Other */\n",
       ".jp-RenderedHTML .sr { color: #A45A77 } /* Literal.String.Regex */\n",
       ".jp-RenderedHTML .s1 { color: #BA2121 } /* Literal.String.Single */\n",
       ".jp-RenderedHTML .ss { color: #19177C } /* Literal.String.Symbol */\n",
       ".jp-RenderedHTML .bp { color: #008000 } /* Name.Builtin.Pseudo */\n",
       ".jp-RenderedHTML .fm { color: #0000FF } /* Name.Function.Magic */\n",
       ".jp-RenderedHTML .vc { color: #19177C } /* Name.Variable.Class */\n",
       ".jp-RenderedHTML .vg { color: #19177C } /* Name.Variable.Global */\n",
       ".jp-RenderedHTML .vi { color: #19177C } /* Name.Variable.Instance */\n",
       ".jp-RenderedHTML .vm { color: #19177C } /* Name.Variable.Magic */\n",
       ".jp-RenderedHTML .il { color: #666666 } /* Literal.Number.Integer.Long */</style><div class=\"highlight\"><pre><span></span><span class=\"nl\">forty_two:</span><span class=\"w\"></span>\n",
       "<span class=\"nl\">.LFB0:</span><span class=\"w\"></span>\n",
       "<span class=\"w\">\t</span><span class=\"na\">.file</span><span class=\"w\"> </span><span class=\"mi\">1</span><span class=\"w\"> </span><span class=\"s\">&quot;.cfiddle/builds/anonymous_code/9e88330761e25e87b0442346dc6ddf32.cpp&quot;</span><span class=\"w\"></span>\n",
       "<span class=\"w\">\t</span><span class=\"na\">.loc</span><span class=\"w\"> </span><span class=\"mi\">1</span><span class=\"w\"> </span><span class=\"mi\">3</span><span class=\"w\"> </span><span class=\"mi\">17</span><span class=\"w\"></span>\n",
       "<span class=\"w\">\t</span><span class=\"na\">.cfi_startproc</span><span class=\"w\"></span>\n",
       "<span class=\"w\">\t</span><span class=\"nf\">endbr64</span><span class=\"w\"></span>\n",
       "<span class=\"w\">\t</span><span class=\"nf\">pushq</span><span class=\"w\">\t</span><span class=\"nv\">%rbp</span><span class=\"w\"></span>\n",
       "<span class=\"w\">\t</span><span class=\"na\">.cfi_def_cfa_offset</span><span class=\"w\"> </span><span class=\"mi\">16</span><span class=\"w\"></span>\n",
       "<span class=\"w\">\t</span><span class=\"na\">.cfi_offset</span><span class=\"w\"> </span><span class=\"mi\">6</span><span class=\"p\">,</span><span class=\"w\"> </span><span class=\"mi\">-16</span><span class=\"w\"></span>\n",
       "<span class=\"w\">\t</span><span class=\"nf\">movq</span><span class=\"w\">\t</span><span class=\"nv\">%rsp</span><span class=\"p\">,</span><span class=\"w\"> </span><span class=\"nv\">%rbp</span><span class=\"w\"></span>\n",
       "<span class=\"w\">\t</span><span class=\"na\">.cfi_def_cfa_register</span><span class=\"w\"> </span><span class=\"mi\">6</span><span class=\"w\"></span>\n",
       "<span class=\"w\">\t</span><span class=\"na\">.loc</span><span class=\"w\"> </span><span class=\"mi\">1</span><span class=\"w\"> </span><span class=\"mi\">4</span><span class=\"w\"> </span><span class=\"mi\">12</span><span class=\"w\"></span>\n",
       "<span class=\"w\">\t</span><span class=\"nf\">movl</span><span class=\"w\">\t</span><span class=\"no\">$42</span><span class=\"p\">,</span><span class=\"w\"> </span><span class=\"nv\">%eax</span><span class=\"w\"></span>\n",
       "<span class=\"w\">\t</span><span class=\"na\">.loc</span><span class=\"w\"> </span><span class=\"mi\">1</span><span class=\"w\"> </span><span class=\"mi\">5</span><span class=\"w\"> </span><span class=\"mi\">1</span><span class=\"w\"></span>\n",
       "<span class=\"w\">\t</span><span class=\"nf\">popq</span><span class=\"w\">\t</span><span class=\"nv\">%rbp</span><span class=\"w\"></span>\n",
       "<span class=\"w\">\t</span><span class=\"na\">.cfi_def_cfa</span><span class=\"w\"> </span><span class=\"mi\">7</span><span class=\"p\">,</span><span class=\"w\"> </span><span class=\"mi\">8</span><span class=\"w\"></span>\n",
       "<span class=\"w\">\t</span><span class=\"nf\">ret</span><span class=\"w\"></span>\n",
       "<span class=\"w\">\t</span><span class=\"na\">.cfi_endproc</span><span class=\"w\"></span>\n",
       "</pre></div>\n"
      ],
      "text/latex": [
       "\\begin{Verbatim}[commandchars=\\\\\\{\\}]\n",
       "\\PY{n+nl}{forty\\PYZus{}two:}\n",
       "\\PY{n+nl}{.LFB0:}\n",
       "\\PY{+w}{\t}\\PY{n+na}{.file}\\PY{+w}{ }\\PY{l+m+mi}{1}\\PY{+w}{ }\\PY{l+s}{\\PYZdq{}.cfiddle/builds/anonymous\\PYZus{}code/9e88330761e25e87b0442346dc6ddf32.cpp\\PYZdq{}}\n",
       "\\PY{+w}{\t}\\PY{n+na}{.loc}\\PY{+w}{ }\\PY{l+m+mi}{1}\\PY{+w}{ }\\PY{l+m+mi}{3}\\PY{+w}{ }\\PY{l+m+mi}{17}\n",
       "\\PY{+w}{\t}\\PY{n+na}{.cfi\\PYZus{}startproc}\n",
       "\\PY{+w}{\t}\\PY{n+nf}{endbr64}\n",
       "\\PY{+w}{\t}\\PY{n+nf}{pushq}\\PY{+w}{\t}\\PY{n+nv}{\\PYZpc{}rbp}\n",
       "\\PY{+w}{\t}\\PY{n+na}{.cfi\\PYZus{}def\\PYZus{}cfa\\PYZus{}offset}\\PY{+w}{ }\\PY{l+m+mi}{16}\n",
       "\\PY{+w}{\t}\\PY{n+na}{.cfi\\PYZus{}offset}\\PY{+w}{ }\\PY{l+m+mi}{6}\\PY{p}{,}\\PY{+w}{ }\\PY{l+m+mi}{\\PYZhy{}16}\n",
       "\\PY{+w}{\t}\\PY{n+nf}{movq}\\PY{+w}{\t}\\PY{n+nv}{\\PYZpc{}rsp}\\PY{p}{,}\\PY{+w}{ }\\PY{n+nv}{\\PYZpc{}rbp}\n",
       "\\PY{+w}{\t}\\PY{n+na}{.cfi\\PYZus{}def\\PYZus{}cfa\\PYZus{}register}\\PY{+w}{ }\\PY{l+m+mi}{6}\n",
       "\\PY{+w}{\t}\\PY{n+na}{.loc}\\PY{+w}{ }\\PY{l+m+mi}{1}\\PY{+w}{ }\\PY{l+m+mi}{4}\\PY{+w}{ }\\PY{l+m+mi}{12}\n",
       "\\PY{+w}{\t}\\PY{n+nf}{movl}\\PY{+w}{\t}\\PY{n+no}{\\PYZdl{}42}\\PY{p}{,}\\PY{+w}{ }\\PY{n+nv}{\\PYZpc{}eax}\n",
       "\\PY{+w}{\t}\\PY{n+na}{.loc}\\PY{+w}{ }\\PY{l+m+mi}{1}\\PY{+w}{ }\\PY{l+m+mi}{5}\\PY{+w}{ }\\PY{l+m+mi}{1}\n",
       "\\PY{+w}{\t}\\PY{n+nf}{popq}\\PY{+w}{\t}\\PY{n+nv}{\\PYZpc{}rbp}\n",
       "\\PY{+w}{\t}\\PY{n+na}{.cfi\\PYZus{}def\\PYZus{}cfa}\\PY{+w}{ }\\PY{l+m+mi}{7}\\PY{p}{,}\\PY{+w}{ }\\PY{l+m+mi}{8}\n",
       "\\PY{+w}{\t}\\PY{n+nf}{ret}\n",
       "\\PY{+w}{\t}\\PY{n+na}{.cfi\\PYZus{}endproc}\n",
       "\\end{Verbatim}\n"
      ],
      "text/plain": [
       "forty_two:\n",
       ".LFB0:\n",
       "\t.file 1 \".cfiddle/builds/anonymous_code/9e88330761e25e87b0442346dc6ddf32.cpp\"\n",
       "\t.loc 1 3 17\n",
       "\t.cfi_startproc\n",
       "\tendbr64\n",
       "\tpushq\t%rbp\n",
       "\t.cfi_def_cfa_offset 16\n",
       "\t.cfi_offset 6, -16\n",
       "\tmovq\t%rsp, %rbp\n",
       "\t.cfi_def_cfa_register 6\n",
       "\t.loc 1 4 12\n",
       "\tmovl\t$42, %eax\n",
       "\t.loc 1 5 1\n",
       "\tpopq\t%rbp\n",
       "\t.cfi_def_cfa 7, 8\n",
       "\tret\n",
       "\t.cfi_endproc"
      ]
     },
     "execution_count": 3,
     "metadata": {},
     "output_type": "execute_result"
    }
   ],
   "source": [
    "exe.asm(\"forty_two\")"
   ]
  },
  {
   "cell_type": "markdown",
   "id": "be761432-922c-43f4-9eba-a8a839073407",
   "metadata": {},
   "source": [
    "## Running Code"
   ]
  },
  {
   "cell_type": "markdown",
   "id": "a0402bcf-5e41-498f-9770-61f7d96bc5c6",
   "metadata": {},
   "source": [
    "Let's run the function:"
   ]
  },
  {
   "cell_type": "code",
   "execution_count": 4,
   "id": "fb14961f-7a5d-4518-afd0-5b26af7ba04d",
   "metadata": {},
   "outputs": [
    {
     "data": {
      "application/vnd.jupyter.widget-view+json": {
       "model_id": "b902d0c5b2994bc882797a70bf490e4b",
       "version_major": 2,
       "version_minor": 0
      },
      "text/plain": [
       "  0%|          | 0/1 [00:00<?, ?it/s]"
      ]
     },
     "metadata": {},
     "output_type": "display_data"
    },
    {
     "data": {
      "text/plain": [
       "42"
      ]
     },
     "metadata": {},
     "output_type": "display_data"
    }
   ],
   "source": [
    "results = run(exe, \"forty_two\")\n",
    "display(results[0].return_value)"
   ]
  },
  {
   "cell_type": "markdown",
   "id": "9582a02b-40b8-47e2-b1f8-8de14c14de07",
   "metadata": {},
   "source": [
    "The `run()` function takes an executable and a function name to invoke.  It returns a _list_ of objects representing the results of execution. In this case, again, there's just one object, because we only executed one function, one time."
   ]
  },
  {
   "cell_type": "markdown",
   "id": "d4d240e2-59ba-41da-94ad-f28f5de46040",
   "metadata": {},
   "source": [
    "## Building Multiple Versions"
   ]
  },
  {
   "cell_type": "markdown",
   "id": "493c92bd-7037-4b85-8fbc-b58d74e04cf3",
   "metadata": {},
   "source": [
    "Here's a more interesting function:"
   ]
  },
  {
   "cell_type": "code",
   "execution_count": 5,
   "id": "e1072008-07e0-4300-8b1a-194e75ee61e3",
   "metadata": {},
   "outputs": [],
   "source": [
    "more_interesting = code(r\"\"\"\n",
    "extern \"C\"\n",
    "int times_forty_two(int x) {\n",
    "    return 42 * x;\n",
    "}\n",
    "\n",
    "extern \"C\"\n",
    "int plus_forty_two(int x) {\n",
    "    return 42 + x;\n",
    "}\"\"\")"
   ]
  },
  {
   "cell_type": "markdown",
   "id": "50ce597f-1baf-4538-86de-dcd13a06c4fc",
   "metadata": {},
   "source": [
    "Let's compile it with a specific set of compiler flags:"
   ]
  },
  {
   "cell_type": "code",
   "execution_count": 6,
   "id": "72be9734-14c5-4908-a1b0-74e6ed5a0c33",
   "metadata": {},
   "outputs": [
    {
     "data": {
      "application/vnd.jupyter.widget-view+json": {
       "model_id": "f66c9d2505d14b80a47961b2b9217129",
       "version_major": 2,
       "version_minor": 0
      },
      "text/plain": [
       "  0%|          | 0/1 [00:00<?, ?it/s]"
      ]
     },
     "metadata": {},
     "output_type": "display_data"
    }
   ],
   "source": [
    "exe = build(source=more_interesting, \n",
    "            build_parameters=arg_map(OPTIMIZE=\"-O1\"))"
   ]
  },
  {
   "cell_type": "markdown",
   "id": "42472a30-95c4-4325-92d9-6f5bb1616d55",
   "metadata": {},
   "source": [
    "The `build_parameters` argument takes a dict that sets `Makefile` variables that CFiddle will use to build the executable, so now `exe[0]` represents a slightly more optimized version of `more_interesting`.\n",
    "\n",
    "It'd be more interesting two compare two different optimization levels, and CFiddle makes that easy:"
   ]
  },
  {
   "cell_type": "code",
   "execution_count": 7,
   "id": "6577e1bb-4158-435b-a259-9aeff74051bf",
   "metadata": {},
   "outputs": [
    {
     "data": {
      "application/vnd.jupyter.widget-view+json": {
       "model_id": "709f3229a6d54bc9bd7de28445260662",
       "version_major": 2,
       "version_minor": 0
      },
      "text/plain": [
       "  0%|          | 0/2 [00:00<?, ?it/s]"
      ]
     },
     "metadata": {},
     "output_type": "display_data"
    }
   ],
   "source": [
    "exe = build(more_interesting, \n",
    "            build_parameters=arg_map(OPTIMIZE=[\"-O0\", \"-O1\"]))"
   ]
  },
  {
   "cell_type": "markdown",
   "id": "d7e792dc-810b-43d3-be5a-74e6789f5ebf",
   "metadata": {},
   "source": [
    "The key here is `arg_map()`.  `arg_map()` is the third central tool in CFiddle (along with `build()` and `run()`).\n",
    "\n",
    "`arg_map()` takes a `dict` that maps argument names to lists of values.  It returns a `list` of `dict`s that map those keys to the corresponding values in all possible combinations.  For instance:"
   ]
  },
  {
   "cell_type": "code",
   "execution_count": 8,
   "id": "8d2da605-8b84-4ef3-b027-dbb544e3e113",
   "metadata": {},
   "outputs": [
    {
     "data": {
      "text/plain": [
       "[{'a': 1, 'b': 3}, {'a': 1, 'b': 4}, {'a': 2, 'b': 3}, {'a': 2, 'b': 4}]"
      ]
     },
     "execution_count": 8,
     "metadata": {},
     "output_type": "execute_result"
    }
   ],
   "source": [
    "arg_map(a=[1,2], b=[3,4])"
   ]
  },
  {
   "cell_type": "markdown",
   "id": "555f93c9-ce5a-47ce-b855-56a54d6dc2e1",
   "metadata": {},
   "source": [
    "Or, more relevantly:"
   ]
  },
  {
   "cell_type": "code",
   "execution_count": 9,
   "id": "de3e76c2-dc2f-4471-89c1-827462fc290f",
   "metadata": {},
   "outputs": [
    {
     "data": {
      "text/plain": [
       "[{'OPTIMIZE': '-O0'}, {'OPTIMIZE': '-O1'}]"
      ]
     },
     "execution_count": 9,
     "metadata": {},
     "output_type": "execute_result"
    }
   ],
   "source": [
    "arg_map(OPTIMIZE=[\"-O0\", \"-O1\"])"
   ]
  },
  {
   "cell_type": "markdown",
   "id": "a798589a-2c0c-4cd1-9fb8-e4f082cd4eea",
   "metadata": {},
   "source": [
    "So the `build()` call above, passes a list of `build_parameter` settings and compiles `more_interesting` for each set of values.  The result is two executables:"
   ]
  },
  {
   "cell_type": "code",
   "execution_count": 10,
   "id": "1616680d-f2d6-46fd-8a28-f12bbc56181c",
   "metadata": {},
   "outputs": [
    {
     "data": {
      "text/plain": [
       "[<cfiddle.jupyter.source.FullyInstrumentedExecutable at 0x7fa7fdd52b30>,\n",
       " <cfiddle.jupyter.source.FullyInstrumentedExecutable at 0x7fa7fd3c7c70>]"
      ]
     },
     "metadata": {},
     "output_type": "display_data"
    }
   ],
   "source": [
    "display(exe)"
   ]
  },
  {
   "cell_type": "markdown",
   "id": "07108c92-0565-421c-b384-78f36620bbe2",
   "metadata": {},
   "source": [
    "And we can compare their assembly like so:"
   ]
  },
  {
   "cell_type": "code",
   "execution_count": 11,
   "id": "1b84ffd9-8899-4f35-8797-b1439732bbbb",
   "metadata": {},
   "outputs": [
    {
     "data": {
      "text/html": [
       "\n",
       "            <style>\n",
       "        .side-by-side {\n",
       "            display: flex;\n",
       "            align-items: stretch;\n",
       "        }\n",
       "        .side-by-side-pane {\n",
       "            margin-right:1em;\n",
       "            border-right-style: solid;\n",
       "            border-right-color: black;\n",
       "            border-right-width: 1px;\n",
       "            flex: 1;\n",
       "        }\n",
       "        .side-by-side-pane .heading{\n",
       "            font-size: 1.5;\n",
       "            font-weight: bold;\n",
       "            text-align:center;\n",
       "            border-bottom-style: dotted;\n",
       "            border-bottom-width: 1px;\n",
       "            border-bottom-color: gray;\n",
       "            margin-left: 1em;\n",
       "            margin-right: 1em;\n",
       "\n",
       "        }\n",
       "        </style>\n",
       "        <div class=\"side-by-side\"> <div class='side-by-side-pane'><div class='heading'>OPTIMIZE = -O0</div><div><style>pre { line-height: 125%; }\n",
       "td.linenos .normal { color: inherit; background-color: transparent; padding-left: 5px; padding-right: 5px; }\n",
       "span.linenos { color: inherit; background-color: transparent; padding-left: 5px; padding-right: 5px; }\n",
       "td.linenos .special { color: #000000; background-color: #ffffc0; padding-left: 5px; padding-right: 5px; }\n",
       "span.linenos.special { color: #000000; background-color: #ffffc0; padding-left: 5px; padding-right: 5px; }\n",
       ".output_html .hll { background-color: #ffffcc }\n",
       ".output_html { background: #f8f8f8; }\n",
       ".output_html .c { color: #3D7B7B; font-style: italic } /* Comment */\n",
       ".output_html .err { border: 1px solid #FF0000 } /* Error */\n",
       ".output_html .k { color: #008000; font-weight: bold } /* Keyword */\n",
       ".output_html .o { color: #666666 } /* Operator */\n",
       ".output_html .ch { color: #3D7B7B; font-style: italic } /* Comment.Hashbang */\n",
       ".output_html .cm { color: #3D7B7B; font-style: italic } /* Comment.Multiline */\n",
       ".output_html .cp { color: #9C6500 } /* Comment.Preproc */\n",
       ".output_html .cpf { color: #3D7B7B; font-style: italic } /* Comment.PreprocFile */\n",
       ".output_html .c1 { color: #3D7B7B; font-style: italic } /* Comment.Single */\n",
       ".output_html .cs { color: #3D7B7B; font-style: italic } /* Comment.Special */\n",
       ".output_html .gd { color: #A00000 } /* Generic.Deleted */\n",
       ".output_html .ge { font-style: italic } /* Generic.Emph */\n",
       ".output_html .gr { color: #E40000 } /* Generic.Error */\n",
       ".output_html .gh { color: #000080; font-weight: bold } /* Generic.Heading */\n",
       ".output_html .gi { color: #008400 } /* Generic.Inserted */\n",
       ".output_html .go { color: #717171 } /* Generic.Output */\n",
       ".output_html .gp { color: #000080; font-weight: bold } /* Generic.Prompt */\n",
       ".output_html .gs { font-weight: bold } /* Generic.Strong */\n",
       ".output_html .gu { color: #800080; font-weight: bold } /* Generic.Subheading */\n",
       ".output_html .gt { color: #0044DD } /* Generic.Traceback */\n",
       ".output_html .kc { color: #008000; font-weight: bold } /* Keyword.Constant */\n",
       ".output_html .kd { color: #008000; font-weight: bold } /* Keyword.Declaration */\n",
       ".output_html .kn { color: #008000; font-weight: bold } /* Keyword.Namespace */\n",
       ".output_html .kp { color: #008000 } /* Keyword.Pseudo */\n",
       ".output_html .kr { color: #008000; font-weight: bold } /* Keyword.Reserved */\n",
       ".output_html .kt { color: #B00040 } /* Keyword.Type */\n",
       ".output_html .m { color: #666666 } /* Literal.Number */\n",
       ".output_html .s { color: #BA2121 } /* Literal.String */\n",
       ".output_html .na { color: #687822 } /* Name.Attribute */\n",
       ".output_html .nb { color: #008000 } /* Name.Builtin */\n",
       ".output_html .nc { color: #0000FF; font-weight: bold } /* Name.Class */\n",
       ".output_html .no { color: #880000 } /* Name.Constant */\n",
       ".output_html .nd { color: #AA22FF } /* Name.Decorator */\n",
       ".output_html .ni { color: #717171; font-weight: bold } /* Name.Entity */\n",
       ".output_html .ne { color: #CB3F38; font-weight: bold } /* Name.Exception */\n",
       ".output_html .nf { color: #0000FF } /* Name.Function */\n",
       ".output_html .nl { color: #767600 } /* Name.Label */\n",
       ".output_html .nn { color: #0000FF; font-weight: bold } /* Name.Namespace */\n",
       ".output_html .nt { color: #008000; font-weight: bold } /* Name.Tag */\n",
       ".output_html .nv { color: #19177C } /* Name.Variable */\n",
       ".output_html .ow { color: #AA22FF; font-weight: bold } /* Operator.Word */\n",
       ".output_html .w { color: #bbbbbb } /* Text.Whitespace */\n",
       ".output_html .mb { color: #666666 } /* Literal.Number.Bin */\n",
       ".output_html .mf { color: #666666 } /* Literal.Number.Float */\n",
       ".output_html .mh { color: #666666 } /* Literal.Number.Hex */\n",
       ".output_html .mi { color: #666666 } /* Literal.Number.Integer */\n",
       ".output_html .mo { color: #666666 } /* Literal.Number.Oct */\n",
       ".output_html .sa { color: #BA2121 } /* Literal.String.Affix */\n",
       ".output_html .sb { color: #BA2121 } /* Literal.String.Backtick */\n",
       ".output_html .sc { color: #BA2121 } /* Literal.String.Char */\n",
       ".output_html .dl { color: #BA2121 } /* Literal.String.Delimiter */\n",
       ".output_html .sd { color: #BA2121; font-style: italic } /* Literal.String.Doc */\n",
       ".output_html .s2 { color: #BA2121 } /* Literal.String.Double */\n",
       ".output_html .se { color: #AA5D1F; font-weight: bold } /* Literal.String.Escape */\n",
       ".output_html .sh { color: #BA2121 } /* Literal.String.Heredoc */\n",
       ".output_html .si { color: #A45A77; font-weight: bold } /* Literal.String.Interpol */\n",
       ".output_html .sx { color: #008000 } /* Literal.String.Other */\n",
       ".output_html .sr { color: #A45A77 } /* Literal.String.Regex */\n",
       ".output_html .s1 { color: #BA2121 } /* Literal.String.Single */\n",
       ".output_html .ss { color: #19177C } /* Literal.String.Symbol */\n",
       ".output_html .bp { color: #008000 } /* Name.Builtin.Pseudo */\n",
       ".output_html .fm { color: #0000FF } /* Name.Function.Magic */\n",
       ".output_html .vc { color: #19177C } /* Name.Variable.Class */\n",
       ".output_html .vg { color: #19177C } /* Name.Variable.Global */\n",
       ".output_html .vi { color: #19177C } /* Name.Variable.Instance */\n",
       ".output_html .vm { color: #19177C } /* Name.Variable.Magic */\n",
       ".output_html .il { color: #666666 } /* Literal.Number.Integer.Long */\n",
       "pre { line-height: 125%; }\n",
       "td.linenos .normal { color: inherit; background-color: transparent; padding-left: 5px; padding-right: 5px; }\n",
       "span.linenos { color: inherit; background-color: transparent; padding-left: 5px; padding-right: 5px; }\n",
       "td.linenos .special { color: #000000; background-color: #ffffc0; padding-left: 5px; padding-right: 5px; }\n",
       "span.linenos.special { color: #000000; background-color: #ffffc0; padding-left: 5px; padding-right: 5px; }\n",
       ".jp-RenderedHTML .hll { background-color: #ffffcc }\n",
       ".jp-RenderedHTML { background: #f8f8f8; }\n",
       ".jp-RenderedHTML .c { color: #3D7B7B; font-style: italic } /* Comment */\n",
       ".jp-RenderedHTML .err { border: 1px solid #FF0000 } /* Error */\n",
       ".jp-RenderedHTML .k { color: #008000; font-weight: bold } /* Keyword */\n",
       ".jp-RenderedHTML .o { color: #666666 } /* Operator */\n",
       ".jp-RenderedHTML .ch { color: #3D7B7B; font-style: italic } /* Comment.Hashbang */\n",
       ".jp-RenderedHTML .cm { color: #3D7B7B; font-style: italic } /* Comment.Multiline */\n",
       ".jp-RenderedHTML .cp { color: #9C6500 } /* Comment.Preproc */\n",
       ".jp-RenderedHTML .cpf { color: #3D7B7B; font-style: italic } /* Comment.PreprocFile */\n",
       ".jp-RenderedHTML .c1 { color: #3D7B7B; font-style: italic } /* Comment.Single */\n",
       ".jp-RenderedHTML .cs { color: #3D7B7B; font-style: italic } /* Comment.Special */\n",
       ".jp-RenderedHTML .gd { color: #A00000 } /* Generic.Deleted */\n",
       ".jp-RenderedHTML .ge { font-style: italic } /* Generic.Emph */\n",
       ".jp-RenderedHTML .gr { color: #E40000 } /* Generic.Error */\n",
       ".jp-RenderedHTML .gh { color: #000080; font-weight: bold } /* Generic.Heading */\n",
       ".jp-RenderedHTML .gi { color: #008400 } /* Generic.Inserted */\n",
       ".jp-RenderedHTML .go { color: #717171 } /* Generic.Output */\n",
       ".jp-RenderedHTML .gp { color: #000080; font-weight: bold } /* Generic.Prompt */\n",
       ".jp-RenderedHTML .gs { font-weight: bold } /* Generic.Strong */\n",
       ".jp-RenderedHTML .gu { color: #800080; font-weight: bold } /* Generic.Subheading */\n",
       ".jp-RenderedHTML .gt { color: #0044DD } /* Generic.Traceback */\n",
       ".jp-RenderedHTML .kc { color: #008000; font-weight: bold } /* Keyword.Constant */\n",
       ".jp-RenderedHTML .kd { color: #008000; font-weight: bold } /* Keyword.Declaration */\n",
       ".jp-RenderedHTML .kn { color: #008000; font-weight: bold } /* Keyword.Namespace */\n",
       ".jp-RenderedHTML .kp { color: #008000 } /* Keyword.Pseudo */\n",
       ".jp-RenderedHTML .kr { color: #008000; font-weight: bold } /* Keyword.Reserved */\n",
       ".jp-RenderedHTML .kt { color: #B00040 } /* Keyword.Type */\n",
       ".jp-RenderedHTML .m { color: #666666 } /* Literal.Number */\n",
       ".jp-RenderedHTML .s { color: #BA2121 } /* Literal.String */\n",
       ".jp-RenderedHTML .na { color: #687822 } /* Name.Attribute */\n",
       ".jp-RenderedHTML .nb { color: #008000 } /* Name.Builtin */\n",
       ".jp-RenderedHTML .nc { color: #0000FF; font-weight: bold } /* Name.Class */\n",
       ".jp-RenderedHTML .no { color: #880000 } /* Name.Constant */\n",
       ".jp-RenderedHTML .nd { color: #AA22FF } /* Name.Decorator */\n",
       ".jp-RenderedHTML .ni { color: #717171; font-weight: bold } /* Name.Entity */\n",
       ".jp-RenderedHTML .ne { color: #CB3F38; font-weight: bold } /* Name.Exception */\n",
       ".jp-RenderedHTML .nf { color: #0000FF } /* Name.Function */\n",
       ".jp-RenderedHTML .nl { color: #767600 } /* Name.Label */\n",
       ".jp-RenderedHTML .nn { color: #0000FF; font-weight: bold } /* Name.Namespace */\n",
       ".jp-RenderedHTML .nt { color: #008000; font-weight: bold } /* Name.Tag */\n",
       ".jp-RenderedHTML .nv { color: #19177C } /* Name.Variable */\n",
       ".jp-RenderedHTML .ow { color: #AA22FF; font-weight: bold } /* Operator.Word */\n",
       ".jp-RenderedHTML .w { color: #bbbbbb } /* Text.Whitespace */\n",
       ".jp-RenderedHTML .mb { color: #666666 } /* Literal.Number.Bin */\n",
       ".jp-RenderedHTML .mf { color: #666666 } /* Literal.Number.Float */\n",
       ".jp-RenderedHTML .mh { color: #666666 } /* Literal.Number.Hex */\n",
       ".jp-RenderedHTML .mi { color: #666666 } /* Literal.Number.Integer */\n",
       ".jp-RenderedHTML .mo { color: #666666 } /* Literal.Number.Oct */\n",
       ".jp-RenderedHTML .sa { color: #BA2121 } /* Literal.String.Affix */\n",
       ".jp-RenderedHTML .sb { color: #BA2121 } /* Literal.String.Backtick */\n",
       ".jp-RenderedHTML .sc { color: #BA2121 } /* Literal.String.Char */\n",
       ".jp-RenderedHTML .dl { color: #BA2121 } /* Literal.String.Delimiter */\n",
       ".jp-RenderedHTML .sd { color: #BA2121; font-style: italic } /* Literal.String.Doc */\n",
       ".jp-RenderedHTML .s2 { color: #BA2121 } /* Literal.String.Double */\n",
       ".jp-RenderedHTML .se { color: #AA5D1F; font-weight: bold } /* Literal.String.Escape */\n",
       ".jp-RenderedHTML .sh { color: #BA2121 } /* Literal.String.Heredoc */\n",
       ".jp-RenderedHTML .si { color: #A45A77; font-weight: bold } /* Literal.String.Interpol */\n",
       ".jp-RenderedHTML .sx { color: #008000 } /* Literal.String.Other */\n",
       ".jp-RenderedHTML .sr { color: #A45A77 } /* Literal.String.Regex */\n",
       ".jp-RenderedHTML .s1 { color: #BA2121 } /* Literal.String.Single */\n",
       ".jp-RenderedHTML .ss { color: #19177C } /* Literal.String.Symbol */\n",
       ".jp-RenderedHTML .bp { color: #008000 } /* Name.Builtin.Pseudo */\n",
       ".jp-RenderedHTML .fm { color: #0000FF } /* Name.Function.Magic */\n",
       ".jp-RenderedHTML .vc { color: #19177C } /* Name.Variable.Class */\n",
       ".jp-RenderedHTML .vg { color: #19177C } /* Name.Variable.Global */\n",
       ".jp-RenderedHTML .vi { color: #19177C } /* Name.Variable.Instance */\n",
       ".jp-RenderedHTML .vm { color: #19177C } /* Name.Variable.Magic */\n",
       ".jp-RenderedHTML .il { color: #666666 } /* Literal.Number.Integer.Long */</style><div class=\"highlight\"><pre><span></span><span class=\"nl\">times_forty_two:</span><span class=\"w\"></span>\n",
       "<span class=\"nl\">.LFB0:</span><span class=\"w\"></span>\n",
       "<span class=\"w\">\t</span><span class=\"na\">.file</span><span class=\"w\"> </span><span class=\"mi\">1</span><span class=\"w\"> </span><span class=\"s\">&quot;.cfiddle/builds/anonymous_code/0a80ff0d9bb797f4a6d692f78f4cb4d8.cpp&quot;</span><span class=\"w\"></span>\n",
       "<span class=\"w\">\t</span><span class=\"na\">.loc</span><span class=\"w\"> </span><span class=\"mi\">1</span><span class=\"w\"> </span><span class=\"mi\">3</span><span class=\"w\"> </span><span class=\"mi\">28</span><span class=\"w\"></span>\n",
       "<span class=\"w\">\t</span><span class=\"na\">.cfi_startproc</span><span class=\"w\"></span>\n",
       "<span class=\"w\">\t</span><span class=\"nf\">endbr64</span><span class=\"w\"></span>\n",
       "<span class=\"w\">\t</span><span class=\"nf\">pushq</span><span class=\"w\">\t</span><span class=\"nv\">%rbp</span><span class=\"w\"></span>\n",
       "<span class=\"w\">\t</span><span class=\"na\">.cfi_def_cfa_offset</span><span class=\"w\"> </span><span class=\"mi\">16</span><span class=\"w\"></span>\n",
       "<span class=\"w\">\t</span><span class=\"na\">.cfi_offset</span><span class=\"w\"> </span><span class=\"mi\">6</span><span class=\"p\">,</span><span class=\"w\"> </span><span class=\"mi\">-16</span><span class=\"w\"></span>\n",
       "<span class=\"w\">\t</span><span class=\"nf\">movq</span><span class=\"w\">\t</span><span class=\"nv\">%rsp</span><span class=\"p\">,</span><span class=\"w\"> </span><span class=\"nv\">%rbp</span><span class=\"w\"></span>\n",
       "<span class=\"w\">\t</span><span class=\"na\">.cfi_def_cfa_register</span><span class=\"w\"> </span><span class=\"mi\">6</span><span class=\"w\"></span>\n",
       "<span class=\"w\">\t</span><span class=\"nf\">movl</span><span class=\"w\">\t</span><span class=\"nv\">%edi</span><span class=\"p\">,</span><span class=\"w\"> </span><span class=\"mi\">-4</span><span class=\"p\">(</span><span class=\"nv\">%rbp</span><span class=\"p\">)</span><span class=\"w\"></span>\n",
       "<span class=\"w\">\t</span><span class=\"na\">.loc</span><span class=\"w\"> </span><span class=\"mi\">1</span><span class=\"w\"> </span><span class=\"mi\">4</span><span class=\"w\"> </span><span class=\"mi\">17</span><span class=\"w\"></span>\n",
       "<span class=\"w\">\t</span><span class=\"nf\">movl</span><span class=\"w\">\t</span><span class=\"mi\">-4</span><span class=\"p\">(</span><span class=\"nv\">%rbp</span><span class=\"p\">),</span><span class=\"w\"> </span><span class=\"nv\">%eax</span><span class=\"w\"></span>\n",
       "<span class=\"w\">\t</span><span class=\"nf\">imull</span><span class=\"w\">\t</span><span class=\"no\">$42</span><span class=\"p\">,</span><span class=\"w\"> </span><span class=\"nv\">%eax</span><span class=\"p\">,</span><span class=\"w\"> </span><span class=\"nv\">%eax</span><span class=\"w\"></span>\n",
       "<span class=\"w\">\t</span><span class=\"na\">.loc</span><span class=\"w\"> </span><span class=\"mi\">1</span><span class=\"w\"> </span><span class=\"mi\">5</span><span class=\"w\"> </span><span class=\"mi\">1</span><span class=\"w\"></span>\n",
       "<span class=\"w\">\t</span><span class=\"nf\">popq</span><span class=\"w\">\t</span><span class=\"nv\">%rbp</span><span class=\"w\"></span>\n",
       "<span class=\"w\">\t</span><span class=\"na\">.cfi_def_cfa</span><span class=\"w\"> </span><span class=\"mi\">7</span><span class=\"p\">,</span><span class=\"w\"> </span><span class=\"mi\">8</span><span class=\"w\"></span>\n",
       "<span class=\"w\">\t</span><span class=\"nf\">ret</span><span class=\"w\"></span>\n",
       "<span class=\"w\">\t</span><span class=\"na\">.cfi_endproc</span><span class=\"w\"></span>\n",
       "</pre></div>\n",
       "</div></div><div class='side-by-side-pane'><div class='heading'>OPTIMIZE = -O1</div><div><style>pre { line-height: 125%; }\n",
       "td.linenos .normal { color: inherit; background-color: transparent; padding-left: 5px; padding-right: 5px; }\n",
       "span.linenos { color: inherit; background-color: transparent; padding-left: 5px; padding-right: 5px; }\n",
       "td.linenos .special { color: #000000; background-color: #ffffc0; padding-left: 5px; padding-right: 5px; }\n",
       "span.linenos.special { color: #000000; background-color: #ffffc0; padding-left: 5px; padding-right: 5px; }\n",
       ".output_html .hll { background-color: #ffffcc }\n",
       ".output_html { background: #f8f8f8; }\n",
       ".output_html .c { color: #3D7B7B; font-style: italic } /* Comment */\n",
       ".output_html .err { border: 1px solid #FF0000 } /* Error */\n",
       ".output_html .k { color: #008000; font-weight: bold } /* Keyword */\n",
       ".output_html .o { color: #666666 } /* Operator */\n",
       ".output_html .ch { color: #3D7B7B; font-style: italic } /* Comment.Hashbang */\n",
       ".output_html .cm { color: #3D7B7B; font-style: italic } /* Comment.Multiline */\n",
       ".output_html .cp { color: #9C6500 } /* Comment.Preproc */\n",
       ".output_html .cpf { color: #3D7B7B; font-style: italic } /* Comment.PreprocFile */\n",
       ".output_html .c1 { color: #3D7B7B; font-style: italic } /* Comment.Single */\n",
       ".output_html .cs { color: #3D7B7B; font-style: italic } /* Comment.Special */\n",
       ".output_html .gd { color: #A00000 } /* Generic.Deleted */\n",
       ".output_html .ge { font-style: italic } /* Generic.Emph */\n",
       ".output_html .gr { color: #E40000 } /* Generic.Error */\n",
       ".output_html .gh { color: #000080; font-weight: bold } /* Generic.Heading */\n",
       ".output_html .gi { color: #008400 } /* Generic.Inserted */\n",
       ".output_html .go { color: #717171 } /* Generic.Output */\n",
       ".output_html .gp { color: #000080; font-weight: bold } /* Generic.Prompt */\n",
       ".output_html .gs { font-weight: bold } /* Generic.Strong */\n",
       ".output_html .gu { color: #800080; font-weight: bold } /* Generic.Subheading */\n",
       ".output_html .gt { color: #0044DD } /* Generic.Traceback */\n",
       ".output_html .kc { color: #008000; font-weight: bold } /* Keyword.Constant */\n",
       ".output_html .kd { color: #008000; font-weight: bold } /* Keyword.Declaration */\n",
       ".output_html .kn { color: #008000; font-weight: bold } /* Keyword.Namespace */\n",
       ".output_html .kp { color: #008000 } /* Keyword.Pseudo */\n",
       ".output_html .kr { color: #008000; font-weight: bold } /* Keyword.Reserved */\n",
       ".output_html .kt { color: #B00040 } /* Keyword.Type */\n",
       ".output_html .m { color: #666666 } /* Literal.Number */\n",
       ".output_html .s { color: #BA2121 } /* Literal.String */\n",
       ".output_html .na { color: #687822 } /* Name.Attribute */\n",
       ".output_html .nb { color: #008000 } /* Name.Builtin */\n",
       ".output_html .nc { color: #0000FF; font-weight: bold } /* Name.Class */\n",
       ".output_html .no { color: #880000 } /* Name.Constant */\n",
       ".output_html .nd { color: #AA22FF } /* Name.Decorator */\n",
       ".output_html .ni { color: #717171; font-weight: bold } /* Name.Entity */\n",
       ".output_html .ne { color: #CB3F38; font-weight: bold } /* Name.Exception */\n",
       ".output_html .nf { color: #0000FF } /* Name.Function */\n",
       ".output_html .nl { color: #767600 } /* Name.Label */\n",
       ".output_html .nn { color: #0000FF; font-weight: bold } /* Name.Namespace */\n",
       ".output_html .nt { color: #008000; font-weight: bold } /* Name.Tag */\n",
       ".output_html .nv { color: #19177C } /* Name.Variable */\n",
       ".output_html .ow { color: #AA22FF; font-weight: bold } /* Operator.Word */\n",
       ".output_html .w { color: #bbbbbb } /* Text.Whitespace */\n",
       ".output_html .mb { color: #666666 } /* Literal.Number.Bin */\n",
       ".output_html .mf { color: #666666 } /* Literal.Number.Float */\n",
       ".output_html .mh { color: #666666 } /* Literal.Number.Hex */\n",
       ".output_html .mi { color: #666666 } /* Literal.Number.Integer */\n",
       ".output_html .mo { color: #666666 } /* Literal.Number.Oct */\n",
       ".output_html .sa { color: #BA2121 } /* Literal.String.Affix */\n",
       ".output_html .sb { color: #BA2121 } /* Literal.String.Backtick */\n",
       ".output_html .sc { color: #BA2121 } /* Literal.String.Char */\n",
       ".output_html .dl { color: #BA2121 } /* Literal.String.Delimiter */\n",
       ".output_html .sd { color: #BA2121; font-style: italic } /* Literal.String.Doc */\n",
       ".output_html .s2 { color: #BA2121 } /* Literal.String.Double */\n",
       ".output_html .se { color: #AA5D1F; font-weight: bold } /* Literal.String.Escape */\n",
       ".output_html .sh { color: #BA2121 } /* Literal.String.Heredoc */\n",
       ".output_html .si { color: #A45A77; font-weight: bold } /* Literal.String.Interpol */\n",
       ".output_html .sx { color: #008000 } /* Literal.String.Other */\n",
       ".output_html .sr { color: #A45A77 } /* Literal.String.Regex */\n",
       ".output_html .s1 { color: #BA2121 } /* Literal.String.Single */\n",
       ".output_html .ss { color: #19177C } /* Literal.String.Symbol */\n",
       ".output_html .bp { color: #008000 } /* Name.Builtin.Pseudo */\n",
       ".output_html .fm { color: #0000FF } /* Name.Function.Magic */\n",
       ".output_html .vc { color: #19177C } /* Name.Variable.Class */\n",
       ".output_html .vg { color: #19177C } /* Name.Variable.Global */\n",
       ".output_html .vi { color: #19177C } /* Name.Variable.Instance */\n",
       ".output_html .vm { color: #19177C } /* Name.Variable.Magic */\n",
       ".output_html .il { color: #666666 } /* Literal.Number.Integer.Long */\n",
       "pre { line-height: 125%; }\n",
       "td.linenos .normal { color: inherit; background-color: transparent; padding-left: 5px; padding-right: 5px; }\n",
       "span.linenos { color: inherit; background-color: transparent; padding-left: 5px; padding-right: 5px; }\n",
       "td.linenos .special { color: #000000; background-color: #ffffc0; padding-left: 5px; padding-right: 5px; }\n",
       "span.linenos.special { color: #000000; background-color: #ffffc0; padding-left: 5px; padding-right: 5px; }\n",
       ".jp-RenderedHTML .hll { background-color: #ffffcc }\n",
       ".jp-RenderedHTML { background: #f8f8f8; }\n",
       ".jp-RenderedHTML .c { color: #3D7B7B; font-style: italic } /* Comment */\n",
       ".jp-RenderedHTML .err { border: 1px solid #FF0000 } /* Error */\n",
       ".jp-RenderedHTML .k { color: #008000; font-weight: bold } /* Keyword */\n",
       ".jp-RenderedHTML .o { color: #666666 } /* Operator */\n",
       ".jp-RenderedHTML .ch { color: #3D7B7B; font-style: italic } /* Comment.Hashbang */\n",
       ".jp-RenderedHTML .cm { color: #3D7B7B; font-style: italic } /* Comment.Multiline */\n",
       ".jp-RenderedHTML .cp { color: #9C6500 } /* Comment.Preproc */\n",
       ".jp-RenderedHTML .cpf { color: #3D7B7B; font-style: italic } /* Comment.PreprocFile */\n",
       ".jp-RenderedHTML .c1 { color: #3D7B7B; font-style: italic } /* Comment.Single */\n",
       ".jp-RenderedHTML .cs { color: #3D7B7B; font-style: italic } /* Comment.Special */\n",
       ".jp-RenderedHTML .gd { color: #A00000 } /* Generic.Deleted */\n",
       ".jp-RenderedHTML .ge { font-style: italic } /* Generic.Emph */\n",
       ".jp-RenderedHTML .gr { color: #E40000 } /* Generic.Error */\n",
       ".jp-RenderedHTML .gh { color: #000080; font-weight: bold } /* Generic.Heading */\n",
       ".jp-RenderedHTML .gi { color: #008400 } /* Generic.Inserted */\n",
       ".jp-RenderedHTML .go { color: #717171 } /* Generic.Output */\n",
       ".jp-RenderedHTML .gp { color: #000080; font-weight: bold } /* Generic.Prompt */\n",
       ".jp-RenderedHTML .gs { font-weight: bold } /* Generic.Strong */\n",
       ".jp-RenderedHTML .gu { color: #800080; font-weight: bold } /* Generic.Subheading */\n",
       ".jp-RenderedHTML .gt { color: #0044DD } /* Generic.Traceback */\n",
       ".jp-RenderedHTML .kc { color: #008000; font-weight: bold } /* Keyword.Constant */\n",
       ".jp-RenderedHTML .kd { color: #008000; font-weight: bold } /* Keyword.Declaration */\n",
       ".jp-RenderedHTML .kn { color: #008000; font-weight: bold } /* Keyword.Namespace */\n",
       ".jp-RenderedHTML .kp { color: #008000 } /* Keyword.Pseudo */\n",
       ".jp-RenderedHTML .kr { color: #008000; font-weight: bold } /* Keyword.Reserved */\n",
       ".jp-RenderedHTML .kt { color: #B00040 } /* Keyword.Type */\n",
       ".jp-RenderedHTML .m { color: #666666 } /* Literal.Number */\n",
       ".jp-RenderedHTML .s { color: #BA2121 } /* Literal.String */\n",
       ".jp-RenderedHTML .na { color: #687822 } /* Name.Attribute */\n",
       ".jp-RenderedHTML .nb { color: #008000 } /* Name.Builtin */\n",
       ".jp-RenderedHTML .nc { color: #0000FF; font-weight: bold } /* Name.Class */\n",
       ".jp-RenderedHTML .no { color: #880000 } /* Name.Constant */\n",
       ".jp-RenderedHTML .nd { color: #AA22FF } /* Name.Decorator */\n",
       ".jp-RenderedHTML .ni { color: #717171; font-weight: bold } /* Name.Entity */\n",
       ".jp-RenderedHTML .ne { color: #CB3F38; font-weight: bold } /* Name.Exception */\n",
       ".jp-RenderedHTML .nf { color: #0000FF } /* Name.Function */\n",
       ".jp-RenderedHTML .nl { color: #767600 } /* Name.Label */\n",
       ".jp-RenderedHTML .nn { color: #0000FF; font-weight: bold } /* Name.Namespace */\n",
       ".jp-RenderedHTML .nt { color: #008000; font-weight: bold } /* Name.Tag */\n",
       ".jp-RenderedHTML .nv { color: #19177C } /* Name.Variable */\n",
       ".jp-RenderedHTML .ow { color: #AA22FF; font-weight: bold } /* Operator.Word */\n",
       ".jp-RenderedHTML .w { color: #bbbbbb } /* Text.Whitespace */\n",
       ".jp-RenderedHTML .mb { color: #666666 } /* Literal.Number.Bin */\n",
       ".jp-RenderedHTML .mf { color: #666666 } /* Literal.Number.Float */\n",
       ".jp-RenderedHTML .mh { color: #666666 } /* Literal.Number.Hex */\n",
       ".jp-RenderedHTML .mi { color: #666666 } /* Literal.Number.Integer */\n",
       ".jp-RenderedHTML .mo { color: #666666 } /* Literal.Number.Oct */\n",
       ".jp-RenderedHTML .sa { color: #BA2121 } /* Literal.String.Affix */\n",
       ".jp-RenderedHTML .sb { color: #BA2121 } /* Literal.String.Backtick */\n",
       ".jp-RenderedHTML .sc { color: #BA2121 } /* Literal.String.Char */\n",
       ".jp-RenderedHTML .dl { color: #BA2121 } /* Literal.String.Delimiter */\n",
       ".jp-RenderedHTML .sd { color: #BA2121; font-style: italic } /* Literal.String.Doc */\n",
       ".jp-RenderedHTML .s2 { color: #BA2121 } /* Literal.String.Double */\n",
       ".jp-RenderedHTML .se { color: #AA5D1F; font-weight: bold } /* Literal.String.Escape */\n",
       ".jp-RenderedHTML .sh { color: #BA2121 } /* Literal.String.Heredoc */\n",
       ".jp-RenderedHTML .si { color: #A45A77; font-weight: bold } /* Literal.String.Interpol */\n",
       ".jp-RenderedHTML .sx { color: #008000 } /* Literal.String.Other */\n",
       ".jp-RenderedHTML .sr { color: #A45A77 } /* Literal.String.Regex */\n",
       ".jp-RenderedHTML .s1 { color: #BA2121 } /* Literal.String.Single */\n",
       ".jp-RenderedHTML .ss { color: #19177C } /* Literal.String.Symbol */\n",
       ".jp-RenderedHTML .bp { color: #008000 } /* Name.Builtin.Pseudo */\n",
       ".jp-RenderedHTML .fm { color: #0000FF } /* Name.Function.Magic */\n",
       ".jp-RenderedHTML .vc { color: #19177C } /* Name.Variable.Class */\n",
       ".jp-RenderedHTML .vg { color: #19177C } /* Name.Variable.Global */\n",
       ".jp-RenderedHTML .vi { color: #19177C } /* Name.Variable.Instance */\n",
       ".jp-RenderedHTML .vm { color: #19177C } /* Name.Variable.Magic */\n",
       ".jp-RenderedHTML .il { color: #666666 } /* Literal.Number.Integer.Long */</style><div class=\"highlight\"><pre><span></span><span class=\"nl\">times_forty_two:</span><span class=\"w\"></span>\n",
       "<span class=\"nl\">.LVL0:</span><span class=\"w\"></span>\n",
       "<span class=\"nl\">.LFB0:</span><span class=\"w\"></span>\n",
       "<span class=\"w\">\t</span><span class=\"na\">.file</span><span class=\"w\"> </span><span class=\"mi\">1</span><span class=\"w\"> </span><span class=\"s\">&quot;.cfiddle/builds/anonymous_code/0a80ff0d9bb797f4a6d692f78f4cb4d8.cpp&quot;</span><span class=\"w\"></span>\n",
       "<span class=\"w\">\t</span><span class=\"na\">.loc</span><span class=\"w\"> </span><span class=\"mi\">1</span><span class=\"w\"> </span><span class=\"mi\">3</span><span class=\"w\"> </span><span class=\"mi\">28</span><span class=\"w\"> </span><span class=\"no\">view</span><span class=\"w\"> </span><span class=\"mi\">-0</span><span class=\"w\"></span>\n",
       "<span class=\"w\">\t</span><span class=\"na\">.cfi_startproc</span><span class=\"w\"></span>\n",
       "<span class=\"w\">\t</span><span class=\"na\">.loc</span><span class=\"w\"> </span><span class=\"mi\">1</span><span class=\"w\"> </span><span class=\"mi\">3</span><span class=\"w\"> </span><span class=\"mi\">28</span><span class=\"w\"> </span><span class=\"no\">is_stmt</span><span class=\"w\"> </span><span class=\"mi\">0</span><span class=\"w\"> </span><span class=\"no\">view</span><span class=\"w\"> </span><span class=\"no\">.LVU1</span><span class=\"w\"></span>\n",
       "<span class=\"w\">\t</span><span class=\"nf\">endbr64</span><span class=\"w\"></span>\n",
       "<span class=\"w\">\t</span><span class=\"na\">.loc</span><span class=\"w\"> </span><span class=\"mi\">1</span><span class=\"w\"> </span><span class=\"mi\">4</span><span class=\"w\"> </span><span class=\"mi\">5</span><span class=\"w\"> </span><span class=\"no\">is_stmt</span><span class=\"w\"> </span><span class=\"mi\">1</span><span class=\"w\"> </span><span class=\"no\">view</span><span class=\"w\"> </span><span class=\"no\">.LVU2</span><span class=\"w\"></span>\n",
       "<span class=\"w\">\t</span><span class=\"na\">.loc</span><span class=\"w\"> </span><span class=\"mi\">1</span><span class=\"w\"> </span><span class=\"mi\">4</span><span class=\"w\"> </span><span class=\"mi\">17</span><span class=\"w\"> </span><span class=\"no\">is_stmt</span><span class=\"w\"> </span><span class=\"mi\">0</span><span class=\"w\"> </span><span class=\"no\">view</span><span class=\"w\"> </span><span class=\"no\">.LVU3</span><span class=\"w\"></span>\n",
       "<span class=\"w\">\t</span><span class=\"nf\">imull</span><span class=\"w\">\t</span><span class=\"no\">$42</span><span class=\"p\">,</span><span class=\"w\"> </span><span class=\"nv\">%edi</span><span class=\"p\">,</span><span class=\"w\"> </span><span class=\"nv\">%eax</span><span class=\"w\"></span>\n",
       "<span class=\"w\">\t</span><span class=\"na\">.loc</span><span class=\"w\"> </span><span class=\"mi\">1</span><span class=\"w\"> </span><span class=\"mi\">5</span><span class=\"w\"> </span><span class=\"mi\">1</span><span class=\"w\"> </span><span class=\"no\">view</span><span class=\"w\"> </span><span class=\"no\">.LVU4</span><span class=\"w\"></span>\n",
       "<span class=\"w\">\t</span><span class=\"nf\">ret</span><span class=\"w\"></span>\n",
       "<span class=\"w\">\t</span><span class=\"na\">.cfi_endproc</span><span class=\"w\"></span>\n",
       "</pre></div>\n",
       "</div></div>\n",
       "        </div>\n",
       "    "
      ],
      "text/plain": [
       "<IPython.core.display.HTML object>"
      ]
     },
     "execution_count": 11,
     "metadata": {},
     "output_type": "execute_result"
    }
   ],
   "source": [
    "from cfiddle.jupyter import *\n",
    "compare([exe[0].asm(\"times_forty_two\"), exe[1].asm(\"times_forty_two\")], # compare takes two things and puts them side by side.\n",
    "        [html_parameters(exe[0].get_build_parameters()), html_parameters(exe[1].get_build_parameters())])  # you can provide headers, too."
   ]
  },
  {
   "cell_type": "markdown",
   "id": "d47401ac-9e91-4974-ae08-37c9875f7c6b",
   "metadata": {},
   "source": [
    "## Visualizing Control Flow"
   ]
  },
  {
   "cell_type": "markdown",
   "id": "bdbf069b-f467-4dfd-896e-891b878d1a1a",
   "metadata": {},
   "source": [
    "CFiddle can make it much easier to read assembly language by rendering it as a control flow graph."
   ]
  },
  {
   "cell_type": "code",
   "execution_count": 12,
   "id": "32d3d734-6627-4f2a-a3a4-5d37f1eed7b2",
   "metadata": {},
   "outputs": [
    {
     "data": {
      "application/vnd.jupyter.widget-view+json": {
       "model_id": "ea8b39b40c3e406e81e3deeb1982578a",
       "version_major": 2,
       "version_minor": 0
      },
      "text/plain": [
       "  0%|          | 0/1 [00:00<?, ?it/s]"
      ]
     },
     "metadata": {},
     "output_type": "display_data"
    },
    {
     "name": "stderr",
     "output_type": "stream",
     "text": [
      "Cannot determine entrypoint, using 0x00001040.\n",
      "Warning: run r2 with -e bin.cache=true to fix relocations in disassembly\n"
     ]
    },
    {
     "data": {
      "text/html": [
       "\n",
       "            <style>\n",
       "        .side-by-side {\n",
       "            display: flex;\n",
       "            align-items: stretch;\n",
       "        }\n",
       "        .side-by-side-pane {\n",
       "            margin-right:1em;\n",
       "            border-right-style: solid;\n",
       "            border-right-color: black;\n",
       "            border-right-width: 1px;\n",
       "            flex: 1;\n",
       "        }\n",
       "        .side-by-side-pane .heading{\n",
       "            font-size: 1.5;\n",
       "            font-weight: bold;\n",
       "            text-align:center;\n",
       "            border-bottom-style: dotted;\n",
       "            border-bottom-width: 1px;\n",
       "            border-bottom-color: gray;\n",
       "            margin-left: 1em;\n",
       "            margin-right: 1em;\n",
       "\n",
       "        }\n",
       "        </style>\n",
       "        <div class=\"side-by-side\"> <div class='side-by-side-pane'><div class='heading'></div><div><style>pre { line-height: 125%; }\n",
       "td.linenos .normal { color: inherit; background-color: transparent; padding-left: 5px; padding-right: 5px; }\n",
       "span.linenos { color: inherit; background-color: transparent; padding-left: 5px; padding-right: 5px; }\n",
       "td.linenos .special { color: #000000; background-color: #ffffc0; padding-left: 5px; padding-right: 5px; }\n",
       "span.linenos.special { color: #000000; background-color: #ffffc0; padding-left: 5px; padding-right: 5px; }\n",
       ".output_html .hll { background-color: #ffffcc }\n",
       ".output_html { background: #f8f8f8; }\n",
       ".output_html .c { color: #3D7B7B; font-style: italic } /* Comment */\n",
       ".output_html .err { border: 1px solid #FF0000 } /* Error */\n",
       ".output_html .k { color: #008000; font-weight: bold } /* Keyword */\n",
       ".output_html .o { color: #666666 } /* Operator */\n",
       ".output_html .ch { color: #3D7B7B; font-style: italic } /* Comment.Hashbang */\n",
       ".output_html .cm { color: #3D7B7B; font-style: italic } /* Comment.Multiline */\n",
       ".output_html .cp { color: #9C6500 } /* Comment.Preproc */\n",
       ".output_html .cpf { color: #3D7B7B; font-style: italic } /* Comment.PreprocFile */\n",
       ".output_html .c1 { color: #3D7B7B; font-style: italic } /* Comment.Single */\n",
       ".output_html .cs { color: #3D7B7B; font-style: italic } /* Comment.Special */\n",
       ".output_html .gd { color: #A00000 } /* Generic.Deleted */\n",
       ".output_html .ge { font-style: italic } /* Generic.Emph */\n",
       ".output_html .gr { color: #E40000 } /* Generic.Error */\n",
       ".output_html .gh { color: #000080; font-weight: bold } /* Generic.Heading */\n",
       ".output_html .gi { color: #008400 } /* Generic.Inserted */\n",
       ".output_html .go { color: #717171 } /* Generic.Output */\n",
       ".output_html .gp { color: #000080; font-weight: bold } /* Generic.Prompt */\n",
       ".output_html .gs { font-weight: bold } /* Generic.Strong */\n",
       ".output_html .gu { color: #800080; font-weight: bold } /* Generic.Subheading */\n",
       ".output_html .gt { color: #0044DD } /* Generic.Traceback */\n",
       ".output_html .kc { color: #008000; font-weight: bold } /* Keyword.Constant */\n",
       ".output_html .kd { color: #008000; font-weight: bold } /* Keyword.Declaration */\n",
       ".output_html .kn { color: #008000; font-weight: bold } /* Keyword.Namespace */\n",
       ".output_html .kp { color: #008000 } /* Keyword.Pseudo */\n",
       ".output_html .kr { color: #008000; font-weight: bold } /* Keyword.Reserved */\n",
       ".output_html .kt { color: #B00040 } /* Keyword.Type */\n",
       ".output_html .m { color: #666666 } /* Literal.Number */\n",
       ".output_html .s { color: #BA2121 } /* Literal.String */\n",
       ".output_html .na { color: #687822 } /* Name.Attribute */\n",
       ".output_html .nb { color: #008000 } /* Name.Builtin */\n",
       ".output_html .nc { color: #0000FF; font-weight: bold } /* Name.Class */\n",
       ".output_html .no { color: #880000 } /* Name.Constant */\n",
       ".output_html .nd { color: #AA22FF } /* Name.Decorator */\n",
       ".output_html .ni { color: #717171; font-weight: bold } /* Name.Entity */\n",
       ".output_html .ne { color: #CB3F38; font-weight: bold } /* Name.Exception */\n",
       ".output_html .nf { color: #0000FF } /* Name.Function */\n",
       ".output_html .nl { color: #767600 } /* Name.Label */\n",
       ".output_html .nn { color: #0000FF; font-weight: bold } /* Name.Namespace */\n",
       ".output_html .nt { color: #008000; font-weight: bold } /* Name.Tag */\n",
       ".output_html .nv { color: #19177C } /* Name.Variable */\n",
       ".output_html .ow { color: #AA22FF; font-weight: bold } /* Operator.Word */\n",
       ".output_html .w { color: #bbbbbb } /* Text.Whitespace */\n",
       ".output_html .mb { color: #666666 } /* Literal.Number.Bin */\n",
       ".output_html .mf { color: #666666 } /* Literal.Number.Float */\n",
       ".output_html .mh { color: #666666 } /* Literal.Number.Hex */\n",
       ".output_html .mi { color: #666666 } /* Literal.Number.Integer */\n",
       ".output_html .mo { color: #666666 } /* Literal.Number.Oct */\n",
       ".output_html .sa { color: #BA2121 } /* Literal.String.Affix */\n",
       ".output_html .sb { color: #BA2121 } /* Literal.String.Backtick */\n",
       ".output_html .sc { color: #BA2121 } /* Literal.String.Char */\n",
       ".output_html .dl { color: #BA2121 } /* Literal.String.Delimiter */\n",
       ".output_html .sd { color: #BA2121; font-style: italic } /* Literal.String.Doc */\n",
       ".output_html .s2 { color: #BA2121 } /* Literal.String.Double */\n",
       ".output_html .se { color: #AA5D1F; font-weight: bold } /* Literal.String.Escape */\n",
       ".output_html .sh { color: #BA2121 } /* Literal.String.Heredoc */\n",
       ".output_html .si { color: #A45A77; font-weight: bold } /* Literal.String.Interpol */\n",
       ".output_html .sx { color: #008000 } /* Literal.String.Other */\n",
       ".output_html .sr { color: #A45A77 } /* Literal.String.Regex */\n",
       ".output_html .s1 { color: #BA2121 } /* Literal.String.Single */\n",
       ".output_html .ss { color: #19177C } /* Literal.String.Symbol */\n",
       ".output_html .bp { color: #008000 } /* Name.Builtin.Pseudo */\n",
       ".output_html .fm { color: #0000FF } /* Name.Function.Magic */\n",
       ".output_html .vc { color: #19177C } /* Name.Variable.Class */\n",
       ".output_html .vg { color: #19177C } /* Name.Variable.Global */\n",
       ".output_html .vi { color: #19177C } /* Name.Variable.Instance */\n",
       ".output_html .vm { color: #19177C } /* Name.Variable.Magic */\n",
       ".output_html .il { color: #666666 } /* Literal.Number.Integer.Long */\n",
       "pre { line-height: 125%; }\n",
       "td.linenos .normal { color: inherit; background-color: transparent; padding-left: 5px; padding-right: 5px; }\n",
       "span.linenos { color: inherit; background-color: transparent; padding-left: 5px; padding-right: 5px; }\n",
       "td.linenos .special { color: #000000; background-color: #ffffc0; padding-left: 5px; padding-right: 5px; }\n",
       "span.linenos.special { color: #000000; background-color: #ffffc0; padding-left: 5px; padding-right: 5px; }\n",
       ".jp-RenderedHTML .hll { background-color: #ffffcc }\n",
       ".jp-RenderedHTML { background: #f8f8f8; }\n",
       ".jp-RenderedHTML .c { color: #3D7B7B; font-style: italic } /* Comment */\n",
       ".jp-RenderedHTML .err { border: 1px solid #FF0000 } /* Error */\n",
       ".jp-RenderedHTML .k { color: #008000; font-weight: bold } /* Keyword */\n",
       ".jp-RenderedHTML .o { color: #666666 } /* Operator */\n",
       ".jp-RenderedHTML .ch { color: #3D7B7B; font-style: italic } /* Comment.Hashbang */\n",
       ".jp-RenderedHTML .cm { color: #3D7B7B; font-style: italic } /* Comment.Multiline */\n",
       ".jp-RenderedHTML .cp { color: #9C6500 } /* Comment.Preproc */\n",
       ".jp-RenderedHTML .cpf { color: #3D7B7B; font-style: italic } /* Comment.PreprocFile */\n",
       ".jp-RenderedHTML .c1 { color: #3D7B7B; font-style: italic } /* Comment.Single */\n",
       ".jp-RenderedHTML .cs { color: #3D7B7B; font-style: italic } /* Comment.Special */\n",
       ".jp-RenderedHTML .gd { color: #A00000 } /* Generic.Deleted */\n",
       ".jp-RenderedHTML .ge { font-style: italic } /* Generic.Emph */\n",
       ".jp-RenderedHTML .gr { color: #E40000 } /* Generic.Error */\n",
       ".jp-RenderedHTML .gh { color: #000080; font-weight: bold } /* Generic.Heading */\n",
       ".jp-RenderedHTML .gi { color: #008400 } /* Generic.Inserted */\n",
       ".jp-RenderedHTML .go { color: #717171 } /* Generic.Output */\n",
       ".jp-RenderedHTML .gp { color: #000080; font-weight: bold } /* Generic.Prompt */\n",
       ".jp-RenderedHTML .gs { font-weight: bold } /* Generic.Strong */\n",
       ".jp-RenderedHTML .gu { color: #800080; font-weight: bold } /* Generic.Subheading */\n",
       ".jp-RenderedHTML .gt { color: #0044DD } /* Generic.Traceback */\n",
       ".jp-RenderedHTML .kc { color: #008000; font-weight: bold } /* Keyword.Constant */\n",
       ".jp-RenderedHTML .kd { color: #008000; font-weight: bold } /* Keyword.Declaration */\n",
       ".jp-RenderedHTML .kn { color: #008000; font-weight: bold } /* Keyword.Namespace */\n",
       ".jp-RenderedHTML .kp { color: #008000 } /* Keyword.Pseudo */\n",
       ".jp-RenderedHTML .kr { color: #008000; font-weight: bold } /* Keyword.Reserved */\n",
       ".jp-RenderedHTML .kt { color: #B00040 } /* Keyword.Type */\n",
       ".jp-RenderedHTML .m { color: #666666 } /* Literal.Number */\n",
       ".jp-RenderedHTML .s { color: #BA2121 } /* Literal.String */\n",
       ".jp-RenderedHTML .na { color: #687822 } /* Name.Attribute */\n",
       ".jp-RenderedHTML .nb { color: #008000 } /* Name.Builtin */\n",
       ".jp-RenderedHTML .nc { color: #0000FF; font-weight: bold } /* Name.Class */\n",
       ".jp-RenderedHTML .no { color: #880000 } /* Name.Constant */\n",
       ".jp-RenderedHTML .nd { color: #AA22FF } /* Name.Decorator */\n",
       ".jp-RenderedHTML .ni { color: #717171; font-weight: bold } /* Name.Entity */\n",
       ".jp-RenderedHTML .ne { color: #CB3F38; font-weight: bold } /* Name.Exception */\n",
       ".jp-RenderedHTML .nf { color: #0000FF } /* Name.Function */\n",
       ".jp-RenderedHTML .nl { color: #767600 } /* Name.Label */\n",
       ".jp-RenderedHTML .nn { color: #0000FF; font-weight: bold } /* Name.Namespace */\n",
       ".jp-RenderedHTML .nt { color: #008000; font-weight: bold } /* Name.Tag */\n",
       ".jp-RenderedHTML .nv { color: #19177C } /* Name.Variable */\n",
       ".jp-RenderedHTML .ow { color: #AA22FF; font-weight: bold } /* Operator.Word */\n",
       ".jp-RenderedHTML .w { color: #bbbbbb } /* Text.Whitespace */\n",
       ".jp-RenderedHTML .mb { color: #666666 } /* Literal.Number.Bin */\n",
       ".jp-RenderedHTML .mf { color: #666666 } /* Literal.Number.Float */\n",
       ".jp-RenderedHTML .mh { color: #666666 } /* Literal.Number.Hex */\n",
       ".jp-RenderedHTML .mi { color: #666666 } /* Literal.Number.Integer */\n",
       ".jp-RenderedHTML .mo { color: #666666 } /* Literal.Number.Oct */\n",
       ".jp-RenderedHTML .sa { color: #BA2121 } /* Literal.String.Affix */\n",
       ".jp-RenderedHTML .sb { color: #BA2121 } /* Literal.String.Backtick */\n",
       ".jp-RenderedHTML .sc { color: #BA2121 } /* Literal.String.Char */\n",
       ".jp-RenderedHTML .dl { color: #BA2121 } /* Literal.String.Delimiter */\n",
       ".jp-RenderedHTML .sd { color: #BA2121; font-style: italic } /* Literal.String.Doc */\n",
       ".jp-RenderedHTML .s2 { color: #BA2121 } /* Literal.String.Double */\n",
       ".jp-RenderedHTML .se { color: #AA5D1F; font-weight: bold } /* Literal.String.Escape */\n",
       ".jp-RenderedHTML .sh { color: #BA2121 } /* Literal.String.Heredoc */\n",
       ".jp-RenderedHTML .si { color: #A45A77; font-weight: bold } /* Literal.String.Interpol */\n",
       ".jp-RenderedHTML .sx { color: #008000 } /* Literal.String.Other */\n",
       ".jp-RenderedHTML .sr { color: #A45A77 } /* Literal.String.Regex */\n",
       ".jp-RenderedHTML .s1 { color: #BA2121 } /* Literal.String.Single */\n",
       ".jp-RenderedHTML .ss { color: #19177C } /* Literal.String.Symbol */\n",
       ".jp-RenderedHTML .bp { color: #008000 } /* Name.Builtin.Pseudo */\n",
       ".jp-RenderedHTML .fm { color: #0000FF } /* Name.Function.Magic */\n",
       ".jp-RenderedHTML .vc { color: #19177C } /* Name.Variable.Class */\n",
       ".jp-RenderedHTML .vg { color: #19177C } /* Name.Variable.Global */\n",
       ".jp-RenderedHTML .vi { color: #19177C } /* Name.Variable.Instance */\n",
       ".jp-RenderedHTML .vm { color: #19177C } /* Name.Variable.Magic */\n",
       ".jp-RenderedHTML .il { color: #666666 } /* Literal.Number.Integer.Long */</style><div class=\"highlight\"><pre><span></span><span class=\"nl\">loop:</span><span class=\"w\"></span>\n",
       "<span class=\"nl\">.LFB0:</span><span class=\"w\"></span>\n",
       "<span class=\"w\">\t</span><span class=\"na\">.file</span><span class=\"w\"> </span><span class=\"mi\">1</span><span class=\"w\"> </span><span class=\"s\">&quot;.cfiddle/builds/anonymous_code/bdd05229355df13a12918d630eb0ecb0.cpp&quot;</span><span class=\"w\"></span>\n",
       "<span class=\"w\">\t</span><span class=\"na\">.loc</span><span class=\"w\"> </span><span class=\"mi\">1</span><span class=\"w\"> </span><span class=\"mi\">3</span><span class=\"w\"> </span><span class=\"mi\">12</span><span class=\"w\"></span>\n",
       "<span class=\"w\">\t</span><span class=\"na\">.cfi_startproc</span><span class=\"w\"></span>\n",
       "<span class=\"w\">\t</span><span class=\"nf\">endbr64</span><span class=\"w\"></span>\n",
       "<span class=\"w\">\t</span><span class=\"nf\">pushq</span><span class=\"w\">\t</span><span class=\"nv\">%rbp</span><span class=\"w\"></span>\n",
       "<span class=\"w\">\t</span><span class=\"na\">.cfi_def_cfa_offset</span><span class=\"w\"> </span><span class=\"mi\">16</span><span class=\"w\"></span>\n",
       "<span class=\"w\">\t</span><span class=\"na\">.cfi_offset</span><span class=\"w\"> </span><span class=\"mi\">6</span><span class=\"p\">,</span><span class=\"w\"> </span><span class=\"mi\">-16</span><span class=\"w\"></span>\n",
       "<span class=\"w\">\t</span><span class=\"nf\">movq</span><span class=\"w\">\t</span><span class=\"nv\">%rsp</span><span class=\"p\">,</span><span class=\"w\"> </span><span class=\"nv\">%rbp</span><span class=\"w\"></span>\n",
       "<span class=\"w\">\t</span><span class=\"na\">.cfi_def_cfa_register</span><span class=\"w\"> </span><span class=\"mi\">6</span><span class=\"w\"></span>\n",
       "<span class=\"w\">\t</span><span class=\"na\">.loc</span><span class=\"w\"> </span><span class=\"mi\">1</span><span class=\"w\"> </span><span class=\"mi\">4</span><span class=\"w\"> </span><span class=\"mi\">9</span><span class=\"w\"></span>\n",
       "<span class=\"w\">\t</span><span class=\"nf\">movl</span><span class=\"w\">\t</span><span class=\"no\">$0</span><span class=\"p\">,</span><span class=\"w\"> </span><span class=\"mi\">-8</span><span class=\"p\">(</span><span class=\"nv\">%rbp</span><span class=\"p\">)</span><span class=\"w\"></span>\n",
       "<span class=\"nl\">.LBB2:</span><span class=\"w\"></span>\n",
       "<span class=\"w\">\t</span><span class=\"na\">.loc</span><span class=\"w\"> </span><span class=\"mi\">1</span><span class=\"w\"> </span><span class=\"mi\">5</span><span class=\"w\"> </span><span class=\"mi\">13</span><span class=\"w\"></span>\n",
       "<span class=\"w\">\t</span><span class=\"nf\">movl</span><span class=\"w\">\t</span><span class=\"no\">$0</span><span class=\"p\">,</span><span class=\"w\"> </span><span class=\"mi\">-4</span><span class=\"p\">(</span><span class=\"nv\">%rbp</span><span class=\"p\">)</span><span class=\"w\"></span>\n",
       "<span class=\"w\">\t</span><span class=\"na\">.loc</span><span class=\"w\"> </span><span class=\"mi\">1</span><span class=\"w\"> </span><span class=\"mi\">5</span><span class=\"w\"> </span><span class=\"mi\">5</span><span class=\"w\"></span>\n",
       "<span class=\"w\">\t</span><span class=\"nf\">jmp</span><span class=\"w\">\t</span><span class=\"no\">.L2</span><span class=\"w\"></span>\n",
       "<span class=\"nl\">.L3:</span><span class=\"w\"></span>\n",
       "<span class=\"w\">\t</span><span class=\"na\">.loc</span><span class=\"w\"> </span><span class=\"mi\">1</span><span class=\"w\"> </span><span class=\"mi\">6</span><span class=\"w\"> </span><span class=\"mi\">13</span><span class=\"w\"> </span><span class=\"no\">discriminator</span><span class=\"w\"> </span><span class=\"mi\">3</span><span class=\"w\"></span>\n",
       "<span class=\"w\">\t</span><span class=\"nf\">movl</span><span class=\"w\">\t</span><span class=\"mi\">-4</span><span class=\"p\">(</span><span class=\"nv\">%rbp</span><span class=\"p\">),</span><span class=\"w\"> </span><span class=\"nv\">%eax</span><span class=\"w\"></span>\n",
       "<span class=\"w\">\t</span><span class=\"nf\">addl</span><span class=\"w\">\t</span><span class=\"nv\">%eax</span><span class=\"p\">,</span><span class=\"w\"> </span><span class=\"mi\">-8</span><span class=\"p\">(</span><span class=\"nv\">%rbp</span><span class=\"p\">)</span><span class=\"w\"></span>\n",
       "<span class=\"w\">\t</span><span class=\"na\">.loc</span><span class=\"w\"> </span><span class=\"mi\">1</span><span class=\"w\"> </span><span class=\"mi\">5</span><span class=\"w\"> </span><span class=\"mi\">5</span><span class=\"w\"> </span><span class=\"no\">discriminator</span><span class=\"w\"> </span><span class=\"mi\">3</span><span class=\"w\"></span>\n",
       "<span class=\"w\">\t</span><span class=\"nf\">addl</span><span class=\"w\">\t</span><span class=\"no\">$1</span><span class=\"p\">,</span><span class=\"w\"> </span><span class=\"mi\">-4</span><span class=\"p\">(</span><span class=\"nv\">%rbp</span><span class=\"p\">)</span><span class=\"w\"></span>\n",
       "<span class=\"nl\">.L2:</span><span class=\"w\"></span>\n",
       "<span class=\"w\">\t</span><span class=\"na\">.loc</span><span class=\"w\"> </span><span class=\"mi\">1</span><span class=\"w\"> </span><span class=\"mi\">5</span><span class=\"w\"> </span><span class=\"mi\">22</span><span class=\"w\"> </span><span class=\"no\">discriminator</span><span class=\"w\"> </span><span class=\"mi\">1</span><span class=\"w\"></span>\n",
       "<span class=\"w\">\t</span><span class=\"nf\">cmpl</span><span class=\"w\">\t</span><span class=\"no\">$9</span><span class=\"p\">,</span><span class=\"w\"> </span><span class=\"mi\">-4</span><span class=\"p\">(</span><span class=\"nv\">%rbp</span><span class=\"p\">)</span><span class=\"w\"></span>\n",
       "<span class=\"w\">\t</span><span class=\"nf\">jle</span><span class=\"w\">\t</span><span class=\"no\">.L3</span><span class=\"w\"></span>\n",
       "<span class=\"nl\">.LBE2:</span><span class=\"w\"></span>\n",
       "<span class=\"w\">\t</span><span class=\"na\">.loc</span><span class=\"w\"> </span><span class=\"mi\">1</span><span class=\"w\"> </span><span class=\"mi\">8</span><span class=\"w\"> </span><span class=\"mi\">12</span><span class=\"w\"></span>\n",
       "<span class=\"w\">\t</span><span class=\"nf\">movl</span><span class=\"w\">\t</span><span class=\"mi\">-8</span><span class=\"p\">(</span><span class=\"nv\">%rbp</span><span class=\"p\">),</span><span class=\"w\"> </span><span class=\"nv\">%eax</span><span class=\"w\"></span>\n",
       "<span class=\"w\">\t</span><span class=\"na\">.loc</span><span class=\"w\"> </span><span class=\"mi\">1</span><span class=\"w\"> </span><span class=\"mi\">9</span><span class=\"w\"> </span><span class=\"mi\">1</span><span class=\"w\"></span>\n",
       "<span class=\"w\">\t</span><span class=\"nf\">popq</span><span class=\"w\">\t</span><span class=\"nv\">%rbp</span><span class=\"w\"></span>\n",
       "<span class=\"w\">\t</span><span class=\"na\">.cfi_def_cfa</span><span class=\"w\"> </span><span class=\"mi\">7</span><span class=\"p\">,</span><span class=\"w\"> </span><span class=\"mi\">8</span><span class=\"w\"></span>\n",
       "<span class=\"w\">\t</span><span class=\"nf\">ret</span><span class=\"w\"></span>\n",
       "<span class=\"w\">\t</span><span class=\"na\">.cfi_endproc</span><span class=\"w\"></span>\n",
       "</pre></div>\n",
       "</div></div><div class='side-by-side-pane'><div class='heading'></div><div><svg xmlns=\"http://www.w3.org/2000/svg\" xmlns:xlink=\"http://www.w3.org/1999/xlink\" width=\"595pt\" height=\"446pt\" viewBox=\"0.00 0.00 594.95 445.84\">\n",
       "<g id=\"graph0\" class=\"graph\" transform=\"scale(1 1) rotate(0) translate(4 441.84)\">\n",
       "<title>code</title>\n",
       "<polygon fill=\"white\" stroke=\"transparent\" points=\"-4,4 -4,-441.84 590.95,-441.84 590.95,4 -4,4\"/>\n",
       "<!-- 0x000010f9 -->\n",
       "<g id=\"node1\" class=\"node\">\n",
       "<title>0x000010f9</title>\n",
       "<g id=\"a_node1\"><a xlink:href=\"fcn.10f9/0x000010f9\" xlink:title=\"  ;-- loop:\\l45: fcn.10f9 ();\\l; var int64_t var_8h @ rbp-0x8\\l; var int64_t var_4h @ rbp-0x4\\l      endbr64\\l      pushq %rbp\\l      movq %rsp, %rbp\\l      movl $0, var_8h\\l      movl $0, var_4h\\l      jmp 0x111b\\l\">\n",
       "<polygon fill=\"white\" stroke=\"#767676\" points=\"495,-437.84 231,-437.84 231,-279.84 495,-279.84 495,-437.84\"/>\n",
       "<text text-anchor=\"start\" x=\"239\" y=\"-422.64\" font-family=\"Courier,monospace\" font-size=\"14.00\">  ;-- loop:</text>\n",
       "<text text-anchor=\"start\" x=\"239\" y=\"-407.64\" font-family=\"Courier,monospace\" font-size=\"14.00\">45: fcn.10f9 ();</text>\n",
       "<text text-anchor=\"start\" x=\"239\" y=\"-392.64\" font-family=\"Courier,monospace\" font-size=\"14.00\">; var int64_t var_8h @ rbp-0x8</text>\n",
       "<text text-anchor=\"start\" x=\"239\" y=\"-377.64\" font-family=\"Courier,monospace\" font-size=\"14.00\">; var int64_t var_4h @ rbp-0x4</text>\n",
       "<text text-anchor=\"start\" x=\"239\" y=\"-362.64\" font-family=\"Courier,monospace\" font-size=\"14.00\">      endbr64</text>\n",
       "<text text-anchor=\"start\" x=\"239\" y=\"-347.64\" font-family=\"Courier,monospace\" font-size=\"14.00\">      pushq %rbp</text>\n",
       "<text text-anchor=\"start\" x=\"239\" y=\"-332.64\" font-family=\"Courier,monospace\" font-size=\"14.00\">      movq %rsp, %rbp</text>\n",
       "<text text-anchor=\"start\" x=\"239\" y=\"-317.64\" font-family=\"Courier,monospace\" font-size=\"14.00\">      movl $0, var_8h</text>\n",
       "<text text-anchor=\"start\" x=\"239\" y=\"-302.64\" font-family=\"Courier,monospace\" font-size=\"14.00\">      movl $0, var_4h</text>\n",
       "<text text-anchor=\"start\" x=\"239\" y=\"-287.64\" font-family=\"Courier,monospace\" font-size=\"14.00\">      jmp 0x111b</text>\n",
       "</a>\n",
       "</g>\n",
       "</g>\n",
       "<!-- 0x0000111b -->\n",
       "<g id=\"node2\" class=\"node\">\n",
       "<title>0x0000111b</title>\n",
       "<g id=\"a_node2\"><a xlink:href=\"fcn.10f9/0x0000111b\" xlink:title=\"; CODE XREF from fcn.10f9 @ 0x110f\\l      cmpl $9, var_4h\\l      jle 0x1111\\l\">\n",
       "<polygon fill=\"white\" stroke=\"#767676\" points=\"511.5,-207.84 214.5,-207.84 214.5,-154.84 511.5,-154.84 511.5,-207.84\"/>\n",
       "<text text-anchor=\"start\" x=\"222.5\" y=\"-192.64\" font-family=\"Courier,monospace\" font-size=\"14.00\">; CODE XREF from fcn.10f9 @ 0x110f</text>\n",
       "<text text-anchor=\"start\" x=\"222.5\" y=\"-177.64\" font-family=\"Courier,monospace\" font-size=\"14.00\">      cmpl $9, var_4h</text>\n",
       "<text text-anchor=\"start\" x=\"222.5\" y=\"-162.64\" font-family=\"Courier,monospace\" font-size=\"14.00\">      jle 0x1111</text>\n",
       "</a>\n",
       "</g>\n",
       "</g>\n",
       "<!-- 0x000010f9&#45;&gt;0x0000111b -->\n",
       "<g id=\"edge1\" class=\"edge\">\n",
       "<title>0x000010f9-&gt;0x0000111b</title>\n",
       "<path fill=\"none\" stroke=\"#3a96dd\" d=\"M363,-279.59C363,-258.14 363,-235.93 363,-218.16\"/>\n",
       "<polygon fill=\"#3a96dd\" stroke=\"#3a96dd\" points=\"366.5,-217.98 363,-207.98 359.5,-217.98 366.5,-217.98\"/>\n",
       "</g>\n",
       "<!-- 0x00001121 -->\n",
       "<g id=\"node3\" class=\"node\">\n",
       "<title>0x00001121</title>\n",
       "<g id=\"a_node3\"><a xlink:href=\"fcn.10f9/0x00001121\" xlink:title=\"      movl var_8h, %eax\\l      popq %rbp\\l      retq\\l\">\n",
       "<polygon fill=\"white\" stroke=\"#767676\" points=\"354,-82.84 148,-82.84 148,-29.84 354,-29.84 354,-82.84\"/>\n",
       "<text text-anchor=\"start\" x=\"156\" y=\"-67.64\" font-family=\"Courier,monospace\" font-size=\"14.00\">      movl var_8h, %eax</text>\n",
       "<text text-anchor=\"start\" x=\"156\" y=\"-52.64\" font-family=\"Courier,monospace\" font-size=\"14.00\">      popq %rbp</text>\n",
       "<text text-anchor=\"start\" x=\"156\" y=\"-37.64\" font-family=\"Courier,monospace\" font-size=\"14.00\">      retq</text>\n",
       "</a>\n",
       "</g>\n",
       "</g>\n",
       "<!-- 0x0000111b&#45;&gt;0x00001121 -->\n",
       "<g id=\"edge3\" class=\"edge\">\n",
       "<title>0x0000111b-&gt;0x00001121</title>\n",
       "<path fill=\"none\" stroke=\"#c50f1f\" d=\"M339.52,-154.56C322.57,-135.94 299.54,-110.65 281.22,-90.53\"/>\n",
       "<polygon fill=\"#c50f1f\" stroke=\"#c50f1f\" points=\"283.77,-88.13 274.45,-83.09 278.59,-92.84 283.77,-88.13\"/>\n",
       "</g>\n",
       "<!-- 0x00001111 -->\n",
       "<g id=\"node4\" class=\"node\">\n",
       "<title>0x00001111</title>\n",
       "<g id=\"a_node4\"><a xlink:href=\"fcn.10f9/0x00001111\" xlink:title=\"      movl var_4h, %eax\\l      addl %eax, var_8h\\l      addl $1, var_4h\\l\">\n",
       "<polygon fill=\"white\" stroke=\"#767676\" points=\"578,-82.84 372,-82.84 372,-29.84 578,-29.84 578,-82.84\"/>\n",
       "<text text-anchor=\"start\" x=\"380\" y=\"-67.64\" font-family=\"Courier,monospace\" font-size=\"14.00\">      movl var_4h, %eax</text>\n",
       "<text text-anchor=\"start\" x=\"380\" y=\"-52.64\" font-family=\"Courier,monospace\" font-size=\"14.00\">      addl %eax, var_8h</text>\n",
       "<text text-anchor=\"start\" x=\"380\" y=\"-37.64\" font-family=\"Courier,monospace\" font-size=\"14.00\">      addl $1, var_4h</text>\n",
       "</a>\n",
       "</g>\n",
       "</g>\n",
       "<!-- 0x0000111b&#45;&gt;0x00001111 -->\n",
       "<g id=\"edge2\" class=\"edge\">\n",
       "<title>0x0000111b-&gt;0x00001111</title>\n",
       "<path fill=\"none\" stroke=\"#13a10e\" d=\"M386.48,-154.56C403.43,-135.94 426.46,-110.65 444.78,-90.53\"/>\n",
       "<polygon fill=\"#13a10e\" stroke=\"#13a10e\" points=\"447.41,-92.84 451.55,-83.09 442.23,-88.13 447.41,-92.84\"/>\n",
       "</g>\n",
       "<!-- 0x00001111&#45;&gt;0x0000111b -->\n",
       "<g id=\"edge4\" class=\"edge\">\n",
       "<title>0x00001111:s-&gt;0x0000111b:n</title>\n",
       "<path fill=\"none\" stroke=\"black\" d=\"M475,-29.34C475,16.44 545.79,2.19 578,-30.34 594.42,-46.92 583.67,-60.21 578,-82.84 562.77,-143.7 565.19,-174.9 511.5,-207.34 486.45,-222.47 389.06,-237.5 367.32,-217.71\"/>\n",
       "<polygon fill=\"black\" stroke=\"black\" points=\"370.37,-215.96 363,-208.34 364.01,-218.89 370.37,-215.96\"/>\n",
       "</g>\n",
       "<!-- \\n -->\n",
       "<g id=\"node5\" class=\"node\">\n",
       "<title>\\n</title>\n",
       "<polygon fill=\"gray\" stroke=\"black\" points=\"567,-376.84 513,-376.84 513,-340.84 567,-340.84 567,-376.84\"/>\n",
       "</g>\n",
       "<!-- rank0 -->\n",
       "<!-- rank0&#45;&gt;0x0000111b -->\n",
       "<!-- rank1 -->\n",
       "<!-- rank0&#45;&gt;rank1 -->\n",
       "<g id=\"edge7\" class=\"edge\">\n",
       "<title>rank0-&gt;rank1</title>\n",
       "<path fill=\"none\" stroke=\"white\" d=\"M136.62,-163.24C115.1,-142.06 78.29,-105.85 53.81,-81.75\"/>\n",
       "<polygon fill=\"white\" stroke=\"white\" points=\"56.22,-79.22 46.64,-74.7 51.31,-84.2 56.22,-79.22\"/>\n",
       "</g>\n",
       "<!-- None -->\n",
       "<g id=\"node8\" class=\"node\">\n",
       "<title>None</title>\n",
       "<polygon fill=\"gray\" stroke=\"black\" points=\"130,-74.34 76,-74.34 76,-38.34 130,-38.34 130,-74.34\"/>\n",
       "<text text-anchor=\"middle\" x=\"103\" y=\"-52.64\" font-family=\"Times,serif\" font-size=\"14.00\">None</text>\n",
       "</g>\n",
       "<!-- rank1&#45;&gt;None -->\n",
       "</g>\n",
       "</svg></div></div>\n",
       "        </div>\n",
       "    "
      ],
      "text/plain": [
       "<IPython.core.display.HTML object>"
      ]
     },
     "execution_count": 12,
     "metadata": {},
     "output_type": "execute_result"
    }
   ],
   "source": [
    "loop = build(code(r\"\"\"\n",
    "extern \"C\"\n",
    "int loop() { \n",
    "    int sum = 0;\n",
    "    for(int i = 0; i < 10; i++) {\n",
    "        sum += i;\n",
    "    }\n",
    "    return sum;\n",
    "}\n",
    "\"\"\"))\n",
    "compare([loop[0].asm(\"loop\"), loop[0].cfg(\"loop\")])"
   ]
  },
  {
   "cell_type": "markdown",
   "id": "7e664ec0-61e2-48bb-83c4-7b154d9efe34",
   "metadata": {},
   "source": [
    "## Running Multiple Versions"
   ]
  },
  {
   "cell_type": "markdown",
   "id": "d6014062-ae58-4c93-96bc-f717d47007e8",
   "metadata": {},
   "source": [
    "We can use `arg_map()` way with `run()` as well run one or more functions with one or more sets of arguments:"
   ]
  },
  {
   "cell_type": "code",
   "execution_count": 13,
   "id": "7fd9e57d-d7cc-4adb-aa1d-74cec69ba13e",
   "metadata": {},
   "outputs": [
    {
     "data": {
      "application/vnd.jupyter.widget-view+json": {
       "model_id": "598a43af4bad4ddfb43cb118f2de862a",
       "version_major": 2,
       "version_minor": 0
      },
      "text/plain": [
       "  0%|          | 0/8 [00:00<?, ?it/s]"
      ]
     },
     "metadata": {},
     "output_type": "display_data"
    }
   ],
   "source": [
    "results = run(exe, [\"times_forty_two\", \"plus_forty_two\"], arguments=arg_map(x=[2, 4]))"
   ]
  },
  {
   "cell_type": "markdown",
   "id": "5bc10f33-b295-4ebf-ab19-765b3ed23ba2",
   "metadata": {},
   "source": [
    "That ran eight different function calls (which `as_df()` will render as a Pandas data frame):"
   ]
  },
  {
   "cell_type": "code",
   "execution_count": 14,
   "id": "da099a47-77dd-4974-b14c-3adc04b7058f",
   "metadata": {},
   "outputs": [
    {
     "data": {
      "text/html": [
       "<div>\n",
       "<style scoped>\n",
       "    .dataframe tbody tr th:only-of-type {\n",
       "        vertical-align: middle;\n",
       "    }\n",
       "\n",
       "    .dataframe tbody tr th {\n",
       "        vertical-align: top;\n",
       "    }\n",
       "\n",
       "    .dataframe thead th {\n",
       "        text-align: right;\n",
       "    }\n",
       "</style>\n",
       "<table border=\"1\" class=\"dataframe\">\n",
       "  <thead>\n",
       "    <tr style=\"text-align: right;\">\n",
       "      <th></th>\n",
       "      <th>OPTIMIZE</th>\n",
       "      <th>function</th>\n",
       "      <th>x</th>\n",
       "    </tr>\n",
       "  </thead>\n",
       "  <tbody>\n",
       "    <tr>\n",
       "      <th>0</th>\n",
       "      <td>-O0</td>\n",
       "      <td>times_forty_two</td>\n",
       "      <td>2</td>\n",
       "    </tr>\n",
       "    <tr>\n",
       "      <th>1</th>\n",
       "      <td>-O0</td>\n",
       "      <td>times_forty_two</td>\n",
       "      <td>4</td>\n",
       "    </tr>\n",
       "    <tr>\n",
       "      <th>2</th>\n",
       "      <td>-O0</td>\n",
       "      <td>plus_forty_two</td>\n",
       "      <td>2</td>\n",
       "    </tr>\n",
       "    <tr>\n",
       "      <th>3</th>\n",
       "      <td>-O0</td>\n",
       "      <td>plus_forty_two</td>\n",
       "      <td>4</td>\n",
       "    </tr>\n",
       "    <tr>\n",
       "      <th>4</th>\n",
       "      <td>-O1</td>\n",
       "      <td>times_forty_two</td>\n",
       "      <td>2</td>\n",
       "    </tr>\n",
       "    <tr>\n",
       "      <th>5</th>\n",
       "      <td>-O1</td>\n",
       "      <td>times_forty_two</td>\n",
       "      <td>4</td>\n",
       "    </tr>\n",
       "    <tr>\n",
       "      <th>6</th>\n",
       "      <td>-O1</td>\n",
       "      <td>plus_forty_two</td>\n",
       "      <td>2</td>\n",
       "    </tr>\n",
       "    <tr>\n",
       "      <th>7</th>\n",
       "      <td>-O1</td>\n",
       "      <td>plus_forty_two</td>\n",
       "      <td>4</td>\n",
       "    </tr>\n",
       "  </tbody>\n",
       "</table>\n",
       "</div>"
      ],
      "text/plain": [
       "  OPTIMIZE         function  x\n",
       "0      -O0  times_forty_two  2\n",
       "1      -O0  times_forty_two  4\n",
       "2      -O0   plus_forty_two  2\n",
       "3      -O0   plus_forty_two  4\n",
       "4      -O1  times_forty_two  2\n",
       "5      -O1  times_forty_two  4\n",
       "6      -O1   plus_forty_two  2\n",
       "7      -O1   plus_forty_two  4"
      ]
     },
     "metadata": {},
     "output_type": "display_data"
    }
   ],
   "source": [
    "display(results.as_df())"
   ]
  },
  {
   "cell_type": "markdown",
   "id": "f97b8808-a040-49a2-908d-080532004f85",
   "metadata": {},
   "source": [
    "We could also get it as an array of `dict`s:"
   ]
  },
  {
   "cell_type": "code",
   "execution_count": 15,
   "id": "635c9f46-9ee6-4094-a133-856e96898c9a",
   "metadata": {},
   "outputs": [
    {
     "data": {
      "text/plain": [
       "[{'OPTIMIZE': '-O0', 'x': 2, 'function': 'times_forty_two'},\n",
       " {'OPTIMIZE': '-O0', 'x': 4, 'function': 'times_forty_two'},\n",
       " {'OPTIMIZE': '-O0', 'x': 2, 'function': 'plus_forty_two'},\n",
       " {'OPTIMIZE': '-O0', 'x': 4, 'function': 'plus_forty_two'},\n",
       " {'OPTIMIZE': '-O1', 'x': 2, 'function': 'times_forty_two'},\n",
       " {'OPTIMIZE': '-O1', 'x': 4, 'function': 'times_forty_two'},\n",
       " {'OPTIMIZE': '-O1', 'x': 2, 'function': 'plus_forty_two'},\n",
       " {'OPTIMIZE': '-O1', 'x': 4, 'function': 'plus_forty_two'}]"
      ]
     },
     "metadata": {},
     "output_type": "display_data"
    }
   ],
   "source": [
    "display(results.as_dicts())"
   ]
  },
  {
   "cell_type": "markdown",
   "id": "4f18e6e9-8084-4dfc-997b-deb13cabcdce",
   "metadata": {},
   "source": [
    "or csv:"
   ]
  },
  {
   "cell_type": "code",
   "execution_count": 16,
   "id": "041d364a-890c-4454-95b1-81c12ad5e65d",
   "metadata": {},
   "outputs": [
    {
     "data": {
      "text/plain": [
       "'OPTIMIZE,function,x\\n-O0,times_forty_two,2\\n-O0,times_forty_two,4\\n-O0,plus_forty_two,2\\n-O0,plus_forty_two,4\\n-O1,times_forty_two,2\\n-O1,times_forty_two,4\\n-O1,plus_forty_two,2\\n-O1,plus_forty_two,4\\n'"
      ]
     },
     "metadata": {},
     "output_type": "display_data"
    }
   ],
   "source": [
    "results.as_csv(\"/tmp/out.csv\")\n",
    "display(open(\"/tmp/out.csv\").read())"
   ]
  },
  {
   "cell_type": "markdown",
   "id": "7e69e2ca-f63c-4902-9de7-0ab0eae0c289",
   "metadata": {},
   "source": [
    "or json:"
   ]
  },
  {
   "cell_type": "code",
   "execution_count": 17,
   "id": "2b867f4a-90b3-4440-bb4a-9a807a2f205e",
   "metadata": {},
   "outputs": [
    {
     "data": {
      "text/plain": [
       "'{\"keys\": [\"OPTIMIZE\", \"function\", \"x\"], \"data\": [{\"OPTIMIZE\": \"-O0\", \"x\": 2, \"function\": \"times_forty_two\"}, {\"OPTIMIZE\": \"-O0\", \"x\": 4, \"function\": \"times_forty_two\"}, {\"OPTIMIZE\": \"-O0\", \"x\": 2, \"function\": \"plus_forty_two\"}, {\"OPTIMIZE\": \"-O0\", \"x\": 4, \"function\": \"plus_forty_two\"}, {\"OPTIMIZE\": \"-O1\", \"x\": 2, \"function\": \"times_forty_two\"}, {\"OPTIMIZE\": \"-O1\", \"x\": 4, \"function\": \"times_forty_two\"}, {\"OPTIMIZE\": \"-O1\", \"x\": 2, \"function\": \"plus_forty_two\"}, {\"OPTIMIZE\": \"-O1\", \"x\": 4, \"function\": \"plus_forty_two\"}]}'"
      ]
     },
     "metadata": {},
     "output_type": "display_data"
    }
   ],
   "source": [
    "display(results.as_json())"
   ]
  },
  {
   "cell_type": "markdown",
   "id": "58fec657-69b2-40da-9bdd-14550cf589c1",
   "metadata": {},
   "source": [
    "## Making Measurements"
   ]
  },
  {
   "cell_type": "markdown",
   "id": "40640ecd-8a1e-4ffb-ad6a-c67a60c305fa",
   "metadata": {},
   "source": [
    "Let's see fast `stl::sort()` is.  First, we'll compile it with and without optimizations:"
   ]
  },
  {
   "cell_type": "code",
   "execution_count": 18,
   "id": "ad8b6420-7800-45ea-92b0-d8d73f47b0ec",
   "metadata": {},
   "outputs": [
    {
     "data": {
      "application/vnd.jupyter.widget-view+json": {
       "model_id": "1b44ffd12dc04482955c642a6ceb7816",
       "version_major": 2,
       "version_minor": 0
      },
      "text/plain": [
       "  0%|          | 0/2 [00:00<?, ?it/s]"
      ]
     },
     "metadata": {},
     "output_type": "display_data"
    }
   ],
   "source": [
    "sort_exe = build(code(r\"\"\"\n",
    "#include\"cfiddle.hpp\"\n",
    "#include<vector>\n",
    "#include<algorithm>\n",
    "\n",
    "extern \"C\"\n",
    "int sort(int n) {\n",
    "    std::vector<int> data(n);\n",
    "    for(int i = 0;i < n; i++) {\n",
    "        data[i] = i;\n",
    "    }\n",
    "    auto rng = fast_URBG();                       // cfiddle.hpp provides a very fast, low-quality random number generator.\n",
    "    std::shuffle(data.begin(), data.end(), rng);  \n",
    "    start_measurement();                          // cfiddle.hpp provides this to mark the begining of a measurement...\n",
    "    std::sort(data.begin(), data.end());\n",
    "    end_measurement();                            // ... and the end\n",
    "    return data[0];                               // Keep the compiler from optimizing away everything.\n",
    "}\"\"\"), build_parameters=arg_map(OPTIMIZE=[\"-O0\", \"-O3\"]))"
   ]
  },
  {
   "cell_type": "markdown",
   "id": "f14c6142-8402-42ab-a4ca-8a99914085f4",
   "metadata": {},
   "source": [
    "The header `cfiddle.hpp` provides several useful facilities:\n",
    "\n",
    "1. A very-fast, linear-feedback-based random number generator (and necessary C++ STL boilerplate to use it)\n",
    "2. `start_measurement()`/`end_measurement()` to mark regions of interest during execution.\n",
    "\n",
    "Let's run it:"
   ]
  },
  {
   "cell_type": "code",
   "execution_count": 19,
   "id": "610c5d18-36af-461a-9d88-767d077acf19",
   "metadata": {},
   "outputs": [
    {
     "data": {
      "application/vnd.jupyter.widget-view+json": {
       "model_id": "936643e459bf468fabb7208f22eab3be",
       "version_major": 2,
       "version_minor": 0
      },
      "text/plain": [
       "  0%|          | 0/2 [00:00<?, ?it/s]"
      ]
     },
     "metadata": {},
     "output_type": "display_data"
    },
    {
     "data": {
      "text/html": [
       "<div>\n",
       "<style scoped>\n",
       "    .dataframe tbody tr th:only-of-type {\n",
       "        vertical-align: middle;\n",
       "    }\n",
       "\n",
       "    .dataframe tbody tr th {\n",
       "        vertical-align: top;\n",
       "    }\n",
       "\n",
       "    .dataframe thead th {\n",
       "        text-align: right;\n",
       "    }\n",
       "</style>\n",
       "<table border=\"1\" class=\"dataframe\">\n",
       "  <thead>\n",
       "    <tr style=\"text-align: right;\">\n",
       "      <th></th>\n",
       "      <th>OPTIMIZE</th>\n",
       "      <th>function</th>\n",
       "      <th>n</th>\n",
       "      <th>ET</th>\n",
       "    </tr>\n",
       "  </thead>\n",
       "  <tbody>\n",
       "    <tr>\n",
       "      <th>0</th>\n",
       "      <td>-O0</td>\n",
       "      <td>sort</td>\n",
       "      <td>1000000</td>\n",
       "      <td>0.286364</td>\n",
       "    </tr>\n",
       "    <tr>\n",
       "      <th>1</th>\n",
       "      <td>-O3</td>\n",
       "      <td>sort</td>\n",
       "      <td>1000000</td>\n",
       "      <td>0.050592</td>\n",
       "    </tr>\n",
       "  </tbody>\n",
       "</table>\n",
       "</div>"
      ],
      "text/plain": [
       "  OPTIMIZE function        n        ET\n",
       "0      -O0     sort  1000000  0.286364\n",
       "1      -O3     sort  1000000  0.050592"
      ]
     },
     "execution_count": 19,
     "metadata": {},
     "output_type": "execute_result"
    }
   ],
   "source": [
    "sort_results = run(sort_exe, \"sort\", arg_map(n=[1000000])) \n",
    "sort_results.as_df()"
   ]
  },
  {
   "cell_type": "markdown",
   "id": "0d066378-3480-43e8-8713-191e4f62eb30",
   "metadata": {},
   "source": [
    "\"ET\" is for \"execution time\".\n",
    "\n",
    "Let's see how long it takes to set up the array, too:"
   ]
  },
  {
   "cell_type": "code",
   "execution_count": 20,
   "id": "e932c2e2-f692-4a2e-ac51-ff337d24b683",
   "metadata": {},
   "outputs": [
    {
     "data": {
      "application/vnd.jupyter.widget-view+json": {
       "model_id": "4ca4f143ca8d48a0934ec0f1b88abaae",
       "version_major": 2,
       "version_minor": 0
      },
      "text/plain": [
       "  0%|          | 0/2 [00:00<?, ?it/s]"
      ]
     },
     "metadata": {},
     "output_type": "display_data"
    }
   ],
   "source": [
    "exe = build(code(r\"\"\"\n",
    "#include\"cfiddle.hpp\"\n",
    "#include<vector>\n",
    "#include<algorithm>\n",
    "\n",
    "extern \"C\"\n",
    "int sort(int n) {\n",
    "    start_measurement(\"initializing\");             // The string shows up in the output in the 'tag' column      \n",
    "    std::vector<int> data(n);\n",
    "    for(int i = 0;i < n; i++) {\n",
    "        data[i] = i;\n",
    "    }\n",
    "    auto rng = fast_URBG();                       \n",
    "    std::shuffle(data.begin(), data.end(), rng);  \n",
    "    restart_measurement(\"sorting\");               // This ends one tag and begins another.\n",
    "    std::sort(data.begin(), data.end());\n",
    "    end_measurement();                           \n",
    "    return data[0];                              \n",
    "}\"\"\"), build_parameters=arg_map(OPTIMIZE=[\"-O0\", \"-O3\"]))"
   ]
  },
  {
   "cell_type": "code",
   "execution_count": 21,
   "id": "2b306c31-7c41-4871-b295-7bc5224153ac",
   "metadata": {},
   "outputs": [
    {
     "data": {
      "application/vnd.jupyter.widget-view+json": {
       "model_id": "e5c9d5ed79934534b2bbaae5f66d1bff",
       "version_major": 2,
       "version_minor": 0
      },
      "text/plain": [
       "  0%|          | 0/2 [00:00<?, ?it/s]"
      ]
     },
     "metadata": {},
     "output_type": "display_data"
    },
    {
     "data": {
      "text/html": [
       "<div>\n",
       "<style scoped>\n",
       "    .dataframe tbody tr th:only-of-type {\n",
       "        vertical-align: middle;\n",
       "    }\n",
       "\n",
       "    .dataframe tbody tr th {\n",
       "        vertical-align: top;\n",
       "    }\n",
       "\n",
       "    .dataframe thead th {\n",
       "        text-align: right;\n",
       "    }\n",
       "</style>\n",
       "<table border=\"1\" class=\"dataframe\">\n",
       "  <thead>\n",
       "    <tr style=\"text-align: right;\">\n",
       "      <th></th>\n",
       "      <th>OPTIMIZE</th>\n",
       "      <th>function</th>\n",
       "      <th>n</th>\n",
       "      <th>tag</th>\n",
       "      <th>ET</th>\n",
       "    </tr>\n",
       "  </thead>\n",
       "  <tbody>\n",
       "    <tr>\n",
       "      <th>0</th>\n",
       "      <td>-O0</td>\n",
       "      <td>sort</td>\n",
       "      <td>1000000</td>\n",
       "      <td>initializing</td>\n",
       "      <td>0.050868</td>\n",
       "    </tr>\n",
       "    <tr>\n",
       "      <th>1</th>\n",
       "      <td>-O0</td>\n",
       "      <td>sort</td>\n",
       "      <td>1000000</td>\n",
       "      <td>sorting</td>\n",
       "      <td>0.291333</td>\n",
       "    </tr>\n",
       "    <tr>\n",
       "      <th>2</th>\n",
       "      <td>-O3</td>\n",
       "      <td>sort</td>\n",
       "      <td>1000000</td>\n",
       "      <td>initializing</td>\n",
       "      <td>0.004811</td>\n",
       "    </tr>\n",
       "    <tr>\n",
       "      <th>3</th>\n",
       "      <td>-O3</td>\n",
       "      <td>sort</td>\n",
       "      <td>1000000</td>\n",
       "      <td>sorting</td>\n",
       "      <td>0.052485</td>\n",
       "    </tr>\n",
       "  </tbody>\n",
       "</table>\n",
       "</div>"
      ],
      "text/plain": [
       "  OPTIMIZE function        n           tag        ET\n",
       "0      -O0     sort  1000000  initializing  0.050868\n",
       "1      -O0     sort  1000000       sorting  0.291333\n",
       "2      -O3     sort  1000000  initializing  0.004811\n",
       "3      -O3     sort  1000000       sorting  0.052485"
      ]
     },
     "execution_count": 21,
     "metadata": {},
     "output_type": "execute_result"
    }
   ],
   "source": [
    "results = run(exe, \"sort\", arg_map(n=[1000000])) \n",
    "results.as_df()"
   ]
  },
  {
   "cell_type": "markdown",
   "id": "934ebbfb-d55c-4140-81aa-1be5a8857b0c",
   "metadata": {},
   "source": [
    "## Drawing Graphs"
   ]
  },
  {
   "cell_type": "markdown",
   "id": "d91882e6-5f32-4007-8276-338624933500",
   "metadata": {},
   "source": [
    "CFiddle doesn't directly provide data visualization services, but it works well with standard, Jupyter-friendly tools like Pandas and Matplotlib:"
   ]
  },
  {
   "cell_type": "code",
   "execution_count": 22,
   "id": "65b4497d-8d6d-4534-8903-f4a2dcaac52b",
   "metadata": {},
   "outputs": [
    {
     "data": {
      "text/plain": [
       "<AxesSubplot: xlabel='OPTIMIZE', ylabel='ET'>"
      ]
     },
     "execution_count": 22,
     "metadata": {},
     "output_type": "execute_result"
    },
    {
     "data": {
      "image/png": "[encoded data removed]",
      "text/plain": [
       "<Figure size 640x480 with 1 Axes>"
      ]
     },
     "metadata": {},
     "output_type": "display_data"
    }
   ],
   "source": [
    "sort_results.as_df().plot.bar(x=\"OPTIMIZE\", y=\"ET\", ylabel=\"ET\")"
   ]
  },
  {
   "cell_type": "markdown",
   "id": "110907c1-8d34-443e-88ce-72f63b90352d",
   "metadata": {},
   "source": [
    "Line graphs are easy too:"
   ]
  },
  {
   "cell_type": "code",
   "execution_count": 23,
   "id": "fae7783c-8e98-4958-982e-d3ad637f9e24",
   "metadata": {},
   "outputs": [
    {
     "data": {
      "application/vnd.jupyter.widget-view+json": {
       "model_id": "a8657a0dfb9641a691af09a10883ca3d",
       "version_major": 2,
       "version_minor": 0
      },
      "text/plain": [
       "  0%|          | 0/90 [00:00<?, ?it/s]"
      ]
     },
     "metadata": {},
     "output_type": "display_data"
    }
   ],
   "source": [
    "sort_results = run(sort_exe[1], \"sort\", arg_map(n=range(10000, 100000,1000))) "
   ]
  },
  {
   "cell_type": "code",
   "execution_count": 24,
   "id": "a1dd01e8-c04a-4c67-822a-008004d2bc60",
   "metadata": {},
   "outputs": [
    {
     "data": {
      "text/plain": [
       "<AxesSubplot: title={'center': 'OPTIMIZE = -O3'}, xlabel='ET', ylabel='ET'>"
      ]
     },
     "execution_count": 24,
     "metadata": {},
     "output_type": "execute_result"
    },
    {
     "data": {
      "image/png": "[encoded data removed]",
      "text/plain": [
       "<Figure size 640x480 with 1 Axes>"
      ]
     },
     "metadata": {},
     "output_type": "display_data"
    }
   ],
   "source": [
    "sort_results.as_df().plot.line(x=\"n\", y=\"ET\", xlabel=\"ET\", ylabel=\"ET\", title=\"OPTIMIZE = -O3\")"
   ]
  },
  {
   "cell_type": "markdown",
   "id": "13963a34-d898-4ace-a6e9-7b853136c64e",
   "metadata": {},
   "source": [
    "## Limitations"
   ]
  },
  {
   "cell_type": "markdown",
   "id": "15e40818-e093-4b35-92af-fe5e7dfd1ae2",
   "metadata": {},
   "source": [
    "There are few things to watch out for with CFiddle:\n",
    "\n",
    "1. It uses heuristics rather than real parsing to identify function names.\n",
    "    * It can't handle newlines in function prototypes.\n",
    "    * It only knows about basic C/C++ types.\n",
    "2. The CFG rendering use [Redare2](https://rada.re/), a very powerful reverse engineering tool.\n",
    "    * It works on binaries rather than assembly (so the output of `cfg()` doesn't perfectly match the output of `asm()`)\n",
    "    * Sometimes it gets confused and returns nonsense.\n",
    "3.  If your code SEGFAULTs it will take Python down with it."
   ]
  }
 ],
 "metadata": {
  "kernelspec": {
   "display_name": "Python 3 (ipykernel)",
   "language": "python",
   "name": "python3"
  },
  "language_info": {
   "codemirror_mode": {
    "name": "ipython",
    "version": 3
   },
   "file_extension": ".py",
   "mimetype": "text/x-python",
   "name": "python",
   "nbconvert_exporter": "python",
   "pygments_lexer": "ipython3",
   "version": "3.10.6"
  },
  "toc": {
   "base_numbering": 1,
   "nav_menu": {},
   "number_sections": true,
   "sideBar": true,
   "skip_h1_title": false,
   "title_cell": "Table of Contents",
   "title_sidebar": "Contents",
   "toc_cell": false,
   "toc_position": {},
   "toc_section_display": true,
   "toc_window_display": true
  }
 },
 "nbformat": 4,
 "nbformat_minor": 5
}
