{
 "cells": [
  {
   "cell_type": "markdown",
   "id": "84d35959-42cb-46ae-8beb-6182f0321193",
   "metadata": {},
   "source": [
    "# CFiddle Tutorial and Tour"
   ]
  },
  {
   "cell_type": "markdown",
   "id": "b226e7fa-d3ea-4ee9-a076-8c61027281f3",
   "metadata": {},
   "source": [
    "CFiddle is a Python library for studying how smallish programs are compiled and execute.  It is built to make it easy to experiment and explore.\n",
    "\n",
    "With it you can:\n",
    "\n",
    "1. See what the compiler did to your code.\n",
    "2. Visualize programs with control flow graphs.\n",
    "3. Compare the performance of different algorithms/compilation flags/inputs.\n",
    "4. Easily process, plot, or export the results of the above.\n",
    "5. Do all of the above in Juypter Notebook/Lab.\n",
    "\n",
    "If you want to get a feel for why CFiddle is useful (and see some more of its features), checkout [the gallery](README.ipynb).  If you want to learn how to use CFiddle, read on!\n",
    "\n",
    "If you have questions, contact swanson@cs.ucsd.edu."
   ]
  },
  {
   "cell_type": "markdown",
   "id": "70a9d7ca-9d20-45bd-8e64-b9fea91a5dcf",
   "metadata": {},
   "source": [
    "## Importing CFiddle"
   ]
  },
  {
   "cell_type": "markdown",
   "id": "ec7cc8dd-0f09-4619-b905-f85097a680fa",
   "metadata": {},
   "source": [
    "Load up everything and set it up to place nicely with Jupyter."
   ]
  },
  {
   "cell_type": "code",
   "execution_count": null,
   "id": "5065bffd-30db-4952-a0c3-c8d59ed719ea",
   "metadata": {},
   "outputs": [],
   "source": [
    "%xmode Minimal # this produces more readable exceptions.\n",
    "from cfiddle import *\n"
   ]
  },
  {
   "cell_type": "markdown",
   "id": "607f8fe9-aebf-4884-9081-5d37a7742713",
   "metadata": {},
   "source": [
    "## Building Code"
   ]
  },
  {
   "cell_type": "markdown",
   "id": "4574363a-4d50-4227-8920-c49892d51558",
   "metadata": {},
   "source": [
    "Let's compile a program:"
   ]
  },
  {
   "cell_type": "code",
   "execution_count": null,
   "id": "9d6113ad-59d8-4e0d-95ee-d0f734ba5dbc",
   "metadata": {},
   "outputs": [],
   "source": [
    "exe = build(code(r\"\"\"\n",
    "extern \"C\"\n",
    "int forty_two() {\n",
    "    return 42;\n",
    "}\"\"\"))[0]"
   ]
  },
  {
   "cell_type": "markdown",
   "id": "fc3b8690-1477-4760-a4b2-13f84fbced05",
   "metadata": {},
   "source": [
    "There are few things going on here:\n",
    "\n",
    "1.  `code()` takes a raw Python string, stores it in anonymous file, and returns the filename.\n",
    "2.  We declared `forty_two()` as `extern \"C\"` so it's name won't get mangled.\n",
    "2.  `build()` compiles the code in the file into a dynamic library, so we can execute it later.\n",
    "\n",
    "`build()` returns a _list_ of objects that represent versions of the compiled code.  In this case, we only compiled one version, so the list has a single entry, which we stored in `exe`.\n",
    "\n",
    "Before we run `forty_two()`, let's take a look at it's assembly:"
   ]
  },
  {
   "cell_type": "code",
   "execution_count": null,
   "id": "0e7a9d09-71fb-46ff-a306-0b3aa56c7148",
   "metadata": {},
   "outputs": [],
   "source": [
    "exe.asm(\"forty_two\")"
   ]
  },
  {
   "cell_type": "markdown",
   "id": "be761432-922c-43f4-9eba-a8a839073407",
   "metadata": {},
   "source": [
    "## Running Code"
   ]
  },
  {
   "cell_type": "markdown",
   "id": "a0402bcf-5e41-498f-9770-61f7d96bc5c6",
   "metadata": {},
   "source": [
    "Let's run the function:"
   ]
  },
  {
   "cell_type": "code",
   "execution_count": null,
   "id": "fb14961f-7a5d-4518-afd0-5b26af7ba04d",
   "metadata": {},
   "outputs": [],
   "source": [
    "results = run(exe, \"forty_two\")\n",
    "display(results[0].return_value)"
   ]
  },
  {
   "cell_type": "markdown",
   "id": "9582a02b-40b8-47e2-b1f8-8de14c14de07",
   "metadata": {},
   "source": [
    "The `run()` function takes an executable and a function name to invoke.  It returns a _list_ of objects representing the results of execution. In this case, again, there's just one object, because we only executed one function, one time."
   ]
  },
  {
   "cell_type": "markdown",
   "id": "d4d240e2-59ba-41da-94ad-f28f5de46040",
   "metadata": {},
   "source": [
    "## Building Multiple Versions"
   ]
  },
  {
   "cell_type": "markdown",
   "id": "493c92bd-7037-4b85-8fbc-b58d74e04cf3",
   "metadata": {},
   "source": [
    "Here's a more interesting function:"
   ]
  },
  {
   "cell_type": "code",
   "execution_count": null,
   "id": "e1072008-07e0-4300-8b1a-194e75ee61e3",
   "metadata": {},
   "outputs": [],
   "source": [
    "more_interesting = code(r\"\"\"\n",
    "extern \"C\"\n",
    "int times_forty_two(int x) {\n",
    "    return 42 * x;\n",
    "}\n",
    "\n",
    "extern \"C\"\n",
    "int plus_forty_two(int x) {\n",
    "    return 42 + x;\n",
    "}\"\"\")"
   ]
  },
  {
   "cell_type": "markdown",
   "id": "50ce597f-1baf-4538-86de-dcd13a06c4fc",
   "metadata": {},
   "source": [
    "Let's compile it with a specific set of compiler flags:"
   ]
  },
  {
   "cell_type": "code",
   "execution_count": null,
   "id": "72be9734-14c5-4908-a1b0-74e6ed5a0c33",
   "metadata": {},
   "outputs": [],
   "source": [
    "exe = build(source=more_interesting, \n",
    "            build_parameters=arg_map(OPTIMIZE=\"-O1\"))"
   ]
  },
  {
   "cell_type": "markdown",
   "id": "42472a30-95c4-4325-92d9-6f5bb1616d55",
   "metadata": {},
   "source": [
    "The `build_parameters` argument takes a dict that sets `Makefile` variables that CFiddle will use to build the executable, so now `exe[0]` represents a slightly more optimized version of `more_interesting`.\n",
    "\n",
    "It'd be more interesting two compare two different optimization levels, and CFiddle makes that easy:"
   ]
  },
  {
   "cell_type": "code",
   "execution_count": null,
   "id": "6577e1bb-4158-435b-a259-9aeff74051bf",
   "metadata": {},
   "outputs": [],
   "source": [
    "exe = build(more_interesting, \n",
    "            build_parameters=arg_map(OPTIMIZE=[\"-O0\", \"-O1\"]))"
   ]
  },
  {
   "cell_type": "markdown",
   "id": "d7e792dc-810b-43d3-be5a-74e6789f5ebf",
   "metadata": {},
   "source": [
    "The key here is `arg_map()`.  `arg_map()` is the third central tool in CFiddle (along with `build()` and `run()`).\n",
    "\n",
    "`arg_map()` takes a `dict` that maps argument names to lists of values.  It returns a `list` of `dict`s that map those keys to the corresponding values in all possible combinations.  For instance:"
   ]
  },
  {
   "cell_type": "code",
   "execution_count": null,
   "id": "8d2da605-8b84-4ef3-b027-dbb544e3e113",
   "metadata": {},
   "outputs": [],
   "source": [
    "arg_map(a=[1,2], b=[3,4])"
   ]
  },
  {
   "cell_type": "markdown",
   "id": "555f93c9-ce5a-47ce-b855-56a54d6dc2e1",
   "metadata": {},
   "source": [
    "Or, more relevantly:"
   ]
  },
  {
   "cell_type": "code",
   "execution_count": null,
   "id": "de3e76c2-dc2f-4471-89c1-827462fc290f",
   "metadata": {},
   "outputs": [],
   "source": [
    "arg_map(OPTIMIZE=[\"-O0\", \"-O1\"])"
   ]
  },
  {
   "cell_type": "markdown",
   "id": "a798589a-2c0c-4cd1-9fb8-e4f082cd4eea",
   "metadata": {},
   "source": [
    "So the `build()` call above, passes a list of `build_parameter` settings and compiles `more_interesting` for each set of values.  The result is two executables:"
   ]
  },
  {
   "cell_type": "code",
   "execution_count": null,
   "id": "1616680d-f2d6-46fd-8a28-f12bbc56181c",
   "metadata": {},
   "outputs": [],
   "source": [
    "display(exe)"
   ]
  },
  {
   "cell_type": "markdown",
   "id": "07108c92-0565-421c-b384-78f36620bbe2",
   "metadata": {},
   "source": [
    "And we can compare their assembly like so:"
   ]
  },
  {
   "cell_type": "code",
   "execution_count": null,
   "id": "1b84ffd9-8899-4f35-8797-b1439732bbbb",
   "metadata": {},
   "outputs": [],
   "source": [
    "from cfiddle.jupyter import *\n",
    "compare([exe[0].asm(\"times_forty_two\"), exe[1].asm(\"times_forty_two\")], # compare takes two things and puts them side by side.\n",
    "        [html_parameters(exe[0].get_build_parameters()), html_parameters(exe[1].get_build_parameters())])  # you can provide headers, too."
   ]
  },
  {
   "cell_type": "markdown",
   "id": "d47401ac-9e91-4974-ae08-37c9875f7c6b",
   "metadata": {},
   "source": [
    "## Visualizing Control Flow"
   ]
  },
  {
   "cell_type": "markdown",
   "id": "bdbf069b-f467-4dfd-896e-891b878d1a1a",
   "metadata": {},
   "source": [
    "CFiddle can make it much easier to read assembly language by rendering it as a control flow graph."
   ]
  },
  {
   "cell_type": "code",
   "execution_count": null,
   "id": "32d3d734-6627-4f2a-a3a4-5d37f1eed7b2",
   "metadata": {},
   "outputs": [],
   "source": [
    "loop = build(code(r\"\"\"\n",
    "extern \"C\"\n",
    "int loop() { \n",
    "    int sum = 0;\n",
    "    for(int i = 0; i < 10; i++) {\n",
    "        sum += i;\n",
    "    }\n",
    "    return sum;\n",
    "}\n",
    "\"\"\"))\n",
    "compare([loop[0].asm(\"loop\"), loop[0].cfg(\"loop\")])"
   ]
  },
  {
   "cell_type": "markdown",
   "id": "7e664ec0-61e2-48bb-83c4-7b154d9efe34",
   "metadata": {},
   "source": [
    "## Running Multiple Versions"
   ]
  },
  {
   "cell_type": "markdown",
   "id": "d6014062-ae58-4c93-96bc-f717d47007e8",
   "metadata": {},
   "source": [
    "We can use `arg_map()` way with `run()` as well run one or more functions with one or more sets of arguments:"
   ]
  },
  {
   "cell_type": "code",
   "execution_count": null,
   "id": "7fd9e57d-d7cc-4adb-aa1d-74cec69ba13e",
   "metadata": {},
   "outputs": [],
   "source": [
    "results = run(exe, [\"times_forty_two\", \"plus_forty_two\"], arguments=arg_map(x=[2, 4]))"
   ]
  },
  {
   "cell_type": "markdown",
   "id": "5bc10f33-b295-4ebf-ab19-765b3ed23ba2",
   "metadata": {},
   "source": [
    "That ran eight different function calls (which `as_df()` will render as a Pandas data frame):"
   ]
  },
  {
   "cell_type": "code",
   "execution_count": null,
   "id": "da099a47-77dd-4974-b14c-3adc04b7058f",
   "metadata": {},
   "outputs": [],
   "source": [
    "display(results.as_df())"
   ]
  },
  {
   "cell_type": "markdown",
   "id": "f97b8808-a040-49a2-908d-080532004f85",
   "metadata": {},
   "source": [
    "We could also get it as an array of `dict`s:"
   ]
  },
  {
   "cell_type": "code",
   "execution_count": null,
   "id": "635c9f46-9ee6-4094-a133-856e96898c9a",
   "metadata": {},
   "outputs": [],
   "source": [
    "display(results.as_dicts())"
   ]
  },
  {
   "cell_type": "markdown",
   "id": "4f18e6e9-8084-4dfc-997b-deb13cabcdce",
   "metadata": {},
   "source": [
    "or csv:"
   ]
  },
  {
   "cell_type": "code",
   "execution_count": null,
   "id": "041d364a-890c-4454-95b1-81c12ad5e65d",
   "metadata": {},
   "outputs": [],
   "source": [
    "results.as_csv(\"/tmp/out.csv\")\n",
    "display(open(\"/tmp/out.csv\").read())"
   ]
  },
  {
   "cell_type": "markdown",
   "id": "7e69e2ca-f63c-4902-9de7-0ab0eae0c289",
   "metadata": {},
   "source": [
    "or json:"
   ]
  },
  {
   "cell_type": "code",
   "execution_count": null,
   "id": "2b867f4a-90b3-4440-bb4a-9a807a2f205e",
   "metadata": {},
   "outputs": [],
   "source": [
    "display(results.as_json())"
   ]
  },
  {
   "cell_type": "markdown",
   "id": "58fec657-69b2-40da-9bdd-14550cf589c1",
   "metadata": {},
   "source": [
    "## Making Measurements"
   ]
  },
  {
   "cell_type": "markdown",
   "id": "40640ecd-8a1e-4ffb-ad6a-c67a60c305fa",
   "metadata": {},
   "source": [
    "Let's see fast `stl::sort()` is.  First, we'll compile it with and without optimizations:"
   ]
  },
  {
   "cell_type": "code",
   "execution_count": null,
   "id": "ad8b6420-7800-45ea-92b0-d8d73f47b0ec",
   "metadata": {},
   "outputs": [],
   "source": [
    "sort_exe = build(code(r\"\"\"\n",
    "#include\"cfiddle.hpp\"\n",
    "#include<vector>\n",
    "#include<algorithm>\n",
    "\n",
    "extern \"C\"\n",
    "int sort(int n) {\n",
    "    std::vector<int> data(n);\n",
    "    for(int i = 0;i < n; i++) {\n",
    "        data[i] = i;\n",
    "    }\n",
    "    auto rng = fast_URBG();                       // cfiddle.hpp provides a very fast, low-quality random number generator.\n",
    "    std::shuffle(data.begin(), data.end(), rng);  \n",
    "    start_measurement();                          // cfiddle.hpp provides this to mark the begining of a measurement...\n",
    "    std::sort(data.begin(), data.end());\n",
    "    end_measurement();                            // ... and the end\n",
    "    return data[0];                               // Keep the compiler from optimizing away everything.\n",
    "}\"\"\"), build_parameters=arg_map(OPTIMIZE=[\"-O0\", \"-O3\"]))"
   ]
  },
  {
   "cell_type": "markdown",
   "id": "f14c6142-8402-42ab-a4ca-8a99914085f4",
   "metadata": {},
   "source": [
    "The header `cfiddle.hpp` provides several useful facilities:\n",
    "\n",
    "1. A very-fast, linear-feedback-based random number generator (and necessary C++ STL boilerplate to use it)\n",
    "2. `start_measurement()`/`end_measurement()` to mark regions of interest during execution.\n",
    "\n",
    "Let's run it:"
   ]
  },
  {
   "cell_type": "code",
   "execution_count": null,
   "id": "610c5d18-36af-461a-9d88-767d077acf19",
   "metadata": {},
   "outputs": [],
   "source": [
    "sort_results = run(sort_exe, \"sort\", arg_map(n=[1000000])) \n",
    "sort_results.as_df()"
   ]
  },
  {
   "cell_type": "markdown",
   "id": "0d066378-3480-43e8-8713-191e4f62eb30",
   "metadata": {},
   "source": [
    "\"ET\" is for \"execution time\".\n",
    "\n",
    "Let's see how long it takes to set up the array, too:"
   ]
  },
  {
   "cell_type": "code",
   "execution_count": null,
   "id": "e932c2e2-f692-4a2e-ac51-ff337d24b683",
   "metadata": {},
   "outputs": [],
   "source": [
    "exe = build(code(r\"\"\"\n",
    "#include\"cfiddle.hpp\"\n",
    "#include<vector>\n",
    "#include<algorithm>\n",
    "\n",
    "extern \"C\"\n",
    "int sort(int n) {\n",
    "    start_measurement(\"initializing\");             // The string shows up in the output in the 'tag' column      \n",
    "    std::vector<int> data(n);\n",
    "    for(int i = 0;i < n; i++) {\n",
    "        data[i] = i;\n",
    "    }\n",
    "    auto rng = fast_URBG();                       \n",
    "    std::shuffle(data.begin(), data.end(), rng);  \n",
    "    restart_measurement(\"sorting\");               // This ends one tag and begins another.\n",
    "    std::sort(data.begin(), data.end());\n",
    "    end_measurement();                           \n",
    "    return data[0];                              \n",
    "}\"\"\"), build_parameters=arg_map(OPTIMIZE=[\"-O0\", \"-O3\"]))"
   ]
  },
  {
   "cell_type": "code",
   "execution_count": null,
   "id": "2b306c31-7c41-4871-b295-7bc5224153ac",
   "metadata": {},
   "outputs": [],
   "source": [
    "results = run(exe, \"sort\", arg_map(n=[1000000])) \n",
    "results.as_df()"
   ]
  },
  {
   "cell_type": "markdown",
   "id": "934ebbfb-d55c-4140-81aa-1be5a8857b0c",
   "metadata": {},
   "source": [
    "## Drawing Graphs"
   ]
  },
  {
   "cell_type": "markdown",
   "id": "d91882e6-5f32-4007-8276-338624933500",
   "metadata": {},
   "source": [
    "CFiddle doesn't directly provide data visualization services, but it works well with standard, Jupyter-friendly tools like Pandas and Matplotlib:"
   ]
  },
  {
   "cell_type": "code",
   "execution_count": null,
   "id": "65b4497d-8d6d-4534-8903-f4a2dcaac52b",
   "metadata": {},
   "outputs": [],
   "source": [
    "sort_results.as_df().plot.bar(x=\"OPTIMIZE\", y=\"ET\", ylabel=\"ET\")"
   ]
  },
  {
   "cell_type": "markdown",
   "id": "110907c1-8d34-443e-88ce-72f63b90352d",
   "metadata": {},
   "source": [
    "Line graphs are easy too:"
   ]
  },
  {
   "cell_type": "code",
   "execution_count": null,
   "id": "fae7783c-8e98-4958-982e-d3ad637f9e24",
   "metadata": {},
   "outputs": [],
   "source": [
    "sort_results = run(sort_exe[1], \"sort\", arg_map(n=range(10000, 100000,1000))) "
   ]
  },
  {
   "cell_type": "code",
   "execution_count": null,
   "id": "a1dd01e8-c04a-4c67-822a-008004d2bc60",
   "metadata": {},
   "outputs": [],
   "source": [
    "sort_results.as_df().plot.line(x=\"n\", y=\"ET\", xlabel=\"ET\", ylabel=\"ET\", title=\"OPTIMIZE = -O3\")"
   ]
  },
  {
   "cell_type": "markdown",
   "id": "13963a34-d898-4ace-a6e9-7b853136c64e",
   "metadata": {},
   "source": [
    "## Limitations"
   ]
  },
  {
   "cell_type": "markdown",
   "id": "15e40818-e093-4b35-92af-fe5e7dfd1ae2",
   "metadata": {},
   "source": [
    "There are few things to watch out for with CFiddle:\n",
    "\n",
    "1. It uses heuristics rather than real parsing to identify function names.\n",
    "    * It can't handle newlines in function prototypes.\n",
    "    * It only knows about basic C/C++ types.\n",
    "    * Function prototypes need to be on one line.\n",
    "2. The CFG rendering use [Redare2](https://rada.re/), a very powerful reverse engineering tool.\n",
    "    * It works on binaries rather than assembly (so the output of `cfg()` doesn't perfectly match the output of `asm()`)\n",
    "    * Sometimes it gets confused and returns nonsense.\n",
    "    * More recent versions of gcc seems to confuse it more than older versions.\n",
    "3.  If your code SEGFAULTs it will take Python down with it."
   ]
  }
 ],
 "metadata": {
  "kernelspec": {
   "display_name": "Python 3 (ipykernel)",
   "language": "python",
   "name": "python3"
  },
  "language_info": {
   "codemirror_mode": {
    "name": "ipython",
    "version": 3
   },
   "file_extension": ".py",
   "mimetype": "text/x-python",
   "name": "python",
   "nbconvert_exporter": "python",
   "pygments_lexer": "ipython3",
   "version": "3.10.6"
  },
  "toc": {
   "base_numbering": 1,
   "nav_menu": {},
   "number_sections": true,
   "sideBar": true,
   "skip_h1_title": false,
   "title_cell": "Table of Contents",
   "title_sidebar": "Contents",
   "toc_cell": false,
   "toc_position": {},
   "toc_section_display": true,
   "toc_window_display": true
  }
 },
 "nbformat": 4,
 "nbformat_minor": 5
}
