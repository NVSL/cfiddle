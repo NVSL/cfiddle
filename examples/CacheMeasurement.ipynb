{
 "cells": [
  {
   "cell_type": "markdown",
   "id": "210a8145-c475-45c2-8090-4064ffa0b7db",
   "metadata": {},
   "source": [
    "# Measuring Cache Sizes and Latency"
   ]
  },
  {
   "cell_type": "markdown",
   "id": "bbe51f26-ddcb-408c-b193-d9fb0bd64c8a",
   "metadata": {},
   "source": [
    "Here's the CFiddle version of classic experiment to measure the size and latency of a system's caches."
   ]
  },
  {
   "cell_type": "code",
   "execution_count": null,
   "id": "27494fa2-d4e6-475e-8ae6-f378e5f47add",
   "metadata": {},
   "outputs": [],
   "source": [
    "%xmode Minimal\n",
    "from cfiddle import *"
   ]
  },
  {
   "cell_type": "markdown",
   "id": "b857bec3-cfb3-4370-a219-d0d32f67c827",
   "metadata": {},
   "source": [
    "## Build A Randomize Circular Linked List\n",
    "\n",
    "Here's the source:"
   ]
  },
  {
   "cell_type": "code",
   "execution_count": null,
   "id": "23edabd9-abbd-4aad-b253-9fcebf08083f",
   "metadata": {},
   "outputs": [],
   "source": [
    "exe = build(\"misses/misses.cpp\", arg_map(OPTIMIZE=\"-O3\"))\n",
    "exe[0].source()"
   ]
  },
  {
   "cell_type": "markdown",
   "id": "2c494045-998a-4f04-82fc-d0e5e9c08c49",
   "metadata": {},
   "source": [
    "## Check The Assembly\n",
    "\n",
    "As you can see, this loop in `miss()` can't get much shorter, and the `movq` is not dependent on anything but itself.  Since the `movq` will be the longest-latency instruction and the processor is out-of-order, the latency should be solely determined by the `movq` latency.\n",
    "\n",
    "Having easy access to the assembly makes it easy to verify that our latency measurements will mean what we want them to."
   ]
  },
  {
   "cell_type": "code",
   "execution_count": null,
   "id": "6a0bc129-4fa0-4e85-940a-d56c3542be7a",
   "metadata": {},
   "outputs": [],
   "source": [
    "exe[0].cfg(\"miss\")"
   ]
  },
  {
   "cell_type": "markdown",
   "id": "e76c6e6d-9854-4da9-95bd-6429b82205a3",
   "metadata": {},
   "source": [
    "## Measure Performance for Varying Working Set Sizes"
   ]
  },
  {
   "cell_type": "code",
   "execution_count": null,
   "id": "2a330214-77be-49ef-8051-fcea87445663",
   "metadata": {},
   "outputs": [],
   "source": [
    "results = run(exe, \"go\", arg_map(working_set=exp_range(1024, 1024*1024*4, 2**0.5), \n",
    "                                     iterations=100000000))\n",
    "df = results.as_df()"
   ]
  },
  {
   "cell_type": "markdown",
   "id": "5267e7df-d4ed-47cf-ac03-6eab2f98cbe9",
   "metadata": {},
   "source": [
    "## Graph it!"
   ]
  },
  {
   "cell_type": "code",
   "execution_count": null,
   "id": "68939739-9346-47f0-ab84-ef0fb38e1490",
   "metadata": {},
   "outputs": [],
   "source": [
    "df['ns/access'] = df[\"ET\"]/df[\"iterations\"]*1e9\n",
    "df.plot.line(y=\"ns/access\", x=\"working_set\", ylabel=\"ns/access\", logx=True, logy=False)"
   ]
  },
  {
   "cell_type": "markdown",
   "id": "f98b4ca0-14d4-41d4-a6d2-8a3be41e1a5c",
   "metadata": {},
   "source": [
    "## Measure In Cycles\n",
    "\n",
    "If you performance counters work on your system, you can measure latency in cycles as well:"
   ]
  },
  {
   "cell_type": "code",
   "execution_count": null,
   "id": "7013dd33-b3eb-4515-b74b-d468361dd0fd",
   "metadata": {},
   "outputs": [],
   "source": [
    "results = run(exe, \"go\", arg_map(working_set=exp_range(1024, 1024*1024*4, 2**0.5), \n",
    "                                     iterations=100000000),\n",
    "                         perf_counters=[\"CYCLES\"])\n",
    "df = results.as_df()\n",
    "df['cycles/access'] = df[\"CYCLES\"]/df[\"iterations\"]\n",
    "df.plot.line(y=\"cycles/access\", x=\"working_set\", ylabel=\"cycles/access\", logx=True, logy=False)"
   ]
  },
  {
   "cell_type": "code",
   "execution_count": null,
   "id": "95f09c97",
   "metadata": {},
   "outputs": [],
   "source": []
  }
 ],
 "metadata": {
  "kernelspec": {
   "display_name": "Python 3 (ipykernel)",
   "language": "python",
   "name": "python3"
  },
  "language_info": {
   "codemirror_mode": {
    "name": "ipython",
    "version": 3
   },
   "file_extension": ".py",
   "mimetype": "text/x-python",
   "name": "python",
   "nbconvert_exporter": "python",
   "pygments_lexer": "ipython3",
   "version": "3.10.6"
  },
  "toc": {
   "base_numbering": 1,
   "nav_menu": {},
   "number_sections": true,
   "sideBar": true,
   "skip_h1_title": false,
   "title_cell": "Table of Contents",
   "title_sidebar": "Contents",
   "toc_cell": false,
   "toc_position": {},
   "toc_section_display": true,
   "toc_window_display": true
  }
 },
 "nbformat": 4,
 "nbformat_minor": 5
}
