{
 "cells": [
  {
   "cell_type": "markdown",
   "id": "210a8145-c475-45c2-8090-4064ffa0b7db",
   "metadata": {},
   "source": [
    "# Measuring Cache Sizes and Latency"
   ]
  },
  {
   "cell_type": "markdown",
   "id": "bbe51f26-ddcb-408c-b193-d9fb0bd64c8a",
   "metadata": {},
   "source": [
    "Here's the Fiddle version of classic experiment to measure the size and latency of a system's caches."
   ]
  },
  {
   "cell_type": "code",
   "execution_count": null,
   "id": "27494fa2-d4e6-475e-8ae6-f378e5f47add",
   "metadata": {},
   "outputs": [],
   "source": [
    "from fiddle import *\n",
    "configure_for_jupyter()"
   ]
  },
  {
   "cell_type": "markdown",
   "id": "b857bec3-cfb3-4370-a219-d0d32f67c827",
   "metadata": {},
   "source": [
    "## Build A Randomize Circular Linked List\n",
    "\n",
    "Here's the source:"
   ]
  },
  {
   "cell_type": "code",
   "execution_count": 55,
   "id": "23edabd9-abbd-4aad-b253-9fcebf08083f",
   "metadata": {},
   "outputs": [
    {
     "data": {
      "application/vnd.jupyter.widget-view+json": {
       "model_id": "e0e59a30856644b0927ee6fef23be063",
       "version_major": 2,
       "version_minor": 0
      },
      "text/plain": [
       "  0%|          | 0/1 [00:00<?, ?it/s]"
      ]
     },
     "metadata": {},
     "output_type": "display_data"
    },
    {
     "data": {
      "text/html": [
       "<style>pre { line-height: 125%; }\n",
       "td.linenos .normal { color: inherit; background-color: transparent; padding-left: 5px; padding-right: 5px; }\n",
       "span.linenos { color: inherit; background-color: transparent; padding-left: 5px; padding-right: 5px; }\n",
       "td.linenos .special { color: #000000; background-color: #ffffc0; padding-left: 5px; padding-right: 5px; }\n",
       "span.linenos.special { color: #000000; background-color: #ffffc0; padding-left: 5px; padding-right: 5px; }\n",
       ".output_html .hll { background-color: #ffffcc }\n",
       ".output_html { background: #f8f8f8; }\n",
       ".output_html .c { color: #408080; font-style: italic } /* Comment */\n",
       ".output_html .err { border: 1px solid #FF0000 } /* Error */\n",
       ".output_html .k { color: #008000; font-weight: bold } /* Keyword */\n",
       ".output_html .o { color: #666666 } /* Operator */\n",
       ".output_html .ch { color: #408080; font-style: italic } /* Comment.Hashbang */\n",
       ".output_html .cm { color: #408080; font-style: italic } /* Comment.Multiline */\n",
       ".output_html .cp { color: #BC7A00 } /* Comment.Preproc */\n",
       ".output_html .cpf { color: #408080; font-style: italic } /* Comment.PreprocFile */\n",
       ".output_html .c1 { color: #408080; font-style: italic } /* Comment.Single */\n",
       ".output_html .cs { color: #408080; font-style: italic } /* Comment.Special */\n",
       ".output_html .gd { color: #A00000 } /* Generic.Deleted */\n",
       ".output_html .ge { font-style: italic } /* Generic.Emph */\n",
       ".output_html .gr { color: #FF0000 } /* Generic.Error */\n",
       ".output_html .gh { color: #000080; font-weight: bold } /* Generic.Heading */\n",
       ".output_html .gi { color: #00A000 } /* Generic.Inserted */\n",
       ".output_html .go { color: #888888 } /* Generic.Output */\n",
       ".output_html .gp { color: #000080; font-weight: bold } /* Generic.Prompt */\n",
       ".output_html .gs { font-weight: bold } /* Generic.Strong */\n",
       ".output_html .gu { color: #800080; font-weight: bold } /* Generic.Subheading */\n",
       ".output_html .gt { color: #0044DD } /* Generic.Traceback */\n",
       ".output_html .kc { color: #008000; font-weight: bold } /* Keyword.Constant */\n",
       ".output_html .kd { color: #008000; font-weight: bold } /* Keyword.Declaration */\n",
       ".output_html .kn { color: #008000; font-weight: bold } /* Keyword.Namespace */\n",
       ".output_html .kp { color: #008000 } /* Keyword.Pseudo */\n",
       ".output_html .kr { color: #008000; font-weight: bold } /* Keyword.Reserved */\n",
       ".output_html .kt { color: #B00040 } /* Keyword.Type */\n",
       ".output_html .m { color: #666666 } /* Literal.Number */\n",
       ".output_html .s { color: #BA2121 } /* Literal.String */\n",
       ".output_html .na { color: #7D9029 } /* Name.Attribute */\n",
       ".output_html .nb { color: #008000 } /* Name.Builtin */\n",
       ".output_html .nc { color: #0000FF; font-weight: bold } /* Name.Class */\n",
       ".output_html .no { color: #880000 } /* Name.Constant */\n",
       ".output_html .nd { color: #AA22FF } /* Name.Decorator */\n",
       ".output_html .ni { color: #999999; font-weight: bold } /* Name.Entity */\n",
       ".output_html .ne { color: #D2413A; font-weight: bold } /* Name.Exception */\n",
       ".output_html .nf { color: #0000FF } /* Name.Function */\n",
       ".output_html .nl { color: #A0A000 } /* Name.Label */\n",
       ".output_html .nn { color: #0000FF; font-weight: bold } /* Name.Namespace */\n",
       ".output_html .nt { color: #008000; font-weight: bold } /* Name.Tag */\n",
       ".output_html .nv { color: #19177C } /* Name.Variable */\n",
       ".output_html .ow { color: #AA22FF; font-weight: bold } /* Operator.Word */\n",
       ".output_html .w { color: #bbbbbb } /* Text.Whitespace */\n",
       ".output_html .mb { color: #666666 } /* Literal.Number.Bin */\n",
       ".output_html .mf { color: #666666 } /* Literal.Number.Float */\n",
       ".output_html .mh { color: #666666 } /* Literal.Number.Hex */\n",
       ".output_html .mi { color: #666666 } /* Literal.Number.Integer */\n",
       ".output_html .mo { color: #666666 } /* Literal.Number.Oct */\n",
       ".output_html .sa { color: #BA2121 } /* Literal.String.Affix */\n",
       ".output_html .sb { color: #BA2121 } /* Literal.String.Backtick */\n",
       ".output_html .sc { color: #BA2121 } /* Literal.String.Char */\n",
       ".output_html .dl { color: #BA2121 } /* Literal.String.Delimiter */\n",
       ".output_html .sd { color: #BA2121; font-style: italic } /* Literal.String.Doc */\n",
       ".output_html .s2 { color: #BA2121 } /* Literal.String.Double */\n",
       ".output_html .se { color: #BB6622; font-weight: bold } /* Literal.String.Escape */\n",
       ".output_html .sh { color: #BA2121 } /* Literal.String.Heredoc */\n",
       ".output_html .si { color: #BB6688; font-weight: bold } /* Literal.String.Interpol */\n",
       ".output_html .sx { color: #008000 } /* Literal.String.Other */\n",
       ".output_html .sr { color: #BB6688 } /* Literal.String.Regex */\n",
       ".output_html .s1 { color: #BA2121 } /* Literal.String.Single */\n",
       ".output_html .ss { color: #19177C } /* Literal.String.Symbol */\n",
       ".output_html .bp { color: #008000 } /* Name.Builtin.Pseudo */\n",
       ".output_html .fm { color: #0000FF } /* Name.Function.Magic */\n",
       ".output_html .vc { color: #19177C } /* Name.Variable.Class */\n",
       ".output_html .vg { color: #19177C } /* Name.Variable.Global */\n",
       ".output_html .vi { color: #19177C } /* Name.Variable.Instance */\n",
       ".output_html .vm { color: #19177C } /* Name.Variable.Magic */\n",
       ".output_html .il { color: #666666 } /* Literal.Number.Integer.Long */\n",
       "pre { line-height: 125%; }\n",
       "td.linenos .normal { color: inherit; background-color: transparent; padding-left: 5px; padding-right: 5px; }\n",
       "span.linenos { color: inherit; background-color: transparent; padding-left: 5px; padding-right: 5px; }\n",
       "td.linenos .special { color: #000000; background-color: #ffffc0; padding-left: 5px; padding-right: 5px; }\n",
       "span.linenos.special { color: #000000; background-color: #ffffc0; padding-left: 5px; padding-right: 5px; }\n",
       ".jp-RenderedHTML .hll { background-color: #ffffcc }\n",
       ".jp-RenderedHTML { background: #f8f8f8; }\n",
       ".jp-RenderedHTML .c { color: #408080; font-style: italic } /* Comment */\n",
       ".jp-RenderedHTML .err { border: 1px solid #FF0000 } /* Error */\n",
       ".jp-RenderedHTML .k { color: #008000; font-weight: bold } /* Keyword */\n",
       ".jp-RenderedHTML .o { color: #666666 } /* Operator */\n",
       ".jp-RenderedHTML .ch { color: #408080; font-style: italic } /* Comment.Hashbang */\n",
       ".jp-RenderedHTML .cm { color: #408080; font-style: italic } /* Comment.Multiline */\n",
       ".jp-RenderedHTML .cp { color: #BC7A00 } /* Comment.Preproc */\n",
       ".jp-RenderedHTML .cpf { color: #408080; font-style: italic } /* Comment.PreprocFile */\n",
       ".jp-RenderedHTML .c1 { color: #408080; font-style: italic } /* Comment.Single */\n",
       ".jp-RenderedHTML .cs { color: #408080; font-style: italic } /* Comment.Special */\n",
       ".jp-RenderedHTML .gd { color: #A00000 } /* Generic.Deleted */\n",
       ".jp-RenderedHTML .ge { font-style: italic } /* Generic.Emph */\n",
       ".jp-RenderedHTML .gr { color: #FF0000 } /* Generic.Error */\n",
       ".jp-RenderedHTML .gh { color: #000080; font-weight: bold } /* Generic.Heading */\n",
       ".jp-RenderedHTML .gi { color: #00A000 } /* Generic.Inserted */\n",
       ".jp-RenderedHTML .go { color: #888888 } /* Generic.Output */\n",
       ".jp-RenderedHTML .gp { color: #000080; font-weight: bold } /* Generic.Prompt */\n",
       ".jp-RenderedHTML .gs { font-weight: bold } /* Generic.Strong */\n",
       ".jp-RenderedHTML .gu { color: #800080; font-weight: bold } /* Generic.Subheading */\n",
       ".jp-RenderedHTML .gt { color: #0044DD } /* Generic.Traceback */\n",
       ".jp-RenderedHTML .kc { color: #008000; font-weight: bold } /* Keyword.Constant */\n",
       ".jp-RenderedHTML .kd { color: #008000; font-weight: bold } /* Keyword.Declaration */\n",
       ".jp-RenderedHTML .kn { color: #008000; font-weight: bold } /* Keyword.Namespace */\n",
       ".jp-RenderedHTML .kp { color: #008000 } /* Keyword.Pseudo */\n",
       ".jp-RenderedHTML .kr { color: #008000; font-weight: bold } /* Keyword.Reserved */\n",
       ".jp-RenderedHTML .kt { color: #B00040 } /* Keyword.Type */\n",
       ".jp-RenderedHTML .m { color: #666666 } /* Literal.Number */\n",
       ".jp-RenderedHTML .s { color: #BA2121 } /* Literal.String */\n",
       ".jp-RenderedHTML .na { color: #7D9029 } /* Name.Attribute */\n",
       ".jp-RenderedHTML .nb { color: #008000 } /* Name.Builtin */\n",
       ".jp-RenderedHTML .nc { color: #0000FF; font-weight: bold } /* Name.Class */\n",
       ".jp-RenderedHTML .no { color: #880000 } /* Name.Constant */\n",
       ".jp-RenderedHTML .nd { color: #AA22FF } /* Name.Decorator */\n",
       ".jp-RenderedHTML .ni { color: #999999; font-weight: bold } /* Name.Entity */\n",
       ".jp-RenderedHTML .ne { color: #D2413A; font-weight: bold } /* Name.Exception */\n",
       ".jp-RenderedHTML .nf { color: #0000FF } /* Name.Function */\n",
       ".jp-RenderedHTML .nl { color: #A0A000 } /* Name.Label */\n",
       ".jp-RenderedHTML .nn { color: #0000FF; font-weight: bold } /* Name.Namespace */\n",
       ".jp-RenderedHTML .nt { color: #008000; font-weight: bold } /* Name.Tag */\n",
       ".jp-RenderedHTML .nv { color: #19177C } /* Name.Variable */\n",
       ".jp-RenderedHTML .ow { color: #AA22FF; font-weight: bold } /* Operator.Word */\n",
       ".jp-RenderedHTML .w { color: #bbbbbb } /* Text.Whitespace */\n",
       ".jp-RenderedHTML .mb { color: #666666 } /* Literal.Number.Bin */\n",
       ".jp-RenderedHTML .mf { color: #666666 } /* Literal.Number.Float */\n",
       ".jp-RenderedHTML .mh { color: #666666 } /* Literal.Number.Hex */\n",
       ".jp-RenderedHTML .mi { color: #666666 } /* Literal.Number.Integer */\n",
       ".jp-RenderedHTML .mo { color: #666666 } /* Literal.Number.Oct */\n",
       ".jp-RenderedHTML .sa { color: #BA2121 } /* Literal.String.Affix */\n",
       ".jp-RenderedHTML .sb { color: #BA2121 } /* Literal.String.Backtick */\n",
       ".jp-RenderedHTML .sc { color: #BA2121 } /* Literal.String.Char */\n",
       ".jp-RenderedHTML .dl { color: #BA2121 } /* Literal.String.Delimiter */\n",
       ".jp-RenderedHTML .sd { color: #BA2121; font-style: italic } /* Literal.String.Doc */\n",
       ".jp-RenderedHTML .s2 { color: #BA2121 } /* Literal.String.Double */\n",
       ".jp-RenderedHTML .se { color: #BB6622; font-weight: bold } /* Literal.String.Escape */\n",
       ".jp-RenderedHTML .sh { color: #BA2121 } /* Literal.String.Heredoc */\n",
       ".jp-RenderedHTML .si { color: #BB6688; font-weight: bold } /* Literal.String.Interpol */\n",
       ".jp-RenderedHTML .sx { color: #008000 } /* Literal.String.Other */\n",
       ".jp-RenderedHTML .sr { color: #BB6688 } /* Literal.String.Regex */\n",
       ".jp-RenderedHTML .s1 { color: #BA2121 } /* Literal.String.Single */\n",
       ".jp-RenderedHTML .ss { color: #19177C } /* Literal.String.Symbol */\n",
       ".jp-RenderedHTML .bp { color: #008000 } /* Name.Builtin.Pseudo */\n",
       ".jp-RenderedHTML .fm { color: #0000FF } /* Name.Function.Magic */\n",
       ".jp-RenderedHTML .vc { color: #19177C } /* Name.Variable.Class */\n",
       ".jp-RenderedHTML .vg { color: #19177C } /* Name.Variable.Global */\n",
       ".jp-RenderedHTML .vi { color: #19177C } /* Name.Variable.Instance */\n",
       ".jp-RenderedHTML .vm { color: #19177C } /* Name.Variable.Magic */\n",
       ".jp-RenderedHTML .il { color: #666666 } /* Literal.Number.Integer.Long */</style><div class=\"highlight\"><pre><span></span><span class=\"cp\">#include</span><span class=\"cpf\">&quot;fiddle.hpp&quot;</span><span class=\"cp\"></span>\n",
       "<span class=\"cp\">#include</span><span class=\"cpf\">&lt;algorithm&gt;</span><span class=\"cp\"></span>\n",
       "<span class=\"w\">  </span>\n",
       "<span class=\"k\">struct</span> <span class=\"nc\">MM</span><span class=\"w\"> </span><span class=\"p\">{</span><span class=\"w\"></span>\n",
       "<span class=\"w\">    </span><span class=\"k\">struct</span> <span class=\"nc\">MM</span><span class=\"o\">*</span><span class=\"w\"> </span><span class=\"n\">next</span><span class=\"p\">;</span><span class=\"w\">  </span><span class=\"c1\">// Assume pointers are 8 bytes.</span>\n",
       "<span class=\"w\">    </span><span class=\"kt\">uint64_t</span><span class=\"w\"> </span><span class=\"n\">junk</span><span class=\"p\">[</span><span class=\"mi\">7</span><span class=\"p\">];</span><span class=\"w\"> </span><span class=\"c1\">// This forces the struct MM to take a up a whole cache line, abolishing spatial locality.</span>\n",
       "<span class=\"p\">};</span><span class=\"w\"></span>\n",
       "\n",
       "<span class=\"k\">extern</span><span class=\"w\"> </span><span class=\"s\">&quot;C&quot;</span><span class=\"w\"></span>\n",
       "<span class=\"k\">struct</span> <span class=\"nc\">MM</span><span class=\"w\"> </span><span class=\"o\">*</span><span class=\"w\"> </span><span class=\"n\">miss</span><span class=\"p\">(</span><span class=\"k\">struct</span> <span class=\"nc\">MM</span><span class=\"w\"> </span><span class=\"o\">*</span><span class=\"w\"> </span><span class=\"n\">start</span><span class=\"p\">,</span><span class=\"w\"> </span><span class=\"kt\">uint64_t</span><span class=\"w\"> </span><span class=\"n\">iterations</span><span class=\"p\">)</span><span class=\"w\"> </span><span class=\"p\">{</span><span class=\"w\"></span>\n",
       "<span class=\"w\">    </span><span class=\"c1\">// Here&#39;s the loop that does data-dependent misses.</span>\n",
       "<span class=\"w\">    </span><span class=\"k\">for</span><span class=\"p\">(</span><span class=\"kt\">uint64_t</span><span class=\"w\"> </span><span class=\"n\">i</span><span class=\"w\"> </span><span class=\"o\">=</span><span class=\"w\"> </span><span class=\"mi\">0</span><span class=\"p\">;</span><span class=\"w\"> </span><span class=\"n\">i</span><span class=\"w\"> </span><span class=\"o\">&lt;</span><span class=\"w\"> </span><span class=\"n\">iterations</span><span class=\"p\">;</span><span class=\"w\"> </span><span class=\"n\">i</span><span class=\"o\">++</span><span class=\"p\">)</span><span class=\"w\"> </span><span class=\"p\">{</span><span class=\"w\"> </span>\n",
       "<span class=\"w\">        </span><span class=\"n\">start</span><span class=\"w\"> </span><span class=\"o\">=</span><span class=\"w\"> </span><span class=\"n\">start</span><span class=\"o\">-&gt;</span><span class=\"n\">next</span><span class=\"p\">;</span><span class=\"w\"></span>\n",
       "<span class=\"w\">    </span><span class=\"p\">}</span><span class=\"w\"></span>\n",
       "<span class=\"w\">    </span><span class=\"k\">return</span><span class=\"w\"> </span><span class=\"n\">start</span><span class=\"p\">;</span><span class=\"w\"></span>\n",
       "<span class=\"p\">}</span><span class=\"w\"></span>\n",
       "\n",
       "\n",
       "<span class=\"k\">extern</span><span class=\"w\"> </span><span class=\"s\">&quot;C&quot;</span><span class=\"w\"></span>\n",
       "<span class=\"kt\">uint64_t</span><span class=\"w\"> </span><span class=\"n\">go</span><span class=\"p\">(</span><span class=\"kt\">int</span><span class=\"w\"> </span><span class=\"n\">working_set</span><span class=\"p\">,</span><span class=\"w\"> </span><span class=\"kt\">int</span><span class=\"w\"> </span><span class=\"n\">iterations</span><span class=\"p\">)</span><span class=\"w\"> </span><span class=\"p\">{</span><span class=\"w\"></span>\n",
       "\n",
       "<span class=\"w\">    </span><span class=\"c1\">// All this effort is to build a circular linked list that </span>\n",
       "<span class=\"w\">    </span><span class=\"c1\">// winds through memory in an unpredictable order.</span>\n",
       "<span class=\"w\">    </span><span class=\"kt\">unsigned</span><span class=\"w\"> </span><span class=\"kt\">int</span><span class=\"w\"> </span><span class=\"n\">array_size</span><span class=\"w\"> </span><span class=\"o\">=</span><span class=\"w\"> </span><span class=\"n\">working_set</span><span class=\"o\">/</span><span class=\"k\">sizeof</span><span class=\"p\">(</span><span class=\"n\">MM</span><span class=\"p\">);</span><span class=\"w\"></span>\n",
       "<span class=\"w\">    </span><span class=\"k\">auto</span><span class=\"w\"> </span><span class=\"n\">array</span><span class=\"w\"> </span><span class=\"o\">=</span><span class=\"w\"> </span><span class=\"k\">new</span><span class=\"w\"> </span><span class=\"k\">struct</span> <span class=\"nc\">MM</span><span class=\"p\">[</span><span class=\"n\">array_size</span><span class=\"p\">];</span><span class=\"w\"></span>\n",
       "<span class=\"w\">    </span>\n",
       "<span class=\"w\">    </span><span class=\"c1\">// This is clever part  &#39;index&#39; is going to determine where the pointers go.  We fill it consecutive integers.</span>\n",
       "<span class=\"w\">    </span><span class=\"n\">std</span><span class=\"o\">::</span><span class=\"n\">vector</span><span class=\"o\">&lt;</span><span class=\"kt\">uint64_t</span><span class=\"o\">&gt;</span><span class=\"w\"> </span><span class=\"n\">index</span><span class=\"p\">;</span><span class=\"w\"></span>\n",
       "<span class=\"w\">    </span><span class=\"k\">for</span><span class=\"p\">(</span><span class=\"kt\">uint64_t</span><span class=\"w\"> </span><span class=\"n\">i</span><span class=\"w\"> </span><span class=\"o\">=</span><span class=\"w\"> </span><span class=\"mi\">0</span><span class=\"p\">;</span><span class=\"w\"> </span><span class=\"n\">i</span><span class=\"w\"> </span><span class=\"o\">&lt;</span><span class=\"w\"> </span><span class=\"n\">array_size</span><span class=\"p\">;</span><span class=\"w\"> </span><span class=\"n\">i</span><span class=\"o\">++</span><span class=\"p\">)</span><span class=\"w\"> </span><span class=\"p\">{</span><span class=\"w\"></span>\n",
       "<span class=\"w\">        </span><span class=\"n\">index</span><span class=\"p\">.</span><span class=\"n\">push_back</span><span class=\"p\">(</span><span class=\"n\">i</span><span class=\"p\">);</span><span class=\"w\"></span>\n",
       "<span class=\"w\">    </span><span class=\"p\">}</span><span class=\"w\"></span>\n",
       "<span class=\"w\">    </span><span class=\"c1\">// Randomize the list of indexes.</span>\n",
       "<span class=\"w\">    </span><span class=\"n\">std</span><span class=\"o\">::</span><span class=\"n\">random_shuffle</span><span class=\"p\">(</span><span class=\"n\">index</span><span class=\"p\">.</span><span class=\"n\">begin</span><span class=\"p\">(),</span><span class=\"w\"> </span><span class=\"n\">index</span><span class=\"p\">.</span><span class=\"n\">end</span><span class=\"p\">());</span><span class=\"w\"></span>\n",
       "\n",
       "<span class=\"w\">    </span><span class=\"c1\">// Convert the indexes into pointers.</span>\n",
       "<span class=\"w\">    </span><span class=\"k\">for</span><span class=\"p\">(</span><span class=\"kt\">uint64_t</span><span class=\"w\"> </span><span class=\"n\">i</span><span class=\"w\"> </span><span class=\"o\">=</span><span class=\"w\"> </span><span class=\"mi\">0</span><span class=\"p\">;</span><span class=\"w\"> </span><span class=\"n\">i</span><span class=\"w\"> </span><span class=\"o\">&lt;</span><span class=\"w\"> </span><span class=\"n\">array_size</span><span class=\"p\">;</span><span class=\"w\"> </span><span class=\"n\">i</span><span class=\"o\">++</span><span class=\"p\">)</span><span class=\"w\"> </span><span class=\"p\">{</span><span class=\"w\"></span>\n",
       "<span class=\"w\">        </span><span class=\"n\">array</span><span class=\"p\">[</span><span class=\"n\">index</span><span class=\"p\">[</span><span class=\"n\">i</span><span class=\"p\">]].</span><span class=\"n\">next</span><span class=\"w\"> </span><span class=\"o\">=</span><span class=\"w\"> </span><span class=\"o\">&amp;</span><span class=\"n\">array</span><span class=\"p\">[</span><span class=\"n\">index</span><span class=\"p\">[(</span><span class=\"n\">i</span><span class=\"w\"> </span><span class=\"o\">+</span><span class=\"w\"> </span><span class=\"mi\">1</span><span class=\"p\">)</span><span class=\"w\"> </span><span class=\"o\">%</span><span class=\"w\"> </span><span class=\"n\">array_size</span><span class=\"p\">]];</span><span class=\"w\"> </span>\n",
       "<span class=\"w\">    </span><span class=\"p\">}</span><span class=\"w\"> </span>\n",
       "\n",
       "<span class=\"w\">    </span><span class=\"n\">MM</span><span class=\"w\"> </span><span class=\"o\">*</span><span class=\"w\"> </span><span class=\"n\">start</span><span class=\"w\"> </span><span class=\"o\">=</span><span class=\"w\"> </span><span class=\"o\">&amp;</span><span class=\"n\">array</span><span class=\"p\">[</span><span class=\"mi\">0</span><span class=\"p\">];</span><span class=\"w\"></span>\n",
       "\n",
       "<span class=\"w\">    </span><span class=\"n\">start_measurement</span><span class=\"p\">();</span><span class=\"w\"></span>\n",
       "<span class=\"w\">    </span><span class=\"n\">start</span><span class=\"w\"> </span><span class=\"o\">=</span><span class=\"w\"> </span><span class=\"n\">miss</span><span class=\"p\">(</span><span class=\"n\">start</span><span class=\"p\">,</span><span class=\"w\"> </span><span class=\"n\">iterations</span><span class=\"p\">);</span><span class=\"w\"></span>\n",
       "<span class=\"w\">    </span><span class=\"n\">end_measurement</span><span class=\"p\">();</span><span class=\"w\"></span>\n",
       "<span class=\"w\">    </span>\n",
       "<span class=\"w\">    </span><span class=\"k\">return</span><span class=\"w\"> </span><span class=\"k\">reinterpret_cast</span><span class=\"o\">&lt;</span><span class=\"kt\">uint64_t</span><span class=\"o\">&gt;</span><span class=\"p\">(</span><span class=\"n\">start</span><span class=\"p\">);</span><span class=\"w\"> </span><span class=\"c1\">// This is a garbage value, but it foils the optimizer.</span>\n",
       "<span class=\"p\">}</span><span class=\"w\"> </span>\n",
       "</pre></div>\n"
      ],
      "text/latex": [
       "\\begin{Verbatim}[commandchars=\\\\\\{\\}]\n",
       "\\PY{c+cp}{\\PYZsh{}}\\PY{c+cp}{include}\\PY{c+cpf}{\\PYZdq{}fiddle.hpp\\PYZdq{}}\n",
       "\\PY{c+cp}{\\PYZsh{}}\\PY{c+cp}{include}\\PY{c+cpf}{\\PYZlt{}algorithm\\PYZgt{}}\n",
       "\\PY{+w}{  }\n",
       "\\PY{k}{struct} \\PY{n+nc}{MM}\\PY{+w}{ }\\PY{p}{\\PYZob{}}\n",
       "\\PY{+w}{    }\\PY{k}{struct} \\PY{n+nc}{MM}\\PY{o}{*}\\PY{+w}{ }\\PY{n}{next}\\PY{p}{;}\\PY{+w}{  }\\PY{c+c1}{// Assume pointers are 8 bytes.}\n",
       "\\PY{+w}{    }\\PY{k+kt}{uint64\\PYZus{}t}\\PY{+w}{ }\\PY{n}{junk}\\PY{p}{[}\\PY{l+m+mi}{7}\\PY{p}{]}\\PY{p}{;}\\PY{+w}{ }\\PY{c+c1}{// This forces the struct MM to take a up a whole cache line, abolishing spatial locality.}\n",
       "\\PY{p}{\\PYZcb{}}\\PY{p}{;}\n",
       "\n",
       "\\PY{k}{extern}\\PY{+w}{ }\\PY{l+s}{\\PYZdq{}}\\PY{l+s}{C}\\PY{l+s}{\\PYZdq{}}\n",
       "\\PY{k}{struct} \\PY{n+nc}{MM}\\PY{+w}{ }\\PY{o}{*}\\PY{+w}{ }\\PY{n}{miss}\\PY{p}{(}\\PY{k}{struct} \\PY{n+nc}{MM}\\PY{+w}{ }\\PY{o}{*}\\PY{+w}{ }\\PY{n}{start}\\PY{p}{,}\\PY{+w}{ }\\PY{k+kt}{uint64\\PYZus{}t}\\PY{+w}{ }\\PY{n}{iterations}\\PY{p}{)}\\PY{+w}{ }\\PY{p}{\\PYZob{}}\n",
       "\\PY{+w}{    }\\PY{c+c1}{// Here\\PYZsq{}s the loop that does data\\PYZhy{}dependent misses.}\n",
       "\\PY{+w}{    }\\PY{k}{for}\\PY{p}{(}\\PY{k+kt}{uint64\\PYZus{}t}\\PY{+w}{ }\\PY{n}{i}\\PY{+w}{ }\\PY{o}{=}\\PY{+w}{ }\\PY{l+m+mi}{0}\\PY{p}{;}\\PY{+w}{ }\\PY{n}{i}\\PY{+w}{ }\\PY{o}{\\PYZlt{}}\\PY{+w}{ }\\PY{n}{iterations}\\PY{p}{;}\\PY{+w}{ }\\PY{n}{i}\\PY{o}{+}\\PY{o}{+}\\PY{p}{)}\\PY{+w}{ }\\PY{p}{\\PYZob{}}\\PY{+w}{ }\n",
       "\\PY{+w}{        }\\PY{n}{start}\\PY{+w}{ }\\PY{o}{=}\\PY{+w}{ }\\PY{n}{start}\\PY{o}{\\PYZhy{}}\\PY{o}{\\PYZgt{}}\\PY{n}{next}\\PY{p}{;}\n",
       "\\PY{+w}{    }\\PY{p}{\\PYZcb{}}\n",
       "\\PY{+w}{    }\\PY{k}{return}\\PY{+w}{ }\\PY{n}{start}\\PY{p}{;}\n",
       "\\PY{p}{\\PYZcb{}}\n",
       "\n",
       "\n",
       "\\PY{k}{extern}\\PY{+w}{ }\\PY{l+s}{\\PYZdq{}}\\PY{l+s}{C}\\PY{l+s}{\\PYZdq{}}\n",
       "\\PY{k+kt}{uint64\\PYZus{}t}\\PY{+w}{ }\\PY{n}{go}\\PY{p}{(}\\PY{k+kt}{int}\\PY{+w}{ }\\PY{n}{working\\PYZus{}set}\\PY{p}{,}\\PY{+w}{ }\\PY{k+kt}{int}\\PY{+w}{ }\\PY{n}{iterations}\\PY{p}{)}\\PY{+w}{ }\\PY{p}{\\PYZob{}}\n",
       "\n",
       "\\PY{+w}{    }\\PY{c+c1}{// All this effort is to build a circular linked list that }\n",
       "\\PY{+w}{    }\\PY{c+c1}{// winds through memory in an unpredictable order.}\n",
       "\\PY{+w}{    }\\PY{k+kt}{unsigned}\\PY{+w}{ }\\PY{k+kt}{int}\\PY{+w}{ }\\PY{n}{array\\PYZus{}size}\\PY{+w}{ }\\PY{o}{=}\\PY{+w}{ }\\PY{n}{working\\PYZus{}set}\\PY{o}{/}\\PY{k}{sizeof}\\PY{p}{(}\\PY{n}{MM}\\PY{p}{)}\\PY{p}{;}\n",
       "\\PY{+w}{    }\\PY{k}{auto}\\PY{+w}{ }\\PY{n}{array}\\PY{+w}{ }\\PY{o}{=}\\PY{+w}{ }\\PY{k}{new}\\PY{+w}{ }\\PY{k}{struct} \\PY{n+nc}{MM}\\PY{p}{[}\\PY{n}{array\\PYZus{}size}\\PY{p}{]}\\PY{p}{;}\n",
       "\\PY{+w}{    }\n",
       "\\PY{+w}{    }\\PY{c+c1}{// This is clever part  \\PYZsq{}index\\PYZsq{} is going to determine where the pointers go.  We fill it consecutive integers.}\n",
       "\\PY{+w}{    }\\PY{n}{std}\\PY{o}{:}\\PY{o}{:}\\PY{n}{vector}\\PY{o}{\\PYZlt{}}\\PY{k+kt}{uint64\\PYZus{}t}\\PY{o}{\\PYZgt{}}\\PY{+w}{ }\\PY{n}{index}\\PY{p}{;}\n",
       "\\PY{+w}{    }\\PY{k}{for}\\PY{p}{(}\\PY{k+kt}{uint64\\PYZus{}t}\\PY{+w}{ }\\PY{n}{i}\\PY{+w}{ }\\PY{o}{=}\\PY{+w}{ }\\PY{l+m+mi}{0}\\PY{p}{;}\\PY{+w}{ }\\PY{n}{i}\\PY{+w}{ }\\PY{o}{\\PYZlt{}}\\PY{+w}{ }\\PY{n}{array\\PYZus{}size}\\PY{p}{;}\\PY{+w}{ }\\PY{n}{i}\\PY{o}{+}\\PY{o}{+}\\PY{p}{)}\\PY{+w}{ }\\PY{p}{\\PYZob{}}\n",
       "\\PY{+w}{        }\\PY{n}{index}\\PY{p}{.}\\PY{n}{push\\PYZus{}back}\\PY{p}{(}\\PY{n}{i}\\PY{p}{)}\\PY{p}{;}\n",
       "\\PY{+w}{    }\\PY{p}{\\PYZcb{}}\n",
       "\\PY{+w}{    }\\PY{c+c1}{// Randomize the list of indexes.}\n",
       "\\PY{+w}{    }\\PY{n}{std}\\PY{o}{:}\\PY{o}{:}\\PY{n}{random\\PYZus{}shuffle}\\PY{p}{(}\\PY{n}{index}\\PY{p}{.}\\PY{n}{begin}\\PY{p}{(}\\PY{p}{)}\\PY{p}{,}\\PY{+w}{ }\\PY{n}{index}\\PY{p}{.}\\PY{n}{end}\\PY{p}{(}\\PY{p}{)}\\PY{p}{)}\\PY{p}{;}\n",
       "\n",
       "\\PY{+w}{    }\\PY{c+c1}{// Convert the indexes into pointers.}\n",
       "\\PY{+w}{    }\\PY{k}{for}\\PY{p}{(}\\PY{k+kt}{uint64\\PYZus{}t}\\PY{+w}{ }\\PY{n}{i}\\PY{+w}{ }\\PY{o}{=}\\PY{+w}{ }\\PY{l+m+mi}{0}\\PY{p}{;}\\PY{+w}{ }\\PY{n}{i}\\PY{+w}{ }\\PY{o}{\\PYZlt{}}\\PY{+w}{ }\\PY{n}{array\\PYZus{}size}\\PY{p}{;}\\PY{+w}{ }\\PY{n}{i}\\PY{o}{+}\\PY{o}{+}\\PY{p}{)}\\PY{+w}{ }\\PY{p}{\\PYZob{}}\n",
       "\\PY{+w}{        }\\PY{n}{array}\\PY{p}{[}\\PY{n}{index}\\PY{p}{[}\\PY{n}{i}\\PY{p}{]}\\PY{p}{]}\\PY{p}{.}\\PY{n}{next}\\PY{+w}{ }\\PY{o}{=}\\PY{+w}{ }\\PY{o}{\\PYZam{}}\\PY{n}{array}\\PY{p}{[}\\PY{n}{index}\\PY{p}{[}\\PY{p}{(}\\PY{n}{i}\\PY{+w}{ }\\PY{o}{+}\\PY{+w}{ }\\PY{l+m+mi}{1}\\PY{p}{)}\\PY{+w}{ }\\PY{o}{\\PYZpc{}}\\PY{+w}{ }\\PY{n}{array\\PYZus{}size}\\PY{p}{]}\\PY{p}{]}\\PY{p}{;}\\PY{+w}{ }\n",
       "\\PY{+w}{    }\\PY{p}{\\PYZcb{}}\\PY{+w}{ }\n",
       "\n",
       "\\PY{+w}{    }\\PY{n}{MM}\\PY{+w}{ }\\PY{o}{*}\\PY{+w}{ }\\PY{n}{start}\\PY{+w}{ }\\PY{o}{=}\\PY{+w}{ }\\PY{o}{\\PYZam{}}\\PY{n}{array}\\PY{p}{[}\\PY{l+m+mi}{0}\\PY{p}{]}\\PY{p}{;}\n",
       "\n",
       "\\PY{+w}{    }\\PY{n}{start\\PYZus{}measurement}\\PY{p}{(}\\PY{p}{)}\\PY{p}{;}\n",
       "\\PY{+w}{    }\\PY{n}{start}\\PY{+w}{ }\\PY{o}{=}\\PY{+w}{ }\\PY{n}{miss}\\PY{p}{(}\\PY{n}{start}\\PY{p}{,}\\PY{+w}{ }\\PY{n}{iterations}\\PY{p}{)}\\PY{p}{;}\n",
       "\\PY{+w}{    }\\PY{n}{end\\PYZus{}measurement}\\PY{p}{(}\\PY{p}{)}\\PY{p}{;}\n",
       "\\PY{+w}{    }\n",
       "\\PY{+w}{    }\\PY{k}{return}\\PY{+w}{ }\\PY{k}{reinterpret\\PYZus{}cast}\\PY{o}{\\PYZlt{}}\\PY{k+kt}{uint64\\PYZus{}t}\\PY{o}{\\PYZgt{}}\\PY{p}{(}\\PY{n}{start}\\PY{p}{)}\\PY{p}{;}\\PY{+w}{ }\\PY{c+c1}{// This is a garbage value, but it foils the optimizer.}\n",
       "\\PY{p}{\\PYZcb{}}\\PY{+w}{ }\n",
       "\\end{Verbatim}\n"
      ],
      "text/plain": [
       "#include\"fiddle.hpp\"\n",
       "#include<algorithm>\n",
       "  \n",
       "struct MM {\n",
       "    struct MM* next;  // Assume pointers are 8 bytes.\n",
       "    uint64_t junk[7]; // This forces the struct MM to take a up a whole cache line, abolishing spatial locality.\n",
       "};\n",
       "\n",
       "extern \"C\"\n",
       "struct MM * miss(struct MM * start, uint64_t iterations) {\n",
       "    // Here's the loop that does data-dependent misses.\n",
       "    for(uint64_t i = 0; i < iterations; i++) { \n",
       "        start = start->next;\n",
       "    }\n",
       "    return start;\n",
       "}\n",
       "\n",
       "\n",
       "extern \"C\"\n",
       "uint64_t go(int working_set, int iterations) {\n",
       "\n",
       "    // All this effort is to build a circular linked list that \n",
       "    // winds through memory in an unpredictable order.\n",
       "    unsigned int array_size = working_set/sizeof(MM);\n",
       "    auto array = new struct MM[array_size];\n",
       "    \n",
       "    // This is clever part  'index' is going to determine where the pointers go.  We fill it consecutive integers.\n",
       "    std::vector<uint64_t> index;\n",
       "    for(uint64_t i = 0; i < array_size; i++) {\n",
       "        index.push_back(i);\n",
       "    }\n",
       "    // Randomize the list of indexes.\n",
       "    std::random_shuffle(index.begin(), index.end());\n",
       "\n",
       "    // Convert the indexes into pointers.\n",
       "    for(uint64_t i = 0; i < array_size; i++) {\n",
       "        array[index[i]].next = &array[index[(i + 1) % array_size]]; \n",
       "    } \n",
       "\n",
       "    MM * start = &array[0];\n",
       "\n",
       "    start_measurement();\n",
       "    start = miss(start, iterations);\n",
       "    end_measurement();\n",
       "    \n",
       "    return reinterpret_cast<uint64_t>(start); // This is a garbage value, but it foils the optimizer.\n",
       "} "
      ]
     },
     "execution_count": 55,
     "metadata": {},
     "output_type": "execute_result"
    }
   ],
   "source": [
    "exe = build(\"misses/misses.cpp\", map_product(OPTIMIZE=\"-O3\"))\n",
    "exe[0].source()"
   ]
  },
  {
   "cell_type": "markdown",
   "id": "2c494045-998a-4f04-82fc-d0e5e9c08c49",
   "metadata": {},
   "source": [
    "## Check The Assembly\n",
    "\n",
    "As you can see, this loop in `miss()` can't get much shorter, and the `movq` is not dependent on anything but itself.  Since the `movq` will be the longest-latency instruction and the processor is out-of-order, the latency should be solely determined by the `movq` latency.\n",
    "\n",
    "Having easy access to the assembly makes it easy to verify that our latency measurements will mean what we want them to."
   ]
  },
  {
   "cell_type": "code",
   "execution_count": 56,
   "id": "6a0bc129-4fa0-4e85-940a-d56c3542be7a",
   "metadata": {},
   "outputs": [
    {
     "name": "stderr",
     "output_type": "stream",
     "text": [
      "Warning: run r2 with -e bin.cache=true to fix relocations in disassembly\n"
     ]
    },
    {
     "data": {
      "image/svg+xml": [
       "<svg xmlns=\"http://www.w3.org/2000/svg\" xmlns:xlink=\"http://www.w3.org/1999/xlink\" width=\"428pt\" height=\"464pt\" viewBox=\"0.00 0.00 428.00 464.00\">\n",
       "<g id=\"graph0\" class=\"graph\" transform=\"scale(1 1) rotate(0) translate(4 460)\">\n",
       "<title>code</title>\n",
       "<polygon fill=\"white\" stroke=\"transparent\" points=\"-4,4 -4,-460 424,-460 424,4 -4,4\"/>\n",
       "<!-- 0x000037b0 -->\n",
       "<g id=\"node1\" class=\"node\">\n",
       "<title>0x000037b0</title>\n",
       "<g id=\"a_node1\"><a xlink:href=\"fcn.37b0/0x000037b0\" xlink:title=\"  ;-- miss:\\l29: fcn.37b0 ();\\l      endbr64\\l      movq %rdi, %rax\\l      testq %rsi, %rsi\\l      je 0x37cc\\l\">\n",
       "<polygon fill=\"white\" stroke=\"#767676\" points=\"348,-456 150,-456 150,-358 348,-358 348,-456\"/>\n",
       "<text text-anchor=\"start\" x=\"158\" y=\"-440.8\" font-family=\"Courier,monospace\" font-size=\"14.00\">  ;-- miss:</text>\n",
       "<text text-anchor=\"start\" x=\"158\" y=\"-425.8\" font-family=\"Courier,monospace\" font-size=\"14.00\">29: fcn.37b0 ();</text>\n",
       "<text text-anchor=\"start\" x=\"158\" y=\"-410.8\" font-family=\"Courier,monospace\" font-size=\"14.00\">      endbr64</text>\n",
       "<text text-anchor=\"start\" x=\"158\" y=\"-395.8\" font-family=\"Courier,monospace\" font-size=\"14.00\">      movq %rdi, %rax</text>\n",
       "<text text-anchor=\"start\" x=\"158\" y=\"-380.8\" font-family=\"Courier,monospace\" font-size=\"14.00\">      testq %rsi, %rsi</text>\n",
       "<text text-anchor=\"start\" x=\"158\" y=\"-365.8\" font-family=\"Courier,monospace\" font-size=\"14.00\">      je 0x37cc</text>\n",
       "</a>\n",
       "</g>\n",
       "</g>\n",
       "<!-- 0x000037bc -->\n",
       "<g id=\"node2\" class=\"node\">\n",
       "<title>0x000037bc</title>\n",
       "<g id=\"a_node2\"><a xlink:href=\"fcn.37b0/0x000037bc\" xlink:title=\"      xorl %edx, %edx\\l      nop\\l\">\n",
       "<polygon fill=\"white\" stroke=\"#767676\" points=\"283,-286 93,-286 93,-248 283,-248 283,-286\"/>\n",
       "<text text-anchor=\"start\" x=\"101\" y=\"-270.8\" font-family=\"Courier,monospace\" font-size=\"14.00\">      xorl %edx, %edx</text>\n",
       "<text text-anchor=\"start\" x=\"101\" y=\"-255.8\" font-family=\"Courier,monospace\" font-size=\"14.00\">      nop</text>\n",
       "</a>\n",
       "</g>\n",
       "</g>\n",
       "<!-- 0x000037b0&#45;&gt;0x000037bc -->\n",
       "<g id=\"edge2\" class=\"edge\">\n",
       "<title>0x000037b0-&gt;0x000037bc</title>\n",
       "<path fill=\"none\" stroke=\"#c50f1f\" d=\"M227.67,-357.73C218.45,-336.88 208,-313.24 200.14,-295.46\"/>\n",
       "<polygon fill=\"#c50f1f\" stroke=\"#c50f1f\" points=\"203.31,-293.97 196.06,-286.24 196.9,-296.8 203.31,-293.97\"/>\n",
       "</g>\n",
       "<!-- 0x000037cc -->\n",
       "<g id=\"node4\" class=\"node\">\n",
       "<title>0x000037cc</title>\n",
       "<g id=\"a_node4\"><a xlink:href=\"fcn.37b0/0x000037cc\" xlink:title=\"      retq\\l\">\n",
       "<polygon fill=\"white\" stroke=\"#767676\" points=\"224.5,-36 125.5,-36 125.5,0 224.5,0 224.5,-36\"/>\n",
       "<text text-anchor=\"start\" x=\"133.5\" y=\"-14.3\" font-family=\"Courier,monospace\" font-size=\"14.00\">      retq</text>\n",
       "</a>\n",
       "</g>\n",
       "</g>\n",
       "<!-- 0x000037b0&#45;&gt;0x000037cc -->\n",
       "<g id=\"edge1\" class=\"edge\">\n",
       "<title>0x000037b0-&gt;0x000037cc</title>\n",
       "<path fill=\"none\" stroke=\"#13a10e\" d=\"M276.24,-357.74C306.97,-296.33 347.48,-188.56 305,-108 288.77,-77.22 256.56,-55.05 228.27,-40.54\"/>\n",
       "<polygon fill=\"#13a10e\" stroke=\"#13a10e\" points=\"229.76,-37.37 219.24,-36.09 226.67,-43.65 229.76,-37.37\"/>\n",
       "</g>\n",
       "<!-- 0x000037c0 -->\n",
       "<g id=\"node3\" class=\"node\">\n",
       "<title>0x000037c0</title>\n",
       "<g id=\"a_node3\"><a xlink:href=\"fcn.37b0/0x000037c0\" xlink:title=\"      addq $1, %rdx\\l      movq (%rax), %rax\\l      cmpq %rdx, %rsi\\l      jne 0x37c0\\l\">\n",
       "<polygon fill=\"white\" stroke=\"#767676\" points=\"278,-176 72,-176 72,-108 278,-108 278,-176\"/>\n",
       "<text text-anchor=\"start\" x=\"80\" y=\"-160.8\" font-family=\"Courier,monospace\" font-size=\"14.00\">      addq $1, %rdx</text>\n",
       "<text text-anchor=\"start\" x=\"80\" y=\"-145.8\" font-family=\"Courier,monospace\" font-size=\"14.00\">      movq (%rax), %rax</text>\n",
       "<text text-anchor=\"start\" x=\"80\" y=\"-130.8\" font-family=\"Courier,monospace\" font-size=\"14.00\">      cmpq %rdx, %rsi</text>\n",
       "<text text-anchor=\"start\" x=\"80\" y=\"-115.8\" font-family=\"Courier,monospace\" font-size=\"14.00\">      jne 0x37c0</text>\n",
       "</a>\n",
       "</g>\n",
       "</g>\n",
       "<!-- 0x000037bc&#45;&gt;0x000037c0 -->\n",
       "<g id=\"edge3\" class=\"edge\">\n",
       "<title>0x000037bc-&gt;0x000037c0</title>\n",
       "<path fill=\"none\" stroke=\"#3a96dd\" d=\"M186.08,-247.85C184.37,-231.66 181.8,-207.3 179.56,-186.14\"/>\n",
       "<polygon fill=\"#3a96dd\" stroke=\"#3a96dd\" points=\"183.03,-185.63 178.49,-176.06 176.06,-186.37 183.03,-185.63\"/>\n",
       "</g>\n",
       "<!-- 0x000037c0&#45;&gt;0x000037c0 -->\n",
       "<g id=\"edge5\" class=\"edge\">\n",
       "<title>0x000037c0:s-&gt;0x000037c0:n</title>\n",
       "<path fill=\"none\" stroke=\"black\" d=\"M175,-108C215.33,-77 296,-77 296,-142 296,-202.68 225.69,-206.71 183.53,-181.76\"/>\n",
       "<polygon fill=\"black\" stroke=\"black\" points=\"185.25,-178.69 175,-176 181.33,-184.49 185.25,-178.69\"/>\n",
       "</g>\n",
       "<!-- 0x000037c0&#45;&gt;0x000037cc -->\n",
       "<g id=\"edge4\" class=\"edge\">\n",
       "<title>0x000037c0-&gt;0x000037cc</title>\n",
       "<path fill=\"none\" stroke=\"#c50f1f\" d=\"M175,-107.99C175,-88.73 175,-64.72 175,-46.49\"/>\n",
       "<polygon fill=\"#c50f1f\" stroke=\"#c50f1f\" points=\"178.5,-46.25 175,-36.25 171.5,-46.25 178.5,-46.25\"/>\n",
       "</g>\n",
       "<!-- \\n -->\n",
       "<g id=\"node5\" class=\"node\">\n",
       "<title>\\n</title>\n",
       "<polygon fill=\"gray\" stroke=\"black\" points=\"420,-425 366,-425 366,-389 420,-389 420,-425\"/>\n",
       "</g>\n",
       "<!-- rank0 -->\n",
       "<!-- rank0&#45;&gt;0x000037c0 -->\n",
       "<!-- rank1 -->\n",
       "<!-- rank0&#45;&gt;rank1 -->\n",
       "<g id=\"edge8\" class=\"edge\">\n",
       "<title>rank0-&gt;rank1</title>\n",
       "<path fill=\"none\" stroke=\"white\" d=\"M30.81,-123.78C35.29,-103.52 42.79,-69.66 48.04,-45.93\"/>\n",
       "<polygon fill=\"white\" stroke=\"white\" points=\"51.46,-46.65 50.21,-36.13 44.63,-45.14 51.46,-46.65\"/>\n",
       "</g>\n",
       "<!-- rank1&#45;&gt;0x000037cc -->\n",
       "</g>\n",
       "</svg>"
      ],
      "text/plain": [
       "<IPython.core.display.SVG object>"
      ]
     },
     "execution_count": 56,
     "metadata": {},
     "output_type": "execute_result"
    }
   ],
   "source": [
    "exe[0].cfg(\"miss\")"
   ]
  },
  {
   "cell_type": "markdown",
   "id": "e76c6e6d-9854-4da9-95bd-6429b82205a3",
   "metadata": {},
   "source": [
    "## Measure Performance for Varying Working Set Sizes"
   ]
  },
  {
   "cell_type": "code",
   "execution_count": 46,
   "id": "2a330214-77be-49ef-8051-fcea87445663",
   "metadata": {},
   "outputs": [
    {
     "data": {
      "application/vnd.jupyter.widget-view+json": {
       "model_id": "0683d775f22e4b0dae1ccadf85cf6539",
       "version_major": 2,
       "version_minor": 0
      },
      "text/plain": [
       "  0%|          | 0/25 [00:00<?, ?it/s]"
      ]
     },
     "metadata": {},
     "output_type": "display_data"
    }
   ],
   "source": [
    "results = run(exe, \"go\", map_product(working_set=exp_range(1024, 1024*1024*4, 2**0.5), \n",
    "                                     iterations=100000000))\n",
    "df = results.as_df()"
   ]
  },
  {
   "cell_type": "markdown",
   "id": "5267e7df-d4ed-47cf-ac03-6eab2f98cbe9",
   "metadata": {},
   "source": [
    "## Graph it!"
   ]
  },
  {
   "cell_type": "code",
   "execution_count": 50,
   "id": "68939739-9346-47f0-ab84-ef0fb38e1490",
   "metadata": {},
   "outputs": [
    {
     "data": {
      "text/plain": [
       "<AxesSubplot:xlabel='working_set', ylabel='ns/access'>"
      ]
     },
     "execution_count": 50,
     "metadata": {},
     "output_type": "execute_result"
    },
    {
     "data": {
      "image/png": "[encoded data removed]",
      "text/plain": [
       "<Figure size 432x288 with 1 Axes>"
      ]
     },
     "metadata": {
      "needs_background": "light"
     },
     "output_type": "display_data"
    }
   ],
   "source": [
    "df['ns/access'] = df[\"ET\"]/df[\"iterations\"]*1e9\n",
    "df.plot.line(y=\"ns/access\", x=\"working_set\", ylabel=\"ns/access\", logx=True, logy=False)"
   ]
  },
  {
   "cell_type": "markdown",
   "id": "f98b4ca0-14d4-41d4-a6d2-8a3be41e1a5c",
   "metadata": {},
   "source": [
    "## Measure In Cycles\n",
    "\n",
    "If you performance counters work on your system, you can measure latency in cycles as well:"
   ]
  },
  {
   "cell_type": "code",
   "execution_count": 63,
   "id": "7013dd33-b3eb-4515-b74b-d468361dd0fd",
   "metadata": {},
   "outputs": [
    {
     "data": {
      "application/vnd.jupyter.widget-view+json": {
       "model_id": "4afbc619678c411e9be4355bb61075d6",
       "version_major": 2,
       "version_minor": 0
      },
      "text/plain": [
       "  0%|          | 0/25 [00:00<?, ?it/s]"
      ]
     },
     "metadata": {},
     "output_type": "display_data"
    },
    {
     "data": {
      "text/plain": [
       "<AxesSubplot:xlabel='working_set', ylabel='cycles/access'>"
      ]
     },
     "execution_count": 63,
     "metadata": {},
     "output_type": "execute_result"
    },
    {
     "data": {
      "image/png": "[encoded data removed]",
      "text/plain": [
       "<Figure size 432x288 with 1 Axes>"
      ]
     },
     "metadata": {
      "needs_background": "light"
     },
     "output_type": "display_data"
    }
   ],
   "source": [
    "from fiddle.perfcount import *\n",
    "results = run(exe, \"go\", map_product(working_set=exp_range(1024, 1024*1024*4, 2**0.5), \n",
    "                                     iterations=100000000),\n",
    "                         perf_counters=[CPU_CYCLES])\n",
    "df = results.as_df()\n",
    "df['cycles/access'] = df[\"CPU_CYCLES\"]/df[\"iterations\"]\n",
    "df.plot.line(y=\"cycles/access\", x=\"working_set\", ylabel=\"cycles/access\", logx=True, logy=False)"
   ]
  }
 ],
 "metadata": {
  "kernelspec": {
   "display_name": "Python 3 (ipykernel)",
   "language": "python",
   "name": "python3"
  },
  "language_info": {
   "codemirror_mode": {
    "name": "ipython",
    "version": 3
   },
   "file_extension": ".py",
   "mimetype": "text/x-python",
   "name": "python",
   "nbconvert_exporter": "python",
   "pygments_lexer": "ipython3",
   "version": "3.9.7"
  }
 },
 "nbformat": 4,
 "nbformat_minor": 5
}
